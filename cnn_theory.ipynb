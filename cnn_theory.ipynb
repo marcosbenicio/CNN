{
 "cells": [
  {
   "cell_type": "code",
   "execution_count": 30,
   "metadata": {},
   "outputs": [],
   "source": [
    "import numpy as np\n",
    "from scipy.signal import convolve\n",
    "from scipy.signal import convolve2d\n",
    "\n",
    "from imageio import imread\n",
    "import matplotlib.pyplot as plt\n",
    "from IPython import display\n",
    "#display.set_matplotlib_formats('svg')"
   ]
  },
  {
   "attachments": {},
   "cell_type": "markdown",
   "metadata": {},
   "source": [
    "# 1. Convolutional Neural Network (CNN) - Theory"
   ]
  },
  {
   "attachments": {},
   "cell_type": "markdown",
   "metadata": {},
   "source": [
    "A Convolution Neural Network (CNN) is essentially a localized and sparse feedfoward Multi-Layer Perceptron (MLP) that is designed to exploit spatial and/or temporal structure in the input data. Both MLP and CNN have some similarities that is described bellow:\n",
    "\n",
    "1. Both use layers of neurons that are connected to each other with learnable weights. These weights are adjusted during training to optimize the network's performance on a specific task.\n",
    "\n",
    "2. Both can be used for classification tasks, such as image classification, text classification, or speech recognition.\n",
    "\n",
    "3. Both can use activation functions, such as ReLU, to introduce non-linearities into the network and improve its ability to learn complex patterns in the data.\n",
    "\n",
    "4. Both MLPs and CNNs can be trained using backpropagation, which is an optimization algorithm that computes the gradient of the network's error with respect to its weights and uses this gradient to update the weights.\n",
    "\n",
    "However, there are also some important differences between MLPs and CNNs:\n",
    "\n",
    "1. MLPs are typically used for tasks that involve processing vector data, such as images that have been flattened into a 1D vector. CNNs, on the other hand, are specifically designed for tasks that involve processing multidimensional data, such as images or video.\n",
    "\n",
    "2. CNNs use specialized layers, such as convolutional layers, pooling layers, and upsampling layers, that are optimized for processing spatial and temporal data. These layers allow the network to learn features that are invariant to translation, rotation, and scale, which is important for tasks such as image recognition.\n",
    "\n",
    "3. CNNs can learn hierarchical representations of the input data by using multiple convolutional layers, each of which learns increasingly abstract and complex features. MLPs, on the other hand, typically use a single layer or a few layers of fully connected neurons to learn features of the input data.\n",
    "\n",
    "In summary, while MLPs and CNNs share some similarities in terms of their architecture and training methods, CNNs are specifically designed for processing multidimensional data and have specialized layers that allow them to learn hierarchical representations of the input data."
   ]
  },
  {
   "attachments": {},
   "cell_type": "markdown",
   "metadata": {},
   "source": [
    "## **1.1 Convolutions**\n",
    "\n",
    "Convolution is a mathematical operation that involves sliding a small matrix called a kernel or filter over the input data, such as an image, and computing the dot product between the kernel and each small region of the input data. The output of this operation is a new matrix, **called a feature map**, which contains information about the presence or absence of specific features in the input data.\n",
    "\n"
   ]
  },
  {
   "attachments": {},
   "cell_type": "markdown",
   "metadata": {},
   "source": [
    "### **1.1.1 One Dimension**\n",
    "\n",
    "Operation that combine two sequences of numbers into a single sequence. It involves sliding one of the sequences (usually the smaller one) over the other one and multiplying the values at each corresponding position, and then adding up the results to get a new sequence.\n"
   ]
  },
  {
   "attachments": {},
   "cell_type": "markdown",
   "metadata": {},
   "source": [
    "Let $\\vec{X}$ be an input signal vector with $n$ points and $\\vec{W}$ be a vector of weights called 1D filter, with $k \\leq n$. Here $k$ is also known as **window size**.\n",
    "$$\n",
    "\\vec{X} =\n",
    "\\left( \\begin{array}{c}\n",
    "x_{1}\\\\\n",
    "x_{2}\\\\\n",
    "\\vdots\\\\\n",
    "x_{n}\n",
    "\\end{array} \\right), ~~~~\n",
    "\\vec{W} =\n",
    "\\left( \\begin{array}{c}\n",
    "w_{1}\\\\\n",
    "w_{2}\\\\\n",
    "\\vdots\\\\\n",
    "w_{k}\n",
    "\\end{array} \\right)\n",
    "$$\n",
    "\n",
    "The window size refers to the size of the kernel or filter that is applied to the input. The window size determines the extent of the local neighborhood that is used for the computation of each output value. Following this idea is necessary define a subvector of $\\vec{X}$ with same size as the filter. Let $\\vec{X}_k(i)$ denote the window of $\\vec{X}$ of length $k$ at starting position  $i$ \n",
    "\n",
    "$$\\vec{X}_k(i) = \\left( \\begin{array}{c}\n",
    "x_i \\\\\n",
    "x_{i+1} \\\\\n",
    "\\vdots\\\\\n",
    "x_{i+k-1} \n",
    "\\end{array} \\right)$$\n",
    "\n",
    "as for $k \\leq n$, here $i+k-1 \\leq n$, that implies $1 \\leq i \\leq n-k+1$. As a sanity test, if the initial position start at $i =  n-k+1$, then the final position is $i+k-1 = n$. Calculating the total number of points, given by the difference between the last point position and the initial point position, the window size is $n - i = n - (n-k+1) = k$ as expected.\n",
    "\n",
    "\n",
    "Given a vector $\\vec{A} \\in \\mathbb{R}^k$, define the summation operator as one that adds all elements of the vector. That is, \n",
    "\n",
    "$$\\text{Sum}(\\vec{A}) = \\sum_{i=1}^{k} a_{i}$$ \n",
    "\n",
    "A 1D Convolution between $\\vec{X}$ and $\\vec{W}$, denoted by the asterisk symbol $\\ast$, is defined as \n",
    "\n",
    "$$\\vec{X} \\ast \\vec{W} = \\left( \\begin{array}{c}\n",
    "\\text{Sum}(\\vec{X}_k(1) \\odot \\vec{W})\\\\\n",
    "\\vdots\\\\\n",
    "\\text{Sum}(\\vec{X}_k(i) \\odot \\vec{W})\\\\\n",
    "\\vdots\\\\\n",
    "\\text{Sum}(\\vec{X}_k(n-k+1) \\odot \\vec{W})\n",
    "\\end{array} \\right)$$\n",
    "\n",
    "where $\\odot$ is the element- wise product, so that \n",
    "\n",
    "$$\\text{Sum}(\\vec{X_k}(i) \\odot \\vec{W}) = \\sum_{j=1}^{k} x_{i+j-1}w_j$$\n",
    "\n",
    "The sum is over all elements of $\\vec{X}_k(i)$, so the last element of this sum must coincide with the product of the last two elements of $\\vec{X}_k(i)$ and $\\vec{W}$ $j = k$ as $x_{i+k-1}w_k$."
   ]
  },
  {
   "attachments": {},
   "cell_type": "markdown",
   "metadata": {},
   "source": [
    " **example** \n",
    " \n",
    "The input vector $\\vec{X}$ has $n=5$ points, and the weights $W$ have windows size $k = 3$. We can perform 1D convolution by sliding the weights over the input vector and multiplying each element of the input vector by the corresponding weight. The results of these multiplications are then summed up to produce a single output value."
   ]
  },
  {
   "cell_type": "code",
   "execution_count": 24,
   "metadata": {},
   "outputs": [
    {
     "name": "stdout",
     "output_type": "stream",
     "text": [
      "Input vector X: (4,)\n",
      "filter W: (3,)\n",
      "Convolved output X*W: (2,)\n"
     ]
    }
   ],
   "source": [
    "# define the input vector x and the weights W\n",
    "X = np.array([1, 2, 3, 4])\n",
    "W = np.array([1, 2, 3])\n",
    "\n",
    "# perform 1D convolution\n",
    "# mode='valid' argument ensures that the output array has the same shape as the input array\n",
    "output = np.convolve(X, W, mode='valid')\n",
    "\n",
    "print(\"Input vector X:\", X.shape)\n",
    "print(\"filter W:\", W.shape)\n",
    "print(\"Convolved output X*W:\", output.shape)"
   ]
  },
  {
   "attachments": {},
   "cell_type": "markdown",
   "metadata": {},
   "source": [
    "### **1.1.2 Two Dimension**\n",
    "\n",
    "Given a 2D input matrix and a 2D kernel or filter, the convolution operation involves sliding the kernel over the input matrix, computing the dot product between the overlapping portions of the kernel and the input matrix at each position, and storing the result in an output matrix."
   ]
  },
  {
   "attachments": {},
   "cell_type": "markdown",
   "metadata": {},
   "source": [
    "Let $\\mathbf{X}$ be an input signal matrix with $n \\times n$ points and $\\mathbf{W}$ be a vector of weights called 2D filter, with $k\\times k$ points and $k \\leq n$.\n",
    "\n",
    "$$\n",
    "\\mathbf{X} = \\begin{bmatrix}\n",
    "x_{1,1} & x_{1,2} & \\cdots & x_{1,n} \\\\\n",
    "x_{2,1} & x_{2,2} & \\cdots & x_{2,n} \\\\\n",
    "\\vdots & \\vdots & \\ddots & \\vdots \\\\\n",
    "x_{n,1} & x_{n,2} & \\cdots & x_{n,n}\n",
    "\\end{bmatrix},~~\n",
    "\\mathbf{W}=\\begin{bmatrix}\n",
    "w_{1,1} & w_{1,2} & \\cdots & w_{1,k} \\\\\n",
    "w_{2,1} & w_{2,2} & \\cdots & w_{2,k} \\\\\n",
    "\\vdots & \\vdots & \\ddots & \\vdots \\\\\n",
    "w_{k,1} & w_{k,2} & \\cdots & w_{k,k}\n",
    "\\end{bmatrix}\n",
    "$$\n",
    "\n",
    "Let $\\mathbf{X}_k(i,j)$ denote the $k \\times k$ submatrix of $\\mathbf{X}$ starting at row $i$ and column $j$, defined as\n",
    "\n",
    "$$\\mathbf{X}_k(i,j) = \\begin{bmatrix}\n",
    "x_{i,j} & x_{i,j+1} & \\cdots & x_{i,j+k-1} \\\\\n",
    "x_{i+1,j} & x_{i+2,j} & \\cdots & x_{i+1,j+k-1} \\\\\n",
    "\\vdots & \\vdots & \\ddots & \\vdots \\\\\n",
    "x_{i+k-1,j} & x_{i+-1,j+1} & \\cdots & x_{i+k-1,j+k-1}\n",
    "\\end{bmatrix}$$\n",
    "\n",
    "where $1 \\leq (i,j) \\leq n-k+1$ (result extended from 1D case for both indices).\n",
    "\n",
    "Given a vector $\\mathbf{A} \\in \\mathbb{R}^{k \\times k}$, define the summation operator as one that adds all elements of the vector. That is, \n",
    "\n",
    "$$\\text{Sum}(\\mathbf{A}) = \\sum_{i=1}^{k}\\sum_{j=1}^{k} a_{i,j}$$ \n",
    "\n",
    "A 2D Convolution between $\\mathbf{X}$ and $\\mathbf{W}$, is defined as \n",
    "\n",
    "$$\\mathbf{X} \\ast \\mathbf{W} = \\begin{bmatrix}\n",
    "\\text{Sum}(x_k(1,1) \\odot \\mathbf{W}) &\\text{Sum}(x_k(1,2) \\odot \\mathbf{W}) & \\cdots & \\text{Sum}(x_k(1,n-k+1) \\odot \\mathbf{W}) \\\\\n",
    "\\text{Sum}(x_k(2,1) \\odot \\mathbf{W}) & \\text{Sum}(x_k(2,2) \\odot \\mathbf{W}) & \\cdots &\\text{Sum}(x_k(2,n-k+1) \\odot \\mathbf{W})\\\\\n",
    "\\vdots & \\vdots & \\ddots & \\vdots \\\\\n",
    "\\text{Sum}(x_k(n-k+1,1) \\odot \\mathbf{W}) & \\text{Sum}(x_k(n-k+1,2) \\odot \\mathbf{W}) & \\cdots & \\text{Sum}(x_k(n-k+1,n-k+1) \\odot \\mathbf{W})\n",
    "\\end{bmatrix}$$\n",
    "\n",
    "where\n",
    "\n",
    "$$\\text{Sum}(\\mathbf{X}_k(i,j) \\odot \\mathbf{W})=\\sum_{a=1}^{k}\\sum_{b=1}^{k} x_{i+a -1,j+b-1} \\times w_{a,b}$$\n",
    "\n",
    "The convolution of $\\mathbf{X} \\in \\mathbf{R}^{n \\times n}$ and $\\mathbf{W} \\in \\mathbf{R}^{k \\times k}$ results in a $(n-k+1) \\times (n-k+1)$ matrix.\n"
   ]
  },
  {
   "attachments": {},
   "cell_type": "markdown",
   "metadata": {},
   "source": [
    "**Example**"
   ]
  },
  {
   "cell_type": "code",
   "execution_count": 33,
   "metadata": {},
   "outputs": [
    {
     "data": {
      "image/svg+xml": "<?xml version=\"1.0\" encoding=\"utf-8\" standalone=\"no\"?>\n<!DOCTYPE svg PUBLIC \"-//W3C//DTD SVG 1.1//EN\"\n  \"http://www.w3.org/Graphics/SVG/1.1/DTD/svg11.dtd\">\n<svg xmlns:xlink=\"http://www.w3.org/1999/xlink\" width=\"490.065625pt\" height=\"249.105341pt\" viewBox=\"0 0 490.065625 249.105341\" xmlns=\"http://www.w3.org/2000/svg\" version=\"1.1\">\n <metadata>\n  <rdf:RDF xmlns:dc=\"http://purl.org/dc/elements/1.1/\" xmlns:cc=\"http://creativecommons.org/ns#\" xmlns:rdf=\"http://www.w3.org/1999/02/22-rdf-syntax-ns#\">\n   <cc:Work>\n    <dc:type rdf:resource=\"http://purl.org/dc/dcmitype/StillImage\"/>\n    <dc:date>2023-02-19T10:50:07.878049</dc:date>\n    <dc:format>image/svg+xml</dc:format>\n    <dc:creator>\n     <cc:Agent>\n      <dc:title>Matplotlib v3.5.3, https://matplotlib.org/</dc:title>\n     </cc:Agent>\n    </dc:creator>\n   </cc:Work>\n  </rdf:RDF>\n </metadata>\n <defs>\n  <style type=\"text/css\">*{stroke-linejoin: round; stroke-linecap: butt}</style>\n </defs>\n <g id=\"figure_1\">\n  <g id=\"patch_1\">\n   <path d=\"M 0 249.105341 \nL 490.065625 249.105341 \nL 490.065625 0 \nL 0 0 \nL 0 249.105341 \nz\n\" style=\"fill: none\"/>\n  </g>\n  <g id=\"axes_1\">\n   <g id=\"patch_2\">\n    <path d=\"M 36.465625 225.227216 \nL 239.374716 225.227216 \nL 239.374716 22.318125 \nL 36.465625 22.318125 \nz\n\" style=\"fill: #ffffff\"/>\n   </g>\n   <g clip-path=\"url(#p7daa1d28d4)\">\n    <image xlink:href=\"data:image/png;base64,\niVBORw0KGgoAAAANSUhEUgAAAMsAAADLCAYAAADA+2czAAAKg0lEQVR4nO3d63NdVR3G8d9OTk6Spk1CkjYkhF6SktJy6aSlBCzUlilVClopKsoMMDjwArk4dJxREAWFMupQ1L5BcKhYUaCdCtZSkYGChbZcBSnp/WJvadKkuZ00JwlJjv/C19d+P6+f2Ttn5zxnvVhrr5VcdO8TuQDyl3SSWHSdKEe5ZCgP5SIiciUjKFc+sR/lHpy5GeV+sPEmlKvYmaDc9x5Yh3KPPXsjykVE1C0+inL795yDcpOmnUa5zpaJKNe4chfK7VndgHIREXUbUiiXqYO5L2RRjn9jpf9zlkWCLIsEWRYJsiwSZFkkyLJIkGWRIMsiQcmc76xCM/jDZWyWOhljN65evZ0FI+L07ZejXA5WP48tCIie81kufypbOVD09gSUu/imz9iNI2L79lkol+5mD+f8JftRblHlPpRbvWkpyv3260+jXETEqqNfQrmD26agXG1zK8o5skiQZZEgyyJBlkWCLIsEWRYJsiwSZFkkyLJIUDLlj4+hGfwkQbHILxhFuYY7DqNcREThpnEo11R+DOWea7kU5UYG2Dvc8Tn7zVk8pwXlPus6m903IgaG0ig3rnAY5U51lqLchA+KUW4MPkK6+iIiIt3Hvos33L0F5Xb116CcI4sEWRYJsiwSZFkkyLJIkGWRIMsiQZZFgiyLBCUNL/4MTYcua9yJLvjaWva+fF8jfBE+Ikr3smlg+v5//2Q2A1wBX4XvbWS54Uq2umHJHPasIyK2bmpiQfizOFTF/sYJB/JRbvltb6Hc+ucXolxExPjj7B/dvoB9lqraXpRzZJEgyyJBlkWCLIsEWRYJsiwSZFkkyLJIkGWRIMsiQanz7mdT/ZtuZctY8q6ESweybKOFiIhMAzvu4ltX7kC5hqJTKLf2n19FuaEOthzno1tXo9yyW+5CuYiIopksN1TBckkZ29gib4RtWLHh8GyUq7/mEMpFRIxPDaHcaPdElOvNsM/iyCJBlkWCLIsEWRYJsiwSZFkkyLJIkGWRIMsiQamOBbUo2LCQHRFx8s9TUW6giW0mEBFRMa0b5da9Ph/lGh9hRz+MrutEufunvYlyVz14H8pVHWtHuYiI3IXseIrsNDYzX7WlCOW6rx5AudriQZTbeaAO5SIiJrSw1R+ZGZ+jXFLINsBwZJEgyyJBlkWCLIsEWRYJsiwSZFkkyLJIkGWRoGT17kXo/IXHt16DLrh83ocot+WZy1AuImJwUQblhtrGoVzJEXZcwkgzu2/9CrbCoOvpQpSbN/EoykVEvLL7QpRL4M9icoLN4Kcb+lBu+EApyt113d9RLiLi1fYLUO5U/3iU69vLNihwZJEgyyJBlkWCLIsEWRYJsiwSZFkkyLJIkGWRoKThhUfQDH7pFjY7Xnyavc9888q/oVxExIbWOezeKfbO9a4d9Sg3lkKPJtLd7Den7Ar2bn0my2bRIyLy8tjzzu4rZxesy6JYyQ72feibwfZaKIDPMCLi7uWbUW7tqqUol8e+No4sEmVZJMiySJBlkSDLIkGWRYIsiwRZFgmyLBKUzHr5J2yaens5ipUdYjO2rcvgtGlE5KfYLHXJu2xWedaNu1Fux54GlMvvKkC5cScTlBud34tyERGDxyag3Lmz2lCu8w12qsKU9a0oV/cCW7Ww9ch0lIuIqHyB/Z8zN7N9AjLH2T4BjiwSZFkkyLJIkGWRIMsiQZZFgiyLBFkWCbIsEpSMnpyOZvCbVn4XXXCkmN24soXP4Hfewc5cP9PJZnZrtrBd9GvvOoByLW01KEdnntub+W/YnUv/gXJrn/4yyhUs6US5kVerUK6naRjlJp7NVy10tJehXH5Xil2wZgjFHFkkyLJIkGWRIMsiQZZFgiyLBFkWCbIsEmRZJMiySFAy+alfouUuk7axJSJdF7Ibjz/GNm+IiOibzjasGCtkuaSYbaqRakuj3NKrP0C5V96Yh3IFGf5shirZZ86dxZad5LJsiUjhKfZ9SF/cg3Klz7FNIyIiWr/Icjl4ZEjFx+yzOLJIkGWRIMsiQZZFgiyLBFkWCbIsEmRZJMiySFBqxlNnUHD/Lexog39941co17xmBcpFRMxv3oVy7x2diq9JzL7iPyiXH2wWPeqyKFZfy45piIhofXEqyhUv60G5kT9Vo1z3tex709/DNukYvOR/+d1mz/uaSz5FudfLZ6CcI4sEWRYJsiwSZFkkyLJIkGWRIMsiQZZFgiyLBCUzX3oIvaicPcJm8BvWsVnqG9ewoxIiIla+9jWUy40fQbmvzP43yr3TWo9yffvOQrnUAHu3vvQQikVExB8eXoVya7rmo9yGt5tRjj7rdFsByuU19qNcRER6G/su5hZ2o9yZQ+wIC0cWCbIsEmRZJMiySJBlkSDLIkGWRYIsiwRZFglKpqx+HM3glx5kvSo6zd6P7ruez9jWPFmIcpkVfezeZ4pQrrKUvWfe0c1mlP96+ZMod+2m+1AuIqJ0L9sBvnfOEMpVV/ei3KWTjqDcpvfmoFzD+a0oFxFx7J1zUe6lWx9HueteZvtBOLJIkGWRIMsiQZZFgiyLBFkWCbIsEmRZJMiySFBy3vqfohn8vDx2pnh8ws8zp4bL2aqA1GQ24z42xt6Fz89nn5lebziTRrmJb7P31iMinnz4Nyh3zw/vRbnrfvQmyj1/cC7KjY6y3+PkI/69mbLmAMp1P8tWVrQdrUA5RxYJsiwSZFkkyLJIkGWRIMsiQZZFgiyLBFkWCUq+veN2NE29bfd0dMHiskGUm/RMMcpFRPTWsxntntmfo1x5dQblFp+7F+U2br4M5VIz2R4B2QzbIyAiomYzezanLmGrDKo+ZqsWepaz1RL13+9BucOr2E72ERHZHvZ86A7+9evYbvuOLBJkWSTIskiQZZEgyyJBlkWCLIsEWRYJsiwSlNrVWY2CD83fiHIrN97A7nzfSZaLiJ5jVSiXbmUztiWTh1EuO8remS9r6kS5iuIBlNt/hO0SHxFRdJqtWrhiwT6U21rLVmqMe5+9377n0RTKFX/AV3TE1BEUG65hzyb3a7aiw5FFgiyLBFkWCbIsEmRZJMiySJBlkSDLIkGWRYIsiwSl5lYfR8Gfr2PLWEbPYsdD9K+vQbmIiJg7imKVLWyzhY6ELfHZcZTl7lmxAeXez9Sj3L58vtwl9UA7yn20/iKUa3iXLclpn4diUVDIlqYs/ub77IIR8cmDTSh3YiFb/jRQx5Y1ObJIkGWRIMsiQZZFgiyLBFkWCbIsEmRZJMiySFAy48dPoGnvbB2biS05zDYoGJnLNgmIiKhcPw7l2paxjShyY+z4hfwUW41Q/ZdClCu58wTKHe6oQLmIiNTO8Sg3WsxWN5QeZPftbGarKooqsyg32MueYUREjLDf+OIT7LtYsZt9FkcWCbIsEmRZJMiySJBlkSDLIkGWRYIsiwRZFglKDc9kM6wX1bEjInYWnoNyyckSlIuIOHX9ILtmjs3M5/rYu9m3LXgL5X5//CqUK3l5Mso13nAY5SIiWrqLUK7pAnbNT4sbUC7dkY9yYx1shUG68QzKRUSkP2TXpB79xe9QzpFFgiyLBFkWCbIsEmRZJMiySJBlkSDLIkGWRYL+C5MXSmKO7SuYAAAAAElFTkSuQmCC\" id=\"image5e6b560a74\" transform=\"scale(1 -1)translate(0 -203)\" x=\"36.465625\" y=\"-22.227216\" width=\"203\" height=\"203\"/>\n   </g>\n   <g id=\"matplotlib.axis_1\">\n    <g id=\"xtick_1\">\n     <g id=\"line2d_1\">\n      <defs>\n       <path id=\"m0a0bdad60a\" d=\"M 0 0 \nL 0 3.5 \n\" style=\"stroke: #000000; stroke-width: 0.8\"/>\n      </defs>\n      <g>\n       <use xlink:href=\"#m0a0bdad60a\" x=\"41.538352\" y=\"225.227216\" style=\"stroke: #000000; stroke-width: 0.8\"/>\n      </g>\n     </g>\n     <g id=\"text_1\">\n      <!-- 0 -->\n      <g transform=\"translate(38.357102 239.825653)scale(0.1 -0.1)\">\n       <defs>\n        <path id=\"DejaVuSans-30\" d=\"M 2034 4250 \nQ 1547 4250 1301 3770 \nQ 1056 3291 1056 2328 \nQ 1056 1369 1301 889 \nQ 1547 409 2034 409 \nQ 2525 409 2770 889 \nQ 3016 1369 3016 2328 \nQ 3016 3291 2770 3770 \nQ 2525 4250 2034 4250 \nz\nM 2034 4750 \nQ 2819 4750 3233 4129 \nQ 3647 3509 3647 2328 \nQ 3647 1150 3233 529 \nQ 2819 -91 2034 -91 \nQ 1250 -91 836 529 \nQ 422 1150 422 2328 \nQ 422 3509 836 4129 \nQ 1250 4750 2034 4750 \nz\n\" transform=\"scale(0.015625)\"/>\n       </defs>\n       <use xlink:href=\"#DejaVuSans-30\"/>\n      </g>\n     </g>\n    </g>\n    <g id=\"xtick_2\">\n     <g id=\"line2d_2\">\n      <g>\n       <use xlink:href=\"#m0a0bdad60a\" x=\"92.265625\" y=\"225.227216\" style=\"stroke: #000000; stroke-width: 0.8\"/>\n      </g>\n     </g>\n     <g id=\"text_2\">\n      <!-- 5 -->\n      <g transform=\"translate(89.084375 239.825653)scale(0.1 -0.1)\">\n       <defs>\n        <path id=\"DejaVuSans-35\" d=\"M 691 4666 \nL 3169 4666 \nL 3169 4134 \nL 1269 4134 \nL 1269 2991 \nQ 1406 3038 1543 3061 \nQ 1681 3084 1819 3084 \nQ 2600 3084 3056 2656 \nQ 3513 2228 3513 1497 \nQ 3513 744 3044 326 \nQ 2575 -91 1722 -91 \nQ 1428 -91 1123 -41 \nQ 819 9 494 109 \nL 494 744 \nQ 775 591 1075 516 \nQ 1375 441 1709 441 \nQ 2250 441 2565 725 \nQ 2881 1009 2881 1497 \nQ 2881 1984 2565 2268 \nQ 2250 2553 1709 2553 \nQ 1456 2553 1204 2497 \nQ 953 2441 691 2322 \nL 691 4666 \nz\n\" transform=\"scale(0.015625)\"/>\n       </defs>\n       <use xlink:href=\"#DejaVuSans-35\"/>\n      </g>\n     </g>\n    </g>\n    <g id=\"xtick_3\">\n     <g id=\"line2d_3\">\n      <g>\n       <use xlink:href=\"#m0a0bdad60a\" x=\"142.992898\" y=\"225.227216\" style=\"stroke: #000000; stroke-width: 0.8\"/>\n      </g>\n     </g>\n     <g id=\"text_3\">\n      <!-- 10 -->\n      <g transform=\"translate(136.630398 239.825653)scale(0.1 -0.1)\">\n       <defs>\n        <path id=\"DejaVuSans-31\" d=\"M 794 531 \nL 1825 531 \nL 1825 4091 \nL 703 3866 \nL 703 4441 \nL 1819 4666 \nL 2450 4666 \nL 2450 531 \nL 3481 531 \nL 3481 0 \nL 794 0 \nL 794 531 \nz\n\" transform=\"scale(0.015625)\"/>\n       </defs>\n       <use xlink:href=\"#DejaVuSans-31\"/>\n       <use xlink:href=\"#DejaVuSans-30\" x=\"63.623047\"/>\n      </g>\n     </g>\n    </g>\n    <g id=\"xtick_4\">\n     <g id=\"line2d_4\">\n      <g>\n       <use xlink:href=\"#m0a0bdad60a\" x=\"193.72017\" y=\"225.227216\" style=\"stroke: #000000; stroke-width: 0.8\"/>\n      </g>\n     </g>\n     <g id=\"text_4\">\n      <!-- 15 -->\n      <g transform=\"translate(187.35767 239.825653)scale(0.1 -0.1)\">\n       <use xlink:href=\"#DejaVuSans-31\"/>\n       <use xlink:href=\"#DejaVuSans-35\" x=\"63.623047\"/>\n      </g>\n     </g>\n    </g>\n   </g>\n   <g id=\"matplotlib.axis_2\">\n    <g id=\"ytick_1\">\n     <g id=\"line2d_5\">\n      <defs>\n       <path id=\"md21438a08b\" d=\"M 0 0 \nL -3.5 0 \n\" style=\"stroke: #000000; stroke-width: 0.8\"/>\n      </defs>\n      <g>\n       <use xlink:href=\"#md21438a08b\" x=\"36.465625\" y=\"27.390852\" style=\"stroke: #000000; stroke-width: 0.8\"/>\n      </g>\n     </g>\n     <g id=\"text_5\">\n      <!-- 0.0 -->\n      <g transform=\"translate(13.5625 31.190071)scale(0.1 -0.1)\">\n       <defs>\n        <path id=\"DejaVuSans-2e\" d=\"M 684 794 \nL 1344 794 \nL 1344 0 \nL 684 0 \nL 684 794 \nz\n\" transform=\"scale(0.015625)\"/>\n       </defs>\n       <use xlink:href=\"#DejaVuSans-30\"/>\n       <use xlink:href=\"#DejaVuSans-2e\" x=\"63.623047\"/>\n       <use xlink:href=\"#DejaVuSans-30\" x=\"95.410156\"/>\n      </g>\n     </g>\n    </g>\n    <g id=\"ytick_2\">\n     <g id=\"line2d_6\">\n      <g>\n       <use xlink:href=\"#md21438a08b\" x=\"36.465625\" y=\"52.754489\" style=\"stroke: #000000; stroke-width: 0.8\"/>\n      </g>\n     </g>\n     <g id=\"text_6\">\n      <!-- 2.5 -->\n      <g transform=\"translate(13.5625 56.553707)scale(0.1 -0.1)\">\n       <defs>\n        <path id=\"DejaVuSans-32\" d=\"M 1228 531 \nL 3431 531 \nL 3431 0 \nL 469 0 \nL 469 531 \nQ 828 903 1448 1529 \nQ 2069 2156 2228 2338 \nQ 2531 2678 2651 2914 \nQ 2772 3150 2772 3378 \nQ 2772 3750 2511 3984 \nQ 2250 4219 1831 4219 \nQ 1534 4219 1204 4116 \nQ 875 4013 500 3803 \nL 500 4441 \nQ 881 4594 1212 4672 \nQ 1544 4750 1819 4750 \nQ 2544 4750 2975 4387 \nQ 3406 4025 3406 3419 \nQ 3406 3131 3298 2873 \nQ 3191 2616 2906 2266 \nQ 2828 2175 2409 1742 \nQ 1991 1309 1228 531 \nz\n\" transform=\"scale(0.015625)\"/>\n       </defs>\n       <use xlink:href=\"#DejaVuSans-32\"/>\n       <use xlink:href=\"#DejaVuSans-2e\" x=\"63.623047\"/>\n       <use xlink:href=\"#DejaVuSans-35\" x=\"95.410156\"/>\n      </g>\n     </g>\n    </g>\n    <g id=\"ytick_3\">\n     <g id=\"line2d_7\">\n      <g>\n       <use xlink:href=\"#md21438a08b\" x=\"36.465625\" y=\"78.118125\" style=\"stroke: #000000; stroke-width: 0.8\"/>\n      </g>\n     </g>\n     <g id=\"text_7\">\n      <!-- 5.0 -->\n      <g transform=\"translate(13.5625 81.917344)scale(0.1 -0.1)\">\n       <use xlink:href=\"#DejaVuSans-35\"/>\n       <use xlink:href=\"#DejaVuSans-2e\" x=\"63.623047\"/>\n       <use xlink:href=\"#DejaVuSans-30\" x=\"95.410156\"/>\n      </g>\n     </g>\n    </g>\n    <g id=\"ytick_4\">\n     <g id=\"line2d_8\">\n      <g>\n       <use xlink:href=\"#md21438a08b\" x=\"36.465625\" y=\"103.481761\" style=\"stroke: #000000; stroke-width: 0.8\"/>\n      </g>\n     </g>\n     <g id=\"text_8\">\n      <!-- 7.5 -->\n      <g transform=\"translate(13.5625 107.28098)scale(0.1 -0.1)\">\n       <defs>\n        <path id=\"DejaVuSans-37\" d=\"M 525 4666 \nL 3525 4666 \nL 3525 4397 \nL 1831 0 \nL 1172 0 \nL 2766 4134 \nL 525 4134 \nL 525 4666 \nz\n\" transform=\"scale(0.015625)\"/>\n       </defs>\n       <use xlink:href=\"#DejaVuSans-37\"/>\n       <use xlink:href=\"#DejaVuSans-2e\" x=\"63.623047\"/>\n       <use xlink:href=\"#DejaVuSans-35\" x=\"95.410156\"/>\n      </g>\n     </g>\n    </g>\n    <g id=\"ytick_5\">\n     <g id=\"line2d_9\">\n      <g>\n       <use xlink:href=\"#md21438a08b\" x=\"36.465625\" y=\"128.845398\" style=\"stroke: #000000; stroke-width: 0.8\"/>\n      </g>\n     </g>\n     <g id=\"text_9\">\n      <!-- 10.0 -->\n      <g transform=\"translate(7.2 132.644616)scale(0.1 -0.1)\">\n       <use xlink:href=\"#DejaVuSans-31\"/>\n       <use xlink:href=\"#DejaVuSans-30\" x=\"63.623047\"/>\n       <use xlink:href=\"#DejaVuSans-2e\" x=\"127.246094\"/>\n       <use xlink:href=\"#DejaVuSans-30\" x=\"159.033203\"/>\n      </g>\n     </g>\n    </g>\n    <g id=\"ytick_6\">\n     <g id=\"line2d_10\">\n      <g>\n       <use xlink:href=\"#md21438a08b\" x=\"36.465625\" y=\"154.209034\" style=\"stroke: #000000; stroke-width: 0.8\"/>\n      </g>\n     </g>\n     <g id=\"text_10\">\n      <!-- 12.5 -->\n      <g transform=\"translate(7.2 158.008253)scale(0.1 -0.1)\">\n       <use xlink:href=\"#DejaVuSans-31\"/>\n       <use xlink:href=\"#DejaVuSans-32\" x=\"63.623047\"/>\n       <use xlink:href=\"#DejaVuSans-2e\" x=\"127.246094\"/>\n       <use xlink:href=\"#DejaVuSans-35\" x=\"159.033203\"/>\n      </g>\n     </g>\n    </g>\n    <g id=\"ytick_7\">\n     <g id=\"line2d_11\">\n      <g>\n       <use xlink:href=\"#md21438a08b\" x=\"36.465625\" y=\"179.57267\" style=\"stroke: #000000; stroke-width: 0.8\"/>\n      </g>\n     </g>\n     <g id=\"text_11\">\n      <!-- 15.0 -->\n      <g transform=\"translate(7.2 183.371889)scale(0.1 -0.1)\">\n       <use xlink:href=\"#DejaVuSans-31\"/>\n       <use xlink:href=\"#DejaVuSans-35\" x=\"63.623047\"/>\n       <use xlink:href=\"#DejaVuSans-2e\" x=\"127.246094\"/>\n       <use xlink:href=\"#DejaVuSans-30\" x=\"159.033203\"/>\n      </g>\n     </g>\n    </g>\n    <g id=\"ytick_8\">\n     <g id=\"line2d_12\">\n      <g>\n       <use xlink:href=\"#md21438a08b\" x=\"36.465625\" y=\"204.936307\" style=\"stroke: #000000; stroke-width: 0.8\"/>\n      </g>\n     </g>\n     <g id=\"text_12\">\n      <!-- 17.5 -->\n      <g transform=\"translate(7.2 208.735526)scale(0.1 -0.1)\">\n       <use xlink:href=\"#DejaVuSans-31\"/>\n       <use xlink:href=\"#DejaVuSans-37\" x=\"63.623047\"/>\n       <use xlink:href=\"#DejaVuSans-2e\" x=\"127.246094\"/>\n       <use xlink:href=\"#DejaVuSans-35\" x=\"159.033203\"/>\n      </g>\n     </g>\n    </g>\n   </g>\n   <g id=\"patch_3\">\n    <path d=\"M 36.465625 225.227216 \nL 36.465625 22.318125 \n\" style=\"fill: none; stroke: #000000; stroke-width: 0.8; stroke-linejoin: miter; stroke-linecap: square\"/>\n   </g>\n   <g id=\"patch_4\">\n    <path d=\"M 239.374716 225.227216 \nL 239.374716 22.318125 \n\" style=\"fill: none; stroke: #000000; stroke-width: 0.8; stroke-linejoin: miter; stroke-linecap: square\"/>\n   </g>\n   <g id=\"patch_5\">\n    <path d=\"M 36.465625 225.227216 \nL 239.374716 225.227216 \n\" style=\"fill: none; stroke: #000000; stroke-width: 0.8; stroke-linejoin: miter; stroke-linecap: square\"/>\n   </g>\n   <g id=\"patch_6\">\n    <path d=\"M 36.465625 22.318125 \nL 239.374716 22.318125 \n\" style=\"fill: none; stroke: #000000; stroke-width: 0.8; stroke-linejoin: miter; stroke-linecap: square\"/>\n   </g>\n   <g id=\"text_13\">\n    <!-- Random Pixel Image -->\n    <g transform=\"translate(76.60392 16.318125)scale(0.12 -0.12)\">\n     <defs>\n      <path id=\"DejaVuSans-52\" d=\"M 2841 2188 \nQ 3044 2119 3236 1894 \nQ 3428 1669 3622 1275 \nL 4263 0 \nL 3584 0 \nL 2988 1197 \nQ 2756 1666 2539 1819 \nQ 2322 1972 1947 1972 \nL 1259 1972 \nL 1259 0 \nL 628 0 \nL 628 4666 \nL 2053 4666 \nQ 2853 4666 3247 4331 \nQ 3641 3997 3641 3322 \nQ 3641 2881 3436 2590 \nQ 3231 2300 2841 2188 \nz\nM 1259 4147 \nL 1259 2491 \nL 2053 2491 \nQ 2509 2491 2742 2702 \nQ 2975 2913 2975 3322 \nQ 2975 3731 2742 3939 \nQ 2509 4147 2053 4147 \nL 1259 4147 \nz\n\" transform=\"scale(0.015625)\"/>\n      <path id=\"DejaVuSans-61\" d=\"M 2194 1759 \nQ 1497 1759 1228 1600 \nQ 959 1441 959 1056 \nQ 959 750 1161 570 \nQ 1363 391 1709 391 \nQ 2188 391 2477 730 \nQ 2766 1069 2766 1631 \nL 2766 1759 \nL 2194 1759 \nz\nM 3341 1997 \nL 3341 0 \nL 2766 0 \nL 2766 531 \nQ 2569 213 2275 61 \nQ 1981 -91 1556 -91 \nQ 1019 -91 701 211 \nQ 384 513 384 1019 \nQ 384 1609 779 1909 \nQ 1175 2209 1959 2209 \nL 2766 2209 \nL 2766 2266 \nQ 2766 2663 2505 2880 \nQ 2244 3097 1772 3097 \nQ 1472 3097 1187 3025 \nQ 903 2953 641 2809 \nL 641 3341 \nQ 956 3463 1253 3523 \nQ 1550 3584 1831 3584 \nQ 2591 3584 2966 3190 \nQ 3341 2797 3341 1997 \nz\n\" transform=\"scale(0.015625)\"/>\n      <path id=\"DejaVuSans-6e\" d=\"M 3513 2113 \nL 3513 0 \nL 2938 0 \nL 2938 2094 \nQ 2938 2591 2744 2837 \nQ 2550 3084 2163 3084 \nQ 1697 3084 1428 2787 \nQ 1159 2491 1159 1978 \nL 1159 0 \nL 581 0 \nL 581 3500 \nL 1159 3500 \nL 1159 2956 \nQ 1366 3272 1645 3428 \nQ 1925 3584 2291 3584 \nQ 2894 3584 3203 3211 \nQ 3513 2838 3513 2113 \nz\n\" transform=\"scale(0.015625)\"/>\n      <path id=\"DejaVuSans-64\" d=\"M 2906 2969 \nL 2906 4863 \nL 3481 4863 \nL 3481 0 \nL 2906 0 \nL 2906 525 \nQ 2725 213 2448 61 \nQ 2172 -91 1784 -91 \nQ 1150 -91 751 415 \nQ 353 922 353 1747 \nQ 353 2572 751 3078 \nQ 1150 3584 1784 3584 \nQ 2172 3584 2448 3432 \nQ 2725 3281 2906 2969 \nz\nM 947 1747 \nQ 947 1113 1208 752 \nQ 1469 391 1925 391 \nQ 2381 391 2643 752 \nQ 2906 1113 2906 1747 \nQ 2906 2381 2643 2742 \nQ 2381 3103 1925 3103 \nQ 1469 3103 1208 2742 \nQ 947 2381 947 1747 \nz\n\" transform=\"scale(0.015625)\"/>\n      <path id=\"DejaVuSans-6f\" d=\"M 1959 3097 \nQ 1497 3097 1228 2736 \nQ 959 2375 959 1747 \nQ 959 1119 1226 758 \nQ 1494 397 1959 397 \nQ 2419 397 2687 759 \nQ 2956 1122 2956 1747 \nQ 2956 2369 2687 2733 \nQ 2419 3097 1959 3097 \nz\nM 1959 3584 \nQ 2709 3584 3137 3096 \nQ 3566 2609 3566 1747 \nQ 3566 888 3137 398 \nQ 2709 -91 1959 -91 \nQ 1206 -91 779 398 \nQ 353 888 353 1747 \nQ 353 2609 779 3096 \nQ 1206 3584 1959 3584 \nz\n\" transform=\"scale(0.015625)\"/>\n      <path id=\"DejaVuSans-6d\" d=\"M 3328 2828 \nQ 3544 3216 3844 3400 \nQ 4144 3584 4550 3584 \nQ 5097 3584 5394 3201 \nQ 5691 2819 5691 2113 \nL 5691 0 \nL 5113 0 \nL 5113 2094 \nQ 5113 2597 4934 2840 \nQ 4756 3084 4391 3084 \nQ 3944 3084 3684 2787 \nQ 3425 2491 3425 1978 \nL 3425 0 \nL 2847 0 \nL 2847 2094 \nQ 2847 2600 2669 2842 \nQ 2491 3084 2119 3084 \nQ 1678 3084 1418 2786 \nQ 1159 2488 1159 1978 \nL 1159 0 \nL 581 0 \nL 581 3500 \nL 1159 3500 \nL 1159 2956 \nQ 1356 3278 1631 3431 \nQ 1906 3584 2284 3584 \nQ 2666 3584 2933 3390 \nQ 3200 3197 3328 2828 \nz\n\" transform=\"scale(0.015625)\"/>\n      <path id=\"DejaVuSans-20\" transform=\"scale(0.015625)\"/>\n      <path id=\"DejaVuSans-50\" d=\"M 1259 4147 \nL 1259 2394 \nL 2053 2394 \nQ 2494 2394 2734 2622 \nQ 2975 2850 2975 3272 \nQ 2975 3691 2734 3919 \nQ 2494 4147 2053 4147 \nL 1259 4147 \nz\nM 628 4666 \nL 2053 4666 \nQ 2838 4666 3239 4311 \nQ 3641 3956 3641 3272 \nQ 3641 2581 3239 2228 \nQ 2838 1875 2053 1875 \nL 1259 1875 \nL 1259 0 \nL 628 0 \nL 628 4666 \nz\n\" transform=\"scale(0.015625)\"/>\n      <path id=\"DejaVuSans-69\" d=\"M 603 3500 \nL 1178 3500 \nL 1178 0 \nL 603 0 \nL 603 3500 \nz\nM 603 4863 \nL 1178 4863 \nL 1178 4134 \nL 603 4134 \nL 603 4863 \nz\n\" transform=\"scale(0.015625)\"/>\n      <path id=\"DejaVuSans-78\" d=\"M 3513 3500 \nL 2247 1797 \nL 3578 0 \nL 2900 0 \nL 1881 1375 \nL 863 0 \nL 184 0 \nL 1544 1831 \nL 300 3500 \nL 978 3500 \nL 1906 2253 \nL 2834 3500 \nL 3513 3500 \nz\n\" transform=\"scale(0.015625)\"/>\n      <path id=\"DejaVuSans-65\" d=\"M 3597 1894 \nL 3597 1613 \nL 953 1613 \nQ 991 1019 1311 708 \nQ 1631 397 2203 397 \nQ 2534 397 2845 478 \nQ 3156 559 3463 722 \nL 3463 178 \nQ 3153 47 2828 -22 \nQ 2503 -91 2169 -91 \nQ 1331 -91 842 396 \nQ 353 884 353 1716 \nQ 353 2575 817 3079 \nQ 1281 3584 2069 3584 \nQ 2775 3584 3186 3129 \nQ 3597 2675 3597 1894 \nz\nM 3022 2063 \nQ 3016 2534 2758 2815 \nQ 2500 3097 2075 3097 \nQ 1594 3097 1305 2825 \nQ 1016 2553 972 2059 \nL 3022 2063 \nz\n\" transform=\"scale(0.015625)\"/>\n      <path id=\"DejaVuSans-6c\" d=\"M 603 4863 \nL 1178 4863 \nL 1178 0 \nL 603 0 \nL 603 4863 \nz\n\" transform=\"scale(0.015625)\"/>\n      <path id=\"DejaVuSans-49\" d=\"M 628 4666 \nL 1259 4666 \nL 1259 0 \nL 628 0 \nL 628 4666 \nz\n\" transform=\"scale(0.015625)\"/>\n      <path id=\"DejaVuSans-67\" d=\"M 2906 1791 \nQ 2906 2416 2648 2759 \nQ 2391 3103 1925 3103 \nQ 1463 3103 1205 2759 \nQ 947 2416 947 1791 \nQ 947 1169 1205 825 \nQ 1463 481 1925 481 \nQ 2391 481 2648 825 \nQ 2906 1169 2906 1791 \nz\nM 3481 434 \nQ 3481 -459 3084 -895 \nQ 2688 -1331 1869 -1331 \nQ 1566 -1331 1297 -1286 \nQ 1028 -1241 775 -1147 \nL 775 -588 \nQ 1028 -725 1275 -790 \nQ 1522 -856 1778 -856 \nQ 2344 -856 2625 -561 \nQ 2906 -266 2906 331 \nL 2906 616 \nQ 2728 306 2450 153 \nQ 2172 0 1784 0 \nQ 1141 0 747 490 \nQ 353 981 353 1791 \nQ 353 2603 747 3093 \nQ 1141 3584 1784 3584 \nQ 2172 3584 2450 3431 \nQ 2728 3278 2906 2969 \nL 2906 3500 \nL 3481 3500 \nL 3481 434 \nz\n\" transform=\"scale(0.015625)\"/>\n     </defs>\n     <use xlink:href=\"#DejaVuSans-52\"/>\n     <use xlink:href=\"#DejaVuSans-61\" x=\"67.232422\"/>\n     <use xlink:href=\"#DejaVuSans-6e\" x=\"128.511719\"/>\n     <use xlink:href=\"#DejaVuSans-64\" x=\"191.890625\"/>\n     <use xlink:href=\"#DejaVuSans-6f\" x=\"255.367188\"/>\n     <use xlink:href=\"#DejaVuSans-6d\" x=\"316.548828\"/>\n     <use xlink:href=\"#DejaVuSans-20\" x=\"413.960938\"/>\n     <use xlink:href=\"#DejaVuSans-50\" x=\"445.748047\"/>\n     <use xlink:href=\"#DejaVuSans-69\" x=\"503.800781\"/>\n     <use xlink:href=\"#DejaVuSans-78\" x=\"531.583984\"/>\n     <use xlink:href=\"#DejaVuSans-65\" x=\"587.638672\"/>\n     <use xlink:href=\"#DejaVuSans-6c\" x=\"649.162109\"/>\n     <use xlink:href=\"#DejaVuSans-20\" x=\"676.945312\"/>\n     <use xlink:href=\"#DejaVuSans-49\" x=\"708.732422\"/>\n     <use xlink:href=\"#DejaVuSans-6d\" x=\"738.224609\"/>\n     <use xlink:href=\"#DejaVuSans-61\" x=\"835.636719\"/>\n     <use xlink:href=\"#DejaVuSans-67\" x=\"896.916016\"/>\n     <use xlink:href=\"#DejaVuSans-65\" x=\"960.392578\"/>\n    </g>\n   </g>\n  </g>\n  <g id=\"axes_2\">\n   <g id=\"patch_7\">\n    <path d=\"M 279.956534 225.227216 \nL 482.865625 225.227216 \nL 482.865625 22.318125 \nL 279.956534 22.318125 \nz\n\" style=\"fill: #ffffff\"/>\n   </g>\n   <g clip-path=\"url(#pd60df893d5)\">\n    <image xlink:href=\"data:image/png;base64,\niVBORw0KGgoAAAANSUhEUgAAAMsAAADLCAYAAADA+2czAAADL0lEQVR4nO3cPWpUURyH4VHvEAxBi0wVFItASq3cgFhaWrtKd5HKKe1EwWZSCNPkw48tvNX/IjzPBn5c5rxzuvPo/aOPfzfDllcvpyc39y/O5zfPlvHN7fFhfvPHzfjmw7fv45uPxxfhPyUWiMQCkVggEgtEYoFILBCJBSKxQCQWiMQCkVggEgtEYoFILBCJBSKxQCQWiMQCkVggEgtEYoFILBCJBSKxQCQWiMQCkVggWtZ4pPvX24vxzcPr+f+F293v8c2Tw9Pxzd1+/vd8Pr7oZoFMLBCJBSKxQCQWiMQCkVggEgtEYoFILBCJBSKxQCQWiMQCkVggEgtEYoFILBCJBSKxQCQWiMQCkVggEgtEYoFILBCJBSKxQLTcvzgfH13jke7X776Ob37YfRnf/Hx4M76531yNb57+nD+3bhaIxAKRWCASC0RigUgsEIkFIrFAJBaIxAKRWCASC0RigUgsEIkFIrFAJBaIxAKRWCASC0RigUgsEIkFIrFAJBaIxAKRWCASC0TL/dkyPnq7+z2+ucYj3Z+eHcY3N5v577zeXY5vrnFu3SwQiQUisUAkFojEApFYIBILRGKBSCwQiQUisUAkFojEApFYIBILRGKBSCwQiQUisUAkFojEApFYIBILRGKBSCwQiQUisUAkFoiW7fFhfPTk8HR88/PhzfjmGo90r/GdJ4cn45vb4934ppsFIrFAJBaIxAKRWCASC0RigUgsEIkFIrFAJBaIxAKRWCASC0RigUgsEIkFIrFAJBaIxAKRWCASC0RigUgsEIkFIrFAJBaIxALRsv1xMz6621+Mb+43V+Ob17vL8c01Hune7f+Mb65xbt0sEIkFIrFAJBaIxAKRWCASC0RigUgsEIkFIrFAJBaIxAKRWCASC0RigUgsEIkFIrFAJBaIxAKRWCASC0RigUgsEIkFIrFAJBaIlodv38dHn48vbjanP8/HN+/PlvHN7fFufnOFR7rXOLduFojEApFYIBILRGKBSCwQiQUisUAkFojEApFYIBILRGKBSCwQiQUisUAkFojEApFYIBILRGKBSCwQiQUisUAkFojEApFYIBILRP8AdaNDIz6Y3OoAAAAASUVORK5CYII=\" id=\"imageab89266962\" transform=\"scale(1 -1)translate(0 -203)\" x=\"279.956534\" y=\"-22.227216\" width=\"203\" height=\"203\"/>\n   </g>\n   <g id=\"matplotlib.axis_3\">\n    <g id=\"xtick_5\">\n     <g id=\"line2d_13\">\n      <g>\n       <use xlink:href=\"#m0a0bdad60a\" x=\"294.450041\" y=\"225.227216\" style=\"stroke: #000000; stroke-width: 0.8\"/>\n      </g>\n     </g>\n     <g id=\"text_14\">\n      <!-- 0 -->\n      <g transform=\"translate(291.268791 239.825653)scale(0.1 -0.1)\">\n       <use xlink:href=\"#DejaVuSans-30\"/>\n      </g>\n     </g>\n    </g>\n    <g id=\"xtick_6\">\n     <g id=\"line2d_14\">\n      <g>\n       <use xlink:href=\"#m0a0bdad60a\" x=\"352.424067\" y=\"225.227216\" style=\"stroke: #000000; stroke-width: 0.8\"/>\n      </g>\n     </g>\n     <g id=\"text_15\">\n      <!-- 2 -->\n      <g transform=\"translate(349.242817 239.825653)scale(0.1 -0.1)\">\n       <use xlink:href=\"#DejaVuSans-32\"/>\n      </g>\n     </g>\n    </g>\n    <g id=\"xtick_7\">\n     <g id=\"line2d_15\">\n      <g>\n       <use xlink:href=\"#m0a0bdad60a\" x=\"410.398093\" y=\"225.227216\" style=\"stroke: #000000; stroke-width: 0.8\"/>\n      </g>\n     </g>\n     <g id=\"text_16\">\n      <!-- 4 -->\n      <g transform=\"translate(407.216843 239.825653)scale(0.1 -0.1)\">\n       <defs>\n        <path id=\"DejaVuSans-34\" d=\"M 2419 4116 \nL 825 1625 \nL 2419 1625 \nL 2419 4116 \nz\nM 2253 4666 \nL 3047 4666 \nL 3047 1625 \nL 3713 1625 \nL 3713 1100 \nL 3047 1100 \nL 3047 0 \nL 2419 0 \nL 2419 1100 \nL 313 1100 \nL 313 1709 \nL 2253 4666 \nz\n\" transform=\"scale(0.015625)\"/>\n       </defs>\n       <use xlink:href=\"#DejaVuSans-34\"/>\n      </g>\n     </g>\n    </g>\n    <g id=\"xtick_8\">\n     <g id=\"line2d_16\">\n      <g>\n       <use xlink:href=\"#m0a0bdad60a\" x=\"468.372119\" y=\"225.227216\" style=\"stroke: #000000; stroke-width: 0.8\"/>\n      </g>\n     </g>\n     <g id=\"text_17\">\n      <!-- 6 -->\n      <g transform=\"translate(465.190869 239.825653)scale(0.1 -0.1)\">\n       <defs>\n        <path id=\"DejaVuSans-36\" d=\"M 2113 2584 \nQ 1688 2584 1439 2293 \nQ 1191 2003 1191 1497 \nQ 1191 994 1439 701 \nQ 1688 409 2113 409 \nQ 2538 409 2786 701 \nQ 3034 994 3034 1497 \nQ 3034 2003 2786 2293 \nQ 2538 2584 2113 2584 \nz\nM 3366 4563 \nL 3366 3988 \nQ 3128 4100 2886 4159 \nQ 2644 4219 2406 4219 \nQ 1781 4219 1451 3797 \nQ 1122 3375 1075 2522 \nQ 1259 2794 1537 2939 \nQ 1816 3084 2150 3084 \nQ 2853 3084 3261 2657 \nQ 3669 2231 3669 1497 \nQ 3669 778 3244 343 \nQ 2819 -91 2113 -91 \nQ 1303 -91 875 529 \nQ 447 1150 447 2328 \nQ 447 3434 972 4092 \nQ 1497 4750 2381 4750 \nQ 2619 4750 2861 4703 \nQ 3103 4656 3366 4563 \nz\n\" transform=\"scale(0.015625)\"/>\n       </defs>\n       <use xlink:href=\"#DejaVuSans-36\"/>\n      </g>\n     </g>\n    </g>\n   </g>\n   <g id=\"matplotlib.axis_4\">\n    <g id=\"ytick_9\">\n     <g id=\"line2d_17\">\n      <g>\n       <use xlink:href=\"#md21438a08b\" x=\"279.956534\" y=\"36.811631\" style=\"stroke: #000000; stroke-width: 0.8\"/>\n      </g>\n     </g>\n     <g id=\"text_18\">\n      <!-- 0 -->\n      <g transform=\"translate(266.594034 40.61085)scale(0.1 -0.1)\">\n       <use xlink:href=\"#DejaVuSans-30\"/>\n      </g>\n     </g>\n    </g>\n    <g id=\"ytick_10\">\n     <g id=\"line2d_18\">\n      <g>\n       <use xlink:href=\"#md21438a08b\" x=\"279.956534\" y=\"65.798644\" style=\"stroke: #000000; stroke-width: 0.8\"/>\n      </g>\n     </g>\n     <g id=\"text_19\">\n      <!-- 1 -->\n      <g transform=\"translate(266.594034 69.597863)scale(0.1 -0.1)\">\n       <use xlink:href=\"#DejaVuSans-31\"/>\n      </g>\n     </g>\n    </g>\n    <g id=\"ytick_11\">\n     <g id=\"line2d_19\">\n      <g>\n       <use xlink:href=\"#md21438a08b\" x=\"279.956534\" y=\"94.785657\" style=\"stroke: #000000; stroke-width: 0.8\"/>\n      </g>\n     </g>\n     <g id=\"text_20\">\n      <!-- 2 -->\n      <g transform=\"translate(266.594034 98.584876)scale(0.1 -0.1)\">\n       <use xlink:href=\"#DejaVuSans-32\"/>\n      </g>\n     </g>\n    </g>\n    <g id=\"ytick_12\">\n     <g id=\"line2d_20\">\n      <g>\n       <use xlink:href=\"#md21438a08b\" x=\"279.956534\" y=\"123.77267\" style=\"stroke: #000000; stroke-width: 0.8\"/>\n      </g>\n     </g>\n     <g id=\"text_21\">\n      <!-- 3 -->\n      <g transform=\"translate(266.594034 127.571889)scale(0.1 -0.1)\">\n       <defs>\n        <path id=\"DejaVuSans-33\" d=\"M 2597 2516 \nQ 3050 2419 3304 2112 \nQ 3559 1806 3559 1356 \nQ 3559 666 3084 287 \nQ 2609 -91 1734 -91 \nQ 1441 -91 1130 -33 \nQ 819 25 488 141 \nL 488 750 \nQ 750 597 1062 519 \nQ 1375 441 1716 441 \nQ 2309 441 2620 675 \nQ 2931 909 2931 1356 \nQ 2931 1769 2642 2001 \nQ 2353 2234 1838 2234 \nL 1294 2234 \nL 1294 2753 \nL 1863 2753 \nQ 2328 2753 2575 2939 \nQ 2822 3125 2822 3475 \nQ 2822 3834 2567 4026 \nQ 2313 4219 1838 4219 \nQ 1578 4219 1281 4162 \nQ 984 4106 628 3988 \nL 628 4550 \nQ 988 4650 1302 4700 \nQ 1616 4750 1894 4750 \nQ 2613 4750 3031 4423 \nQ 3450 4097 3450 3541 \nQ 3450 3153 3228 2886 \nQ 3006 2619 2597 2516 \nz\n\" transform=\"scale(0.015625)\"/>\n       </defs>\n       <use xlink:href=\"#DejaVuSans-33\"/>\n      </g>\n     </g>\n    </g>\n    <g id=\"ytick_13\">\n     <g id=\"line2d_21\">\n      <g>\n       <use xlink:href=\"#md21438a08b\" x=\"279.956534\" y=\"152.759683\" style=\"stroke: #000000; stroke-width: 0.8\"/>\n      </g>\n     </g>\n     <g id=\"text_22\">\n      <!-- 4 -->\n      <g transform=\"translate(266.594034 156.558902)scale(0.1 -0.1)\">\n       <use xlink:href=\"#DejaVuSans-34\"/>\n      </g>\n     </g>\n    </g>\n    <g id=\"ytick_14\">\n     <g id=\"line2d_22\">\n      <g>\n       <use xlink:href=\"#md21438a08b\" x=\"279.956534\" y=\"181.746696\" style=\"stroke: #000000; stroke-width: 0.8\"/>\n      </g>\n     </g>\n     <g id=\"text_23\">\n      <!-- 5 -->\n      <g transform=\"translate(266.594034 185.545915)scale(0.1 -0.1)\">\n       <use xlink:href=\"#DejaVuSans-35\"/>\n      </g>\n     </g>\n    </g>\n    <g id=\"ytick_15\">\n     <g id=\"line2d_23\">\n      <g>\n       <use xlink:href=\"#md21438a08b\" x=\"279.956534\" y=\"210.733709\" style=\"stroke: #000000; stroke-width: 0.8\"/>\n      </g>\n     </g>\n     <g id=\"text_24\">\n      <!-- 6 -->\n      <g transform=\"translate(266.594034 214.532928)scale(0.1 -0.1)\">\n       <use xlink:href=\"#DejaVuSans-36\"/>\n      </g>\n     </g>\n    </g>\n   </g>\n   <g id=\"patch_8\">\n    <path d=\"M 279.956534 225.227216 \nL 279.956534 22.318125 \n\" style=\"fill: none; stroke: #000000; stroke-width: 0.8; stroke-linejoin: miter; stroke-linecap: square\"/>\n   </g>\n   <g id=\"patch_9\">\n    <path d=\"M 482.865625 225.227216 \nL 482.865625 22.318125 \n\" style=\"fill: none; stroke: #000000; stroke-width: 0.8; stroke-linejoin: miter; stroke-linecap: square\"/>\n   </g>\n   <g id=\"patch_10\">\n    <path d=\"M 279.956534 225.227216 \nL 482.865625 225.227216 \n\" style=\"fill: none; stroke: #000000; stroke-width: 0.8; stroke-linejoin: miter; stroke-linecap: square\"/>\n   </g>\n   <g id=\"patch_11\">\n    <path d=\"M 279.956534 22.318125 \nL 482.865625 22.318125 \n\" style=\"fill: none; stroke: #000000; stroke-width: 0.8; stroke-linejoin: miter; stroke-linecap: square\"/>\n   </g>\n   <g id=\"text_25\">\n    <!-- Filter -->\n    <g transform=\"translate(366.550767 16.318125)scale(0.12 -0.12)\">\n     <defs>\n      <path id=\"DejaVuSans-46\" d=\"M 628 4666 \nL 3309 4666 \nL 3309 4134 \nL 1259 4134 \nL 1259 2759 \nL 3109 2759 \nL 3109 2228 \nL 1259 2228 \nL 1259 0 \nL 628 0 \nL 628 4666 \nz\n\" transform=\"scale(0.015625)\"/>\n      <path id=\"DejaVuSans-74\" d=\"M 1172 4494 \nL 1172 3500 \nL 2356 3500 \nL 2356 3053 \nL 1172 3053 \nL 1172 1153 \nQ 1172 725 1289 603 \nQ 1406 481 1766 481 \nL 2356 481 \nL 2356 0 \nL 1766 0 \nQ 1100 0 847 248 \nQ 594 497 594 1153 \nL 594 3053 \nL 172 3053 \nL 172 3500 \nL 594 3500 \nL 594 4494 \nL 1172 4494 \nz\n\" transform=\"scale(0.015625)\"/>\n      <path id=\"DejaVuSans-72\" d=\"M 2631 2963 \nQ 2534 3019 2420 3045 \nQ 2306 3072 2169 3072 \nQ 1681 3072 1420 2755 \nQ 1159 2438 1159 1844 \nL 1159 0 \nL 581 0 \nL 581 3500 \nL 1159 3500 \nL 1159 2956 \nQ 1341 3275 1631 3429 \nQ 1922 3584 2338 3584 \nQ 2397 3584 2469 3576 \nQ 2541 3569 2628 3553 \nL 2631 2963 \nz\n\" transform=\"scale(0.015625)\"/>\n     </defs>\n     <use xlink:href=\"#DejaVuSans-46\"/>\n     <use xlink:href=\"#DejaVuSans-69\" x=\"50.269531\"/>\n     <use xlink:href=\"#DejaVuSans-6c\" x=\"78.052734\"/>\n     <use xlink:href=\"#DejaVuSans-74\" x=\"105.835938\"/>\n     <use xlink:href=\"#DejaVuSans-65\" x=\"145.044922\"/>\n     <use xlink:href=\"#DejaVuSans-72\" x=\"206.568359\"/>\n    </g>\n   </g>\n  </g>\n </g>\n <defs>\n  <clipPath id=\"p7daa1d28d4\">\n   <rect x=\"36.465625\" y=\"22.318125\" width=\"202.909091\" height=\"202.909091\"/>\n  </clipPath>\n  <clipPath id=\"pd60df893d5\">\n   <rect x=\"279.956534\" y=\"22.318125\" width=\"202.909091\" height=\"202.909091\"/>\n  </clipPath>\n </defs>\n</svg>\n",
      "text/plain": [
       "<Figure size 576x432 with 2 Axes>"
      ]
     },
     "metadata": {
      "needs_background": "light"
     },
     "output_type": "display_data"
    }
   ],
   "source": [
    "# image\n",
    "imgN = 20\n",
    "image = np.random.randn(imgN,imgN)\n",
    "\n",
    "# convolution kernel\n",
    "kernelN = 7\n",
    "Y,X = np.meshgrid(np.linspace(-3,3,kernelN),np.linspace(-3,3,kernelN))\n",
    "# 2D Gaussian Filter\n",
    "kernel = np.exp( -(X**2+Y**2)/7 )\n",
    "\n",
    "\n",
    "# let's see what they look like\n",
    "fig,ax = plt.subplots(1,2,figsize=(8,6))\n",
    "ax[0].imshow(image)\n",
    "ax[0].set_title('Random Pixel Image')\n",
    "\n",
    "ax[1].imshow(kernel)\n",
    "ax[1].set_title('Filter')\n",
    "\n",
    "plt.show()"
   ]
  },
  {
   "cell_type": "code",
   "execution_count": 34,
   "metadata": {},
   "outputs": [],
   "source": [
    "### Manual convolution ###\n",
    "convoutput = np.zeros((imgN,imgN))\n",
    "halfKr = kernelN//2\n",
    "\n",
    "for rowi in range(halfKr,imgN-halfKr):\n",
    "  for coli in range(halfKr,imgN-halfKr):\n",
    "\n",
    "    # cut out a piece of the image\n",
    "    pieceOfImg = image[rowi-halfKr:rowi+halfKr+1,:]      # get the rows\n",
    "    pieceOfImg = pieceOfImg[:,coli-halfKr:coli+halfKr+1] # extract the columns\n",
    "\n",
    "    # dot product: element-wise multiply and sum (and flip the kernel for \"real convolution\")\n",
    "    dotprod = np.sum( pieceOfImg*kernel[::-1,::-1] )\n",
    "\n",
    "    # store the result for this pixel\n",
    "    convoutput[rowi,coli] = dotprod\n",
    "\n",
    "### Using scipy Convolution ###\n",
    "convoutput2 = convolve2d(image,kernel,mode='valid')"
   ]
  },
  {
   "cell_type": "code",
   "execution_count": 35,
   "metadata": {},
   "outputs": [
    {
     "data": {
      "image/svg+xml": "<?xml version=\"1.0\" encoding=\"utf-8\" standalone=\"no\"?>\n<!DOCTYPE svg PUBLIC \"-//W3C//DTD SVG 1.1//EN\"\n  \"http://www.w3.org/Graphics/SVG/1.1/DTD/svg11.dtd\">\n<svg xmlns:xlink=\"http://www.w3.org/1999/xlink\" width=\"484.829261pt\" height=\"481.07625pt\" viewBox=\"0 0 484.829261 481.07625\" xmlns=\"http://www.w3.org/2000/svg\" version=\"1.1\">\n <metadata>\n  <rdf:RDF xmlns:dc=\"http://purl.org/dc/elements/1.1/\" xmlns:cc=\"http://creativecommons.org/ns#\" xmlns:rdf=\"http://www.w3.org/1999/02/22-rdf-syntax-ns#\">\n   <cc:Work>\n    <dc:type rdf:resource=\"http://purl.org/dc/dcmitype/StillImage\"/>\n    <dc:date>2023-02-19T10:53:22.007858</dc:date>\n    <dc:format>image/svg+xml</dc:format>\n    <dc:creator>\n     <cc:Agent>\n      <dc:title>Matplotlib v3.5.3, https://matplotlib.org/</dc:title>\n     </cc:Agent>\n    </dc:creator>\n   </cc:Work>\n  </rdf:RDF>\n </metadata>\n <defs>\n  <style type=\"text/css\">*{stroke-linejoin: round; stroke-linecap: butt}</style>\n </defs>\n <g id=\"figure_1\">\n  <g id=\"patch_1\">\n   <path d=\"M 0 481.07625 \nL 484.829261 481.07625 \nL 484.829261 0 \nL 0 0 \nL 0 481.07625 \nz\n\" style=\"fill: none\"/>\n  </g>\n  <g id=\"axes_1\">\n   <g id=\"patch_2\">\n    <path d=\"M 36.465625 219.990852 \nL 234.138352 219.990852 \nL 234.138352 22.318125 \nL 36.465625 22.318125 \nz\n\" style=\"fill: #ffffff\"/>\n   </g>\n   <g clip-path=\"url(#peb981262dd)\">\n    <image xlink:href=\"data:image/png;base64,\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\" id=\"image07b401b00c\" transform=\"scale(1 -1)translate(0 -198)\" x=\"36.465625\" y=\"-21.990852\" width=\"198\" height=\"198\"/>\n   </g>\n   <g id=\"matplotlib.axis_1\">\n    <g id=\"xtick_1\">\n     <g id=\"line2d_1\">\n      <defs>\n       <path id=\"mb2e9342434\" d=\"M 0 0 \nL 0 3.5 \n\" style=\"stroke: #000000; stroke-width: 0.8\"/>\n      </defs>\n      <g>\n       <use xlink:href=\"#mb2e9342434\" x=\"41.407443\" y=\"219.990852\" style=\"stroke: #000000; stroke-width: 0.8\"/>\n      </g>\n     </g>\n     <g id=\"text_1\">\n      <!-- 0 -->\n      <g transform=\"translate(38.226193 234.58929)scale(0.1 -0.1)\">\n       <defs>\n        <path id=\"DejaVuSans-30\" d=\"M 2034 4250 \nQ 1547 4250 1301 3770 \nQ 1056 3291 1056 2328 \nQ 1056 1369 1301 889 \nQ 1547 409 2034 409 \nQ 2525 409 2770 889 \nQ 3016 1369 3016 2328 \nQ 3016 3291 2770 3770 \nQ 2525 4250 2034 4250 \nz\nM 2034 4750 \nQ 2819 4750 3233 4129 \nQ 3647 3509 3647 2328 \nQ 3647 1150 3233 529 \nQ 2819 -91 2034 -91 \nQ 1250 -91 836 529 \nQ 422 1150 422 2328 \nQ 422 3509 836 4129 \nQ 1250 4750 2034 4750 \nz\n\" transform=\"scale(0.015625)\"/>\n       </defs>\n       <use xlink:href=\"#DejaVuSans-30\"/>\n      </g>\n     </g>\n    </g>\n    <g id=\"xtick_2\">\n     <g id=\"line2d_2\">\n      <g>\n       <use xlink:href=\"#mb2e9342434\" x=\"90.825625\" y=\"219.990852\" style=\"stroke: #000000; stroke-width: 0.8\"/>\n      </g>\n     </g>\n     <g id=\"text_2\">\n      <!-- 5 -->\n      <g transform=\"translate(87.644375 234.58929)scale(0.1 -0.1)\">\n       <defs>\n        <path id=\"DejaVuSans-35\" d=\"M 691 4666 \nL 3169 4666 \nL 3169 4134 \nL 1269 4134 \nL 1269 2991 \nQ 1406 3038 1543 3061 \nQ 1681 3084 1819 3084 \nQ 2600 3084 3056 2656 \nQ 3513 2228 3513 1497 \nQ 3513 744 3044 326 \nQ 2575 -91 1722 -91 \nQ 1428 -91 1123 -41 \nQ 819 9 494 109 \nL 494 744 \nQ 775 591 1075 516 \nQ 1375 441 1709 441 \nQ 2250 441 2565 725 \nQ 2881 1009 2881 1497 \nQ 2881 1984 2565 2268 \nQ 2250 2553 1709 2553 \nQ 1456 2553 1204 2497 \nQ 953 2441 691 2322 \nL 691 4666 \nz\n\" transform=\"scale(0.015625)\"/>\n       </defs>\n       <use xlink:href=\"#DejaVuSans-35\"/>\n      </g>\n     </g>\n    </g>\n    <g id=\"xtick_3\">\n     <g id=\"line2d_3\">\n      <g>\n       <use xlink:href=\"#mb2e9342434\" x=\"140.243807\" y=\"219.990852\" style=\"stroke: #000000; stroke-width: 0.8\"/>\n      </g>\n     </g>\n     <g id=\"text_3\">\n      <!-- 10 -->\n      <g transform=\"translate(133.881307 234.58929)scale(0.1 -0.1)\">\n       <defs>\n        <path id=\"DejaVuSans-31\" d=\"M 794 531 \nL 1825 531 \nL 1825 4091 \nL 703 3866 \nL 703 4441 \nL 1819 4666 \nL 2450 4666 \nL 2450 531 \nL 3481 531 \nL 3481 0 \nL 794 0 \nL 794 531 \nz\n\" transform=\"scale(0.015625)\"/>\n       </defs>\n       <use xlink:href=\"#DejaVuSans-31\"/>\n       <use xlink:href=\"#DejaVuSans-30\" x=\"63.623047\"/>\n      </g>\n     </g>\n    </g>\n    <g id=\"xtick_4\">\n     <g id=\"line2d_4\">\n      <g>\n       <use xlink:href=\"#mb2e9342434\" x=\"189.661989\" y=\"219.990852\" style=\"stroke: #000000; stroke-width: 0.8\"/>\n      </g>\n     </g>\n     <g id=\"text_4\">\n      <!-- 15 -->\n      <g transform=\"translate(183.299489 234.58929)scale(0.1 -0.1)\">\n       <use xlink:href=\"#DejaVuSans-31\"/>\n       <use xlink:href=\"#DejaVuSans-35\" x=\"63.623047\"/>\n      </g>\n     </g>\n    </g>\n   </g>\n   <g id=\"matplotlib.axis_2\">\n    <g id=\"ytick_1\">\n     <g id=\"line2d_5\">\n      <defs>\n       <path id=\"me64b115ada\" d=\"M 0 0 \nL -3.5 0 \n\" style=\"stroke: #000000; stroke-width: 0.8\"/>\n      </defs>\n      <g>\n       <use xlink:href=\"#me64b115ada\" x=\"36.465625\" y=\"27.259943\" style=\"stroke: #000000; stroke-width: 0.8\"/>\n      </g>\n     </g>\n     <g id=\"text_5\">\n      <!-- 0.0 -->\n      <g transform=\"translate(13.5625 31.059162)scale(0.1 -0.1)\">\n       <defs>\n        <path id=\"DejaVuSans-2e\" d=\"M 684 794 \nL 1344 794 \nL 1344 0 \nL 684 0 \nL 684 794 \nz\n\" transform=\"scale(0.015625)\"/>\n       </defs>\n       <use xlink:href=\"#DejaVuSans-30\"/>\n       <use xlink:href=\"#DejaVuSans-2e\" x=\"63.623047\"/>\n       <use xlink:href=\"#DejaVuSans-30\" x=\"95.410156\"/>\n      </g>\n     </g>\n    </g>\n    <g id=\"ytick_2\">\n     <g id=\"line2d_6\">\n      <g>\n       <use xlink:href=\"#me64b115ada\" x=\"36.465625\" y=\"51.969034\" style=\"stroke: #000000; stroke-width: 0.8\"/>\n      </g>\n     </g>\n     <g id=\"text_6\">\n      <!-- 2.5 -->\n      <g transform=\"translate(13.5625 55.768253)scale(0.1 -0.1)\">\n       <defs>\n        <path id=\"DejaVuSans-32\" d=\"M 1228 531 \nL 3431 531 \nL 3431 0 \nL 469 0 \nL 469 531 \nQ 828 903 1448 1529 \nQ 2069 2156 2228 2338 \nQ 2531 2678 2651 2914 \nQ 2772 3150 2772 3378 \nQ 2772 3750 2511 3984 \nQ 2250 4219 1831 4219 \nQ 1534 4219 1204 4116 \nQ 875 4013 500 3803 \nL 500 4441 \nQ 881 4594 1212 4672 \nQ 1544 4750 1819 4750 \nQ 2544 4750 2975 4387 \nQ 3406 4025 3406 3419 \nQ 3406 3131 3298 2873 \nQ 3191 2616 2906 2266 \nQ 2828 2175 2409 1742 \nQ 1991 1309 1228 531 \nz\n\" transform=\"scale(0.015625)\"/>\n       </defs>\n       <use xlink:href=\"#DejaVuSans-32\"/>\n       <use xlink:href=\"#DejaVuSans-2e\" x=\"63.623047\"/>\n       <use xlink:href=\"#DejaVuSans-35\" x=\"95.410156\"/>\n      </g>\n     </g>\n    </g>\n    <g id=\"ytick_3\">\n     <g id=\"line2d_7\">\n      <g>\n       <use xlink:href=\"#me64b115ada\" x=\"36.465625\" y=\"76.678125\" style=\"stroke: #000000; stroke-width: 0.8\"/>\n      </g>\n     </g>\n     <g id=\"text_7\">\n      <!-- 5.0 -->\n      <g transform=\"translate(13.5625 80.477344)scale(0.1 -0.1)\">\n       <use xlink:href=\"#DejaVuSans-35\"/>\n       <use xlink:href=\"#DejaVuSans-2e\" x=\"63.623047\"/>\n       <use xlink:href=\"#DejaVuSans-30\" x=\"95.410156\"/>\n      </g>\n     </g>\n    </g>\n    <g id=\"ytick_4\">\n     <g id=\"line2d_8\">\n      <g>\n       <use xlink:href=\"#me64b115ada\" x=\"36.465625\" y=\"101.387216\" style=\"stroke: #000000; stroke-width: 0.8\"/>\n      </g>\n     </g>\n     <g id=\"text_8\">\n      <!-- 7.5 -->\n      <g transform=\"translate(13.5625 105.186435)scale(0.1 -0.1)\">\n       <defs>\n        <path id=\"DejaVuSans-37\" d=\"M 525 4666 \nL 3525 4666 \nL 3525 4397 \nL 1831 0 \nL 1172 0 \nL 2766 4134 \nL 525 4134 \nL 525 4666 \nz\n\" transform=\"scale(0.015625)\"/>\n       </defs>\n       <use xlink:href=\"#DejaVuSans-37\"/>\n       <use xlink:href=\"#DejaVuSans-2e\" x=\"63.623047\"/>\n       <use xlink:href=\"#DejaVuSans-35\" x=\"95.410156\"/>\n      </g>\n     </g>\n    </g>\n    <g id=\"ytick_5\">\n     <g id=\"line2d_9\">\n      <g>\n       <use xlink:href=\"#me64b115ada\" x=\"36.465625\" y=\"126.096307\" style=\"stroke: #000000; stroke-width: 0.8\"/>\n      </g>\n     </g>\n     <g id=\"text_9\">\n      <!-- 10.0 -->\n      <g transform=\"translate(7.2 129.895526)scale(0.1 -0.1)\">\n       <use xlink:href=\"#DejaVuSans-31\"/>\n       <use xlink:href=\"#DejaVuSans-30\" x=\"63.623047\"/>\n       <use xlink:href=\"#DejaVuSans-2e\" x=\"127.246094\"/>\n       <use xlink:href=\"#DejaVuSans-30\" x=\"159.033203\"/>\n      </g>\n     </g>\n    </g>\n    <g id=\"ytick_6\">\n     <g id=\"line2d_10\">\n      <g>\n       <use xlink:href=\"#me64b115ada\" x=\"36.465625\" y=\"150.805398\" style=\"stroke: #000000; stroke-width: 0.8\"/>\n      </g>\n     </g>\n     <g id=\"text_10\">\n      <!-- 12.5 -->\n      <g transform=\"translate(7.2 154.604616)scale(0.1 -0.1)\">\n       <use xlink:href=\"#DejaVuSans-31\"/>\n       <use xlink:href=\"#DejaVuSans-32\" x=\"63.623047\"/>\n       <use xlink:href=\"#DejaVuSans-2e\" x=\"127.246094\"/>\n       <use xlink:href=\"#DejaVuSans-35\" x=\"159.033203\"/>\n      </g>\n     </g>\n    </g>\n    <g id=\"ytick_7\">\n     <g id=\"line2d_11\">\n      <g>\n       <use xlink:href=\"#me64b115ada\" x=\"36.465625\" y=\"175.514489\" style=\"stroke: #000000; stroke-width: 0.8\"/>\n      </g>\n     </g>\n     <g id=\"text_11\">\n      <!-- 15.0 -->\n      <g transform=\"translate(7.2 179.313707)scale(0.1 -0.1)\">\n       <use xlink:href=\"#DejaVuSans-31\"/>\n       <use xlink:href=\"#DejaVuSans-35\" x=\"63.623047\"/>\n       <use xlink:href=\"#DejaVuSans-2e\" x=\"127.246094\"/>\n       <use xlink:href=\"#DejaVuSans-30\" x=\"159.033203\"/>\n      </g>\n     </g>\n    </g>\n    <g id=\"ytick_8\">\n     <g id=\"line2d_12\">\n      <g>\n       <use xlink:href=\"#me64b115ada\" x=\"36.465625\" y=\"200.22358\" style=\"stroke: #000000; stroke-width: 0.8\"/>\n      </g>\n     </g>\n     <g id=\"text_12\">\n      <!-- 17.5 -->\n      <g transform=\"translate(7.2 204.022798)scale(0.1 -0.1)\">\n       <use xlink:href=\"#DejaVuSans-31\"/>\n       <use xlink:href=\"#DejaVuSans-37\" x=\"63.623047\"/>\n       <use xlink:href=\"#DejaVuSans-2e\" x=\"127.246094\"/>\n       <use xlink:href=\"#DejaVuSans-35\" x=\"159.033203\"/>\n      </g>\n     </g>\n    </g>\n   </g>\n   <g id=\"patch_3\">\n    <path d=\"M 36.465625 219.990852 \nL 36.465625 22.318125 \n\" style=\"fill: none; stroke: #000000; stroke-width: 0.8; stroke-linejoin: miter; stroke-linecap: square\"/>\n   </g>\n   <g id=\"patch_4\">\n    <path d=\"M 234.138352 219.990852 \nL 234.138352 22.318125 \n\" style=\"fill: none; stroke: #000000; stroke-width: 0.8; stroke-linejoin: miter; stroke-linecap: square\"/>\n   </g>\n   <g id=\"patch_5\">\n    <path d=\"M 36.465625 219.990852 \nL 234.138352 219.990852 \n\" style=\"fill: none; stroke: #000000; stroke-width: 0.8; stroke-linejoin: miter; stroke-linecap: square\"/>\n   </g>\n   <g id=\"patch_6\">\n    <path d=\"M 36.465625 22.318125 \nL 234.138352 22.318125 \n\" style=\"fill: none; stroke: #000000; stroke-width: 0.8; stroke-linejoin: miter; stroke-linecap: square\"/>\n   </g>\n   <g id=\"text_13\">\n    <!-- Image -->\n    <g transform=\"translate(116.509801 16.318125)scale(0.12 -0.12)\">\n     <defs>\n      <path id=\"DejaVuSans-49\" d=\"M 628 4666 \nL 1259 4666 \nL 1259 0 \nL 628 0 \nL 628 4666 \nz\n\" transform=\"scale(0.015625)\"/>\n      <path id=\"DejaVuSans-6d\" d=\"M 3328 2828 \nQ 3544 3216 3844 3400 \nQ 4144 3584 4550 3584 \nQ 5097 3584 5394 3201 \nQ 5691 2819 5691 2113 \nL 5691 0 \nL 5113 0 \nL 5113 2094 \nQ 5113 2597 4934 2840 \nQ 4756 3084 4391 3084 \nQ 3944 3084 3684 2787 \nQ 3425 2491 3425 1978 \nL 3425 0 \nL 2847 0 \nL 2847 2094 \nQ 2847 2600 2669 2842 \nQ 2491 3084 2119 3084 \nQ 1678 3084 1418 2786 \nQ 1159 2488 1159 1978 \nL 1159 0 \nL 581 0 \nL 581 3500 \nL 1159 3500 \nL 1159 2956 \nQ 1356 3278 1631 3431 \nQ 1906 3584 2284 3584 \nQ 2666 3584 2933 3390 \nQ 3200 3197 3328 2828 \nz\n\" transform=\"scale(0.015625)\"/>\n      <path id=\"DejaVuSans-61\" d=\"M 2194 1759 \nQ 1497 1759 1228 1600 \nQ 959 1441 959 1056 \nQ 959 750 1161 570 \nQ 1363 391 1709 391 \nQ 2188 391 2477 730 \nQ 2766 1069 2766 1631 \nL 2766 1759 \nL 2194 1759 \nz\nM 3341 1997 \nL 3341 0 \nL 2766 0 \nL 2766 531 \nQ 2569 213 2275 61 \nQ 1981 -91 1556 -91 \nQ 1019 -91 701 211 \nQ 384 513 384 1019 \nQ 384 1609 779 1909 \nQ 1175 2209 1959 2209 \nL 2766 2209 \nL 2766 2266 \nQ 2766 2663 2505 2880 \nQ 2244 3097 1772 3097 \nQ 1472 3097 1187 3025 \nQ 903 2953 641 2809 \nL 641 3341 \nQ 956 3463 1253 3523 \nQ 1550 3584 1831 3584 \nQ 2591 3584 2966 3190 \nQ 3341 2797 3341 1997 \nz\n\" transform=\"scale(0.015625)\"/>\n      <path id=\"DejaVuSans-67\" d=\"M 2906 1791 \nQ 2906 2416 2648 2759 \nQ 2391 3103 1925 3103 \nQ 1463 3103 1205 2759 \nQ 947 2416 947 1791 \nQ 947 1169 1205 825 \nQ 1463 481 1925 481 \nQ 2391 481 2648 825 \nQ 2906 1169 2906 1791 \nz\nM 3481 434 \nQ 3481 -459 3084 -895 \nQ 2688 -1331 1869 -1331 \nQ 1566 -1331 1297 -1286 \nQ 1028 -1241 775 -1147 \nL 775 -588 \nQ 1028 -725 1275 -790 \nQ 1522 -856 1778 -856 \nQ 2344 -856 2625 -561 \nQ 2906 -266 2906 331 \nL 2906 616 \nQ 2728 306 2450 153 \nQ 2172 0 1784 0 \nQ 1141 0 747 490 \nQ 353 981 353 1791 \nQ 353 2603 747 3093 \nQ 1141 3584 1784 3584 \nQ 2172 3584 2450 3431 \nQ 2728 3278 2906 2969 \nL 2906 3500 \nL 3481 3500 \nL 3481 434 \nz\n\" transform=\"scale(0.015625)\"/>\n      <path id=\"DejaVuSans-65\" d=\"M 3597 1894 \nL 3597 1613 \nL 953 1613 \nQ 991 1019 1311 708 \nQ 1631 397 2203 397 \nQ 2534 397 2845 478 \nQ 3156 559 3463 722 \nL 3463 178 \nQ 3153 47 2828 -22 \nQ 2503 -91 2169 -91 \nQ 1331 -91 842 396 \nQ 353 884 353 1716 \nQ 353 2575 817 3079 \nQ 1281 3584 2069 3584 \nQ 2775 3584 3186 3129 \nQ 3597 2675 3597 1894 \nz\nM 3022 2063 \nQ 3016 2534 2758 2815 \nQ 2500 3097 2075 3097 \nQ 1594 3097 1305 2825 \nQ 1016 2553 972 2059 \nL 3022 2063 \nz\n\" transform=\"scale(0.015625)\"/>\n     </defs>\n     <use xlink:href=\"#DejaVuSans-49\"/>\n     <use xlink:href=\"#DejaVuSans-6d\" x=\"29.492188\"/>\n     <use xlink:href=\"#DejaVuSans-61\" x=\"126.904297\"/>\n     <use xlink:href=\"#DejaVuSans-67\" x=\"188.183594\"/>\n     <use xlink:href=\"#DejaVuSans-65\" x=\"251.660156\"/>\n    </g>\n   </g>\n  </g>\n  <g id=\"axes_2\">\n   <g id=\"patch_7\">\n    <path d=\"M 279.956534 219.990852 \nL 477.629261 219.990852 \nL 477.629261 22.318125 \nL 279.956534 22.318125 \nz\n\" style=\"fill: #ffffff\"/>\n   </g>\n   <g clip-path=\"url(#pb925b764ac)\">\n    <image xlink:href=\"data:image/png;base64,\niVBORw0KGgoAAAANSUhEUgAAAMYAAADGCAYAAACJm/9dAAADIklEQVR4nO3csYpVVxiG4d9kD4MyxGJOJYYUgqVWuYGQMmXqXKV3YZVT2omCzbEITKMzJinSvvUPgee5gY/NXi+rW49+ffT7P7Po+OnHzbmZmbl/fru7d3Os7l3dPezuffy8ujcz8/D+w+red6tr8D8hDAjCgCAMCMKAIAwIwoAgDAjCgCAMCMKAIAwIwoAgDAjCgCAMCMKAIAwIwoAgDAjCgCAMCMKAIAwIwoAgDAjCgHBsvyX718/PVvdmZi6vdvv/cvq2und9eby6dzrv/8Ony3tuDAjCgCAMCMKAIAwIwoAgDAjCgCAMCMKAIAwIwoAgDAjCgCAMCMKAIAwIwoAgDAjCgCAMCMKAIAwIwoAgDAjCgCAMCMKAcNw/v10d3H5geWbm1S/vVvd+O/25uvfm8np17zwvV/dmZp582j2nbgwIwoAgDAjCgCAMCMKAIAwIwoAgDAjCgCAMCMKAIAwIwoAgDAjCgCAMCMKAIAwIwoAgDAjCgCAMCMKAIAwIwoAgDAjH/c2xOvjl9G11b2b/Ldk/fris7s3sft/b04vVvZmZ7XPqxoAgDAjCgCAMCMKAIAwIwoAgDAjCgCAMCMKAIAwIwoAgDAjCgCAMCMKAIAwIwoAgDAjCgCAMCMKAIAwIwoAgDAjCgHBc3T2sDl5fHq/uzcy8ubxeXtx9S3b7+64v36/uzcxc3X1d3XNjQBAGBGFAEAYEYUAQBgRhQBAGBGFAEAYEYUAQBgRhQBAGBGFAEAYEYUAQBgRhQBAGBGFAEAYEYUAQBgRhQBAGBGFAOK4+fl4dPJ2fre7NzJzn5ere29OL1b3tt2RP579X92Zmts+pGwOCMCAIA4IwIAgDgjAgCAOCMCAIA4IwIAgDgjAgCAOCMCAIA4IwIAgDgjAgCAOCMCAIA4IwIAgDgjAgCAOCMCAIA4IwIBwP7z+sDj5dXfvPk0+3q3v3N8fq3tXd19295QeWZ2a2z6kbA4IwIAgDgjAgCAOCMCAIA4IwIAgDgjAgCAOCMCAIA4IwIAgDgjAgCAOCMCAIA4IwIAgDgjAgCAOCMCAIA4IwIAgDwr8eIUMZmIaVeAAAAABJRU5ErkJggg==\" id=\"image380f359cc2\" transform=\"scale(1 -1)translate(0 -198)\" x=\"279.956534\" y=\"-21.990852\" width=\"198\" height=\"198\"/>\n   </g>\n   <g id=\"matplotlib.axis_3\">\n    <g id=\"xtick_5\">\n     <g id=\"line2d_13\">\n      <g>\n       <use xlink:href=\"#mb2e9342434\" x=\"294.076015\" y=\"219.990852\" style=\"stroke: #000000; stroke-width: 0.8\"/>\n      </g>\n     </g>\n     <g id=\"text_14\">\n      <!-- 0 -->\n      <g transform=\"translate(290.894765 234.58929)scale(0.1 -0.1)\">\n       <use xlink:href=\"#DejaVuSans-30\"/>\n      </g>\n     </g>\n    </g>\n    <g id=\"xtick_6\">\n     <g id=\"line2d_14\">\n      <g>\n       <use xlink:href=\"#mb2e9342434\" x=\"350.553937\" y=\"219.990852\" style=\"stroke: #000000; stroke-width: 0.8\"/>\n      </g>\n     </g>\n     <g id=\"text_15\">\n      <!-- 2 -->\n      <g transform=\"translate(347.372687 234.58929)scale(0.1 -0.1)\">\n       <use xlink:href=\"#DejaVuSans-32\"/>\n      </g>\n     </g>\n    </g>\n    <g id=\"xtick_7\">\n     <g id=\"line2d_15\">\n      <g>\n       <use xlink:href=\"#mb2e9342434\" x=\"407.031859\" y=\"219.990852\" style=\"stroke: #000000; stroke-width: 0.8\"/>\n      </g>\n     </g>\n     <g id=\"text_16\">\n      <!-- 4 -->\n      <g transform=\"translate(403.850609 234.58929)scale(0.1 -0.1)\">\n       <defs>\n        <path id=\"DejaVuSans-34\" d=\"M 2419 4116 \nL 825 1625 \nL 2419 1625 \nL 2419 4116 \nz\nM 2253 4666 \nL 3047 4666 \nL 3047 1625 \nL 3713 1625 \nL 3713 1100 \nL 3047 1100 \nL 3047 0 \nL 2419 0 \nL 2419 1100 \nL 313 1100 \nL 313 1709 \nL 2253 4666 \nz\n\" transform=\"scale(0.015625)\"/>\n       </defs>\n       <use xlink:href=\"#DejaVuSans-34\"/>\n      </g>\n     </g>\n    </g>\n    <g id=\"xtick_8\">\n     <g id=\"line2d_16\">\n      <g>\n       <use xlink:href=\"#mb2e9342434\" x=\"463.509781\" y=\"219.990852\" style=\"stroke: #000000; stroke-width: 0.8\"/>\n      </g>\n     </g>\n     <g id=\"text_17\">\n      <!-- 6 -->\n      <g transform=\"translate(460.328531 234.58929)scale(0.1 -0.1)\">\n       <defs>\n        <path id=\"DejaVuSans-36\" d=\"M 2113 2584 \nQ 1688 2584 1439 2293 \nQ 1191 2003 1191 1497 \nQ 1191 994 1439 701 \nQ 1688 409 2113 409 \nQ 2538 409 2786 701 \nQ 3034 994 3034 1497 \nQ 3034 2003 2786 2293 \nQ 2538 2584 2113 2584 \nz\nM 3366 4563 \nL 3366 3988 \nQ 3128 4100 2886 4159 \nQ 2644 4219 2406 4219 \nQ 1781 4219 1451 3797 \nQ 1122 3375 1075 2522 \nQ 1259 2794 1537 2939 \nQ 1816 3084 2150 3084 \nQ 2853 3084 3261 2657 \nQ 3669 2231 3669 1497 \nQ 3669 778 3244 343 \nQ 2819 -91 2113 -91 \nQ 1303 -91 875 529 \nQ 447 1150 447 2328 \nQ 447 3434 972 4092 \nQ 1497 4750 2381 4750 \nQ 2619 4750 2861 4703 \nQ 3103 4656 3366 4563 \nz\n\" transform=\"scale(0.015625)\"/>\n       </defs>\n       <use xlink:href=\"#DejaVuSans-36\"/>\n      </g>\n     </g>\n    </g>\n   </g>\n   <g id=\"matplotlib.axis_4\">\n    <g id=\"ytick_9\">\n     <g id=\"line2d_17\">\n      <g>\n       <use xlink:href=\"#me64b115ada\" x=\"279.956534\" y=\"36.437606\" style=\"stroke: #000000; stroke-width: 0.8\"/>\n      </g>\n     </g>\n     <g id=\"text_18\">\n      <!-- 0 -->\n      <g transform=\"translate(266.594034 40.236824)scale(0.1 -0.1)\">\n       <use xlink:href=\"#DejaVuSans-30\"/>\n      </g>\n     </g>\n    </g>\n    <g id=\"ytick_10\">\n     <g id=\"line2d_18\">\n      <g>\n       <use xlink:href=\"#me64b115ada\" x=\"279.956534\" y=\"64.676567\" style=\"stroke: #000000; stroke-width: 0.8\"/>\n      </g>\n     </g>\n     <g id=\"text_19\">\n      <!-- 1 -->\n      <g transform=\"translate(266.594034 68.475785)scale(0.1 -0.1)\">\n       <use xlink:href=\"#DejaVuSans-31\"/>\n      </g>\n     </g>\n    </g>\n    <g id=\"ytick_11\">\n     <g id=\"line2d_19\">\n      <g>\n       <use xlink:href=\"#me64b115ada\" x=\"279.956534\" y=\"92.915528\" style=\"stroke: #000000; stroke-width: 0.8\"/>\n      </g>\n     </g>\n     <g id=\"text_20\">\n      <!-- 2 -->\n      <g transform=\"translate(266.594034 96.714746)scale(0.1 -0.1)\">\n       <use xlink:href=\"#DejaVuSans-32\"/>\n      </g>\n     </g>\n    </g>\n    <g id=\"ytick_12\">\n     <g id=\"line2d_20\">\n      <g>\n       <use xlink:href=\"#me64b115ada\" x=\"279.956534\" y=\"121.154489\" style=\"stroke: #000000; stroke-width: 0.8\"/>\n      </g>\n     </g>\n     <g id=\"text_21\">\n      <!-- 3 -->\n      <g transform=\"translate(266.594034 124.953707)scale(0.1 -0.1)\">\n       <defs>\n        <path id=\"DejaVuSans-33\" d=\"M 2597 2516 \nQ 3050 2419 3304 2112 \nQ 3559 1806 3559 1356 \nQ 3559 666 3084 287 \nQ 2609 -91 1734 -91 \nQ 1441 -91 1130 -33 \nQ 819 25 488 141 \nL 488 750 \nQ 750 597 1062 519 \nQ 1375 441 1716 441 \nQ 2309 441 2620 675 \nQ 2931 909 2931 1356 \nQ 2931 1769 2642 2001 \nQ 2353 2234 1838 2234 \nL 1294 2234 \nL 1294 2753 \nL 1863 2753 \nQ 2328 2753 2575 2939 \nQ 2822 3125 2822 3475 \nQ 2822 3834 2567 4026 \nQ 2313 4219 1838 4219 \nQ 1578 4219 1281 4162 \nQ 984 4106 628 3988 \nL 628 4550 \nQ 988 4650 1302 4700 \nQ 1616 4750 1894 4750 \nQ 2613 4750 3031 4423 \nQ 3450 4097 3450 3541 \nQ 3450 3153 3228 2886 \nQ 3006 2619 2597 2516 \nz\n\" transform=\"scale(0.015625)\"/>\n       </defs>\n       <use xlink:href=\"#DejaVuSans-33\"/>\n      </g>\n     </g>\n    </g>\n    <g id=\"ytick_13\">\n     <g id=\"line2d_21\">\n      <g>\n       <use xlink:href=\"#me64b115ada\" x=\"279.956534\" y=\"149.39345\" style=\"stroke: #000000; stroke-width: 0.8\"/>\n      </g>\n     </g>\n     <g id=\"text_22\">\n      <!-- 4 -->\n      <g transform=\"translate(266.594034 153.192668)scale(0.1 -0.1)\">\n       <use xlink:href=\"#DejaVuSans-34\"/>\n      </g>\n     </g>\n    </g>\n    <g id=\"ytick_14\">\n     <g id=\"line2d_22\">\n      <g>\n       <use xlink:href=\"#me64b115ada\" x=\"279.956534\" y=\"177.632411\" style=\"stroke: #000000; stroke-width: 0.8\"/>\n      </g>\n     </g>\n     <g id=\"text_23\">\n      <!-- 5 -->\n      <g transform=\"translate(266.594034 181.431629)scale(0.1 -0.1)\">\n       <use xlink:href=\"#DejaVuSans-35\"/>\n      </g>\n     </g>\n    </g>\n    <g id=\"ytick_15\">\n     <g id=\"line2d_23\">\n      <g>\n       <use xlink:href=\"#me64b115ada\" x=\"279.956534\" y=\"205.871372\" style=\"stroke: #000000; stroke-width: 0.8\"/>\n      </g>\n     </g>\n     <g id=\"text_24\">\n      <!-- 6 -->\n      <g transform=\"translate(266.594034 209.670591)scale(0.1 -0.1)\">\n       <use xlink:href=\"#DejaVuSans-36\"/>\n      </g>\n     </g>\n    </g>\n   </g>\n   <g id=\"patch_8\">\n    <path d=\"M 279.956534 219.990852 \nL 279.956534 22.318125 \n\" style=\"fill: none; stroke: #000000; stroke-width: 0.8; stroke-linejoin: miter; stroke-linecap: square\"/>\n   </g>\n   <g id=\"patch_9\">\n    <path d=\"M 477.629261 219.990852 \nL 477.629261 22.318125 \n\" style=\"fill: none; stroke: #000000; stroke-width: 0.8; stroke-linejoin: miter; stroke-linecap: square\"/>\n   </g>\n   <g id=\"patch_10\">\n    <path d=\"M 279.956534 219.990852 \nL 477.629261 219.990852 \n\" style=\"fill: none; stroke: #000000; stroke-width: 0.8; stroke-linejoin: miter; stroke-linecap: square\"/>\n   </g>\n   <g id=\"patch_11\">\n    <path d=\"M 279.956534 22.318125 \nL 477.629261 22.318125 \n\" style=\"fill: none; stroke: #000000; stroke-width: 0.8; stroke-linejoin: miter; stroke-linecap: square\"/>\n   </g>\n   <g id=\"text_25\">\n    <!-- Convolution kernel -->\n    <g transform=\"translate(322.566335 16.318125)scale(0.12 -0.12)\">\n     <defs>\n      <path id=\"DejaVuSans-43\" d=\"M 4122 4306 \nL 4122 3641 \nQ 3803 3938 3442 4084 \nQ 3081 4231 2675 4231 \nQ 1875 4231 1450 3742 \nQ 1025 3253 1025 2328 \nQ 1025 1406 1450 917 \nQ 1875 428 2675 428 \nQ 3081 428 3442 575 \nQ 3803 722 4122 1019 \nL 4122 359 \nQ 3791 134 3420 21 \nQ 3050 -91 2638 -91 \nQ 1578 -91 968 557 \nQ 359 1206 359 2328 \nQ 359 3453 968 4101 \nQ 1578 4750 2638 4750 \nQ 3056 4750 3426 4639 \nQ 3797 4528 4122 4306 \nz\n\" transform=\"scale(0.015625)\"/>\n      <path id=\"DejaVuSans-6f\" d=\"M 1959 3097 \nQ 1497 3097 1228 2736 \nQ 959 2375 959 1747 \nQ 959 1119 1226 758 \nQ 1494 397 1959 397 \nQ 2419 397 2687 759 \nQ 2956 1122 2956 1747 \nQ 2956 2369 2687 2733 \nQ 2419 3097 1959 3097 \nz\nM 1959 3584 \nQ 2709 3584 3137 3096 \nQ 3566 2609 3566 1747 \nQ 3566 888 3137 398 \nQ 2709 -91 1959 -91 \nQ 1206 -91 779 398 \nQ 353 888 353 1747 \nQ 353 2609 779 3096 \nQ 1206 3584 1959 3584 \nz\n\" transform=\"scale(0.015625)\"/>\n      <path id=\"DejaVuSans-6e\" d=\"M 3513 2113 \nL 3513 0 \nL 2938 0 \nL 2938 2094 \nQ 2938 2591 2744 2837 \nQ 2550 3084 2163 3084 \nQ 1697 3084 1428 2787 \nQ 1159 2491 1159 1978 \nL 1159 0 \nL 581 0 \nL 581 3500 \nL 1159 3500 \nL 1159 2956 \nQ 1366 3272 1645 3428 \nQ 1925 3584 2291 3584 \nQ 2894 3584 3203 3211 \nQ 3513 2838 3513 2113 \nz\n\" transform=\"scale(0.015625)\"/>\n      <path id=\"DejaVuSans-76\" d=\"M 191 3500 \nL 800 3500 \nL 1894 563 \nL 2988 3500 \nL 3597 3500 \nL 2284 0 \nL 1503 0 \nL 191 3500 \nz\n\" transform=\"scale(0.015625)\"/>\n      <path id=\"DejaVuSans-6c\" d=\"M 603 4863 \nL 1178 4863 \nL 1178 0 \nL 603 0 \nL 603 4863 \nz\n\" transform=\"scale(0.015625)\"/>\n      <path id=\"DejaVuSans-75\" d=\"M 544 1381 \nL 544 3500 \nL 1119 3500 \nL 1119 1403 \nQ 1119 906 1312 657 \nQ 1506 409 1894 409 \nQ 2359 409 2629 706 \nQ 2900 1003 2900 1516 \nL 2900 3500 \nL 3475 3500 \nL 3475 0 \nL 2900 0 \nL 2900 538 \nQ 2691 219 2414 64 \nQ 2138 -91 1772 -91 \nQ 1169 -91 856 284 \nQ 544 659 544 1381 \nz\nM 1991 3584 \nL 1991 3584 \nz\n\" transform=\"scale(0.015625)\"/>\n      <path id=\"DejaVuSans-74\" d=\"M 1172 4494 \nL 1172 3500 \nL 2356 3500 \nL 2356 3053 \nL 1172 3053 \nL 1172 1153 \nQ 1172 725 1289 603 \nQ 1406 481 1766 481 \nL 2356 481 \nL 2356 0 \nL 1766 0 \nQ 1100 0 847 248 \nQ 594 497 594 1153 \nL 594 3053 \nL 172 3053 \nL 172 3500 \nL 594 3500 \nL 594 4494 \nL 1172 4494 \nz\n\" transform=\"scale(0.015625)\"/>\n      <path id=\"DejaVuSans-69\" d=\"M 603 3500 \nL 1178 3500 \nL 1178 0 \nL 603 0 \nL 603 3500 \nz\nM 603 4863 \nL 1178 4863 \nL 1178 4134 \nL 603 4134 \nL 603 4863 \nz\n\" transform=\"scale(0.015625)\"/>\n      <path id=\"DejaVuSans-20\" transform=\"scale(0.015625)\"/>\n      <path id=\"DejaVuSans-6b\" d=\"M 581 4863 \nL 1159 4863 \nL 1159 1991 \nL 2875 3500 \nL 3609 3500 \nL 1753 1863 \nL 3688 0 \nL 2938 0 \nL 1159 1709 \nL 1159 0 \nL 581 0 \nL 581 4863 \nz\n\" transform=\"scale(0.015625)\"/>\n      <path id=\"DejaVuSans-72\" d=\"M 2631 2963 \nQ 2534 3019 2420 3045 \nQ 2306 3072 2169 3072 \nQ 1681 3072 1420 2755 \nQ 1159 2438 1159 1844 \nL 1159 0 \nL 581 0 \nL 581 3500 \nL 1159 3500 \nL 1159 2956 \nQ 1341 3275 1631 3429 \nQ 1922 3584 2338 3584 \nQ 2397 3584 2469 3576 \nQ 2541 3569 2628 3553 \nL 2631 2963 \nz\n\" transform=\"scale(0.015625)\"/>\n     </defs>\n     <use xlink:href=\"#DejaVuSans-43\"/>\n     <use xlink:href=\"#DejaVuSans-6f\" x=\"69.824219\"/>\n     <use xlink:href=\"#DejaVuSans-6e\" x=\"131.005859\"/>\n     <use xlink:href=\"#DejaVuSans-76\" x=\"194.384766\"/>\n     <use xlink:href=\"#DejaVuSans-6f\" x=\"253.564453\"/>\n     <use xlink:href=\"#DejaVuSans-6c\" x=\"314.746094\"/>\n     <use xlink:href=\"#DejaVuSans-75\" x=\"342.529297\"/>\n     <use xlink:href=\"#DejaVuSans-74\" x=\"405.908203\"/>\n     <use xlink:href=\"#DejaVuSans-69\" x=\"445.117188\"/>\n     <use xlink:href=\"#DejaVuSans-6f\" x=\"472.900391\"/>\n     <use xlink:href=\"#DejaVuSans-6e\" x=\"534.082031\"/>\n     <use xlink:href=\"#DejaVuSans-20\" x=\"597.460938\"/>\n     <use xlink:href=\"#DejaVuSans-6b\" x=\"629.248047\"/>\n     <use xlink:href=\"#DejaVuSans-65\" x=\"683.533203\"/>\n     <use xlink:href=\"#DejaVuSans-72\" x=\"745.056641\"/>\n     <use xlink:href=\"#DejaVuSans-6e\" x=\"784.419922\"/>\n     <use xlink:href=\"#DejaVuSans-65\" x=\"847.798828\"/>\n     <use xlink:href=\"#DejaVuSans-6c\" x=\"909.322266\"/>\n    </g>\n   </g>\n  </g>\n  <g id=\"axes_3\">\n   <g id=\"patch_12\">\n    <path d=\"M 36.465625 457.198125 \nL 234.138352 457.198125 \nL 234.138352 259.525398 \nL 36.465625 259.525398 \nz\n\" style=\"fill: #ffffff\"/>\n   </g>\n   <g clip-path=\"url(#p75b7c831af)\">\n    <image xlink:href=\"data:image/png;base64,\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\" id=\"imagef432aa75bc\" transform=\"scale(1 -1)translate(0 -198)\" x=\"36.465625\" y=\"-259.198125\" width=\"198\" height=\"198\"/>\n   </g>\n   <g id=\"matplotlib.axis_5\">\n    <g id=\"xtick_9\">\n     <g id=\"line2d_24\">\n      <g>\n       <use xlink:href=\"#mb2e9342434\" x=\"41.407443\" y=\"457.198125\" style=\"stroke: #000000; stroke-width: 0.8\"/>\n      </g>\n     </g>\n     <g id=\"text_26\">\n      <!-- 0 -->\n      <g transform=\"translate(38.226193 471.796562)scale(0.1 -0.1)\">\n       <use xlink:href=\"#DejaVuSans-30\"/>\n      </g>\n     </g>\n    </g>\n    <g id=\"xtick_10\">\n     <g id=\"line2d_25\">\n      <g>\n       <use xlink:href=\"#mb2e9342434\" x=\"90.825625\" y=\"457.198125\" style=\"stroke: #000000; stroke-width: 0.8\"/>\n      </g>\n     </g>\n     <g id=\"text_27\">\n      <!-- 5 -->\n      <g transform=\"translate(87.644375 471.796562)scale(0.1 -0.1)\">\n       <use xlink:href=\"#DejaVuSans-35\"/>\n      </g>\n     </g>\n    </g>\n    <g id=\"xtick_11\">\n     <g id=\"line2d_26\">\n      <g>\n       <use xlink:href=\"#mb2e9342434\" x=\"140.243807\" y=\"457.198125\" style=\"stroke: #000000; stroke-width: 0.8\"/>\n      </g>\n     </g>\n     <g id=\"text_28\">\n      <!-- 10 -->\n      <g transform=\"translate(133.881307 471.796562)scale(0.1 -0.1)\">\n       <use xlink:href=\"#DejaVuSans-31\"/>\n       <use xlink:href=\"#DejaVuSans-30\" x=\"63.623047\"/>\n      </g>\n     </g>\n    </g>\n    <g id=\"xtick_12\">\n     <g id=\"line2d_27\">\n      <g>\n       <use xlink:href=\"#mb2e9342434\" x=\"189.661989\" y=\"457.198125\" style=\"stroke: #000000; stroke-width: 0.8\"/>\n      </g>\n     </g>\n     <g id=\"text_29\">\n      <!-- 15 -->\n      <g transform=\"translate(183.299489 471.796562)scale(0.1 -0.1)\">\n       <use xlink:href=\"#DejaVuSans-31\"/>\n       <use xlink:href=\"#DejaVuSans-35\" x=\"63.623047\"/>\n      </g>\n     </g>\n    </g>\n   </g>\n   <g id=\"matplotlib.axis_6\">\n    <g id=\"ytick_16\">\n     <g id=\"line2d_28\">\n      <g>\n       <use xlink:href=\"#me64b115ada\" x=\"36.465625\" y=\"264.467216\" style=\"stroke: #000000; stroke-width: 0.8\"/>\n      </g>\n     </g>\n     <g id=\"text_30\">\n      <!-- 0.0 -->\n      <g transform=\"translate(13.5625 268.266435)scale(0.1 -0.1)\">\n       <use xlink:href=\"#DejaVuSans-30\"/>\n       <use xlink:href=\"#DejaVuSans-2e\" x=\"63.623047\"/>\n       <use xlink:href=\"#DejaVuSans-30\" x=\"95.410156\"/>\n      </g>\n     </g>\n    </g>\n    <g id=\"ytick_17\">\n     <g id=\"line2d_29\">\n      <g>\n       <use xlink:href=\"#me64b115ada\" x=\"36.465625\" y=\"289.176307\" style=\"stroke: #000000; stroke-width: 0.8\"/>\n      </g>\n     </g>\n     <g id=\"text_31\">\n      <!-- 2.5 -->\n      <g transform=\"translate(13.5625 292.975526)scale(0.1 -0.1)\">\n       <use xlink:href=\"#DejaVuSans-32\"/>\n       <use xlink:href=\"#DejaVuSans-2e\" x=\"63.623047\"/>\n       <use xlink:href=\"#DejaVuSans-35\" x=\"95.410156\"/>\n      </g>\n     </g>\n    </g>\n    <g id=\"ytick_18\">\n     <g id=\"line2d_30\">\n      <g>\n       <use xlink:href=\"#me64b115ada\" x=\"36.465625\" y=\"313.885398\" style=\"stroke: #000000; stroke-width: 0.8\"/>\n      </g>\n     </g>\n     <g id=\"text_32\">\n      <!-- 5.0 -->\n      <g transform=\"translate(13.5625 317.684616)scale(0.1 -0.1)\">\n       <use xlink:href=\"#DejaVuSans-35\"/>\n       <use xlink:href=\"#DejaVuSans-2e\" x=\"63.623047\"/>\n       <use xlink:href=\"#DejaVuSans-30\" x=\"95.410156\"/>\n      </g>\n     </g>\n    </g>\n    <g id=\"ytick_19\">\n     <g id=\"line2d_31\">\n      <g>\n       <use xlink:href=\"#me64b115ada\" x=\"36.465625\" y=\"338.594489\" style=\"stroke: #000000; stroke-width: 0.8\"/>\n      </g>\n     </g>\n     <g id=\"text_33\">\n      <!-- 7.5 -->\n      <g transform=\"translate(13.5625 342.393707)scale(0.1 -0.1)\">\n       <use xlink:href=\"#DejaVuSans-37\"/>\n       <use xlink:href=\"#DejaVuSans-2e\" x=\"63.623047\"/>\n       <use xlink:href=\"#DejaVuSans-35\" x=\"95.410156\"/>\n      </g>\n     </g>\n    </g>\n    <g id=\"ytick_20\">\n     <g id=\"line2d_32\">\n      <g>\n       <use xlink:href=\"#me64b115ada\" x=\"36.465625\" y=\"363.30358\" style=\"stroke: #000000; stroke-width: 0.8\"/>\n      </g>\n     </g>\n     <g id=\"text_34\">\n      <!-- 10.0 -->\n      <g transform=\"translate(7.2 367.102798)scale(0.1 -0.1)\">\n       <use xlink:href=\"#DejaVuSans-31\"/>\n       <use xlink:href=\"#DejaVuSans-30\" x=\"63.623047\"/>\n       <use xlink:href=\"#DejaVuSans-2e\" x=\"127.246094\"/>\n       <use xlink:href=\"#DejaVuSans-30\" x=\"159.033203\"/>\n      </g>\n     </g>\n    </g>\n    <g id=\"ytick_21\">\n     <g id=\"line2d_33\">\n      <g>\n       <use xlink:href=\"#me64b115ada\" x=\"36.465625\" y=\"388.01267\" style=\"stroke: #000000; stroke-width: 0.8\"/>\n      </g>\n     </g>\n     <g id=\"text_35\">\n      <!-- 12.5 -->\n      <g transform=\"translate(7.2 391.811889)scale(0.1 -0.1)\">\n       <use xlink:href=\"#DejaVuSans-31\"/>\n       <use xlink:href=\"#DejaVuSans-32\" x=\"63.623047\"/>\n       <use xlink:href=\"#DejaVuSans-2e\" x=\"127.246094\"/>\n       <use xlink:href=\"#DejaVuSans-35\" x=\"159.033203\"/>\n      </g>\n     </g>\n    </g>\n    <g id=\"ytick_22\">\n     <g id=\"line2d_34\">\n      <g>\n       <use xlink:href=\"#me64b115ada\" x=\"36.465625\" y=\"412.721761\" style=\"stroke: #000000; stroke-width: 0.8\"/>\n      </g>\n     </g>\n     <g id=\"text_36\">\n      <!-- 15.0 -->\n      <g transform=\"translate(7.2 416.52098)scale(0.1 -0.1)\">\n       <use xlink:href=\"#DejaVuSans-31\"/>\n       <use xlink:href=\"#DejaVuSans-35\" x=\"63.623047\"/>\n       <use xlink:href=\"#DejaVuSans-2e\" x=\"127.246094\"/>\n       <use xlink:href=\"#DejaVuSans-30\" x=\"159.033203\"/>\n      </g>\n     </g>\n    </g>\n    <g id=\"ytick_23\">\n     <g id=\"line2d_35\">\n      <g>\n       <use xlink:href=\"#me64b115ada\" x=\"36.465625\" y=\"437.430852\" style=\"stroke: #000000; stroke-width: 0.8\"/>\n      </g>\n     </g>\n     <g id=\"text_37\">\n      <!-- 17.5 -->\n      <g transform=\"translate(7.2 441.230071)scale(0.1 -0.1)\">\n       <use xlink:href=\"#DejaVuSans-31\"/>\n       <use xlink:href=\"#DejaVuSans-37\" x=\"63.623047\"/>\n       <use xlink:href=\"#DejaVuSans-2e\" x=\"127.246094\"/>\n       <use xlink:href=\"#DejaVuSans-35\" x=\"159.033203\"/>\n      </g>\n     </g>\n    </g>\n   </g>\n   <g id=\"patch_13\">\n    <path d=\"M 36.465625 457.198125 \nL 36.465625 259.525398 \n\" style=\"fill: none; stroke: #000000; stroke-width: 0.8; stroke-linejoin: miter; stroke-linecap: square\"/>\n   </g>\n   <g id=\"patch_14\">\n    <path d=\"M 234.138352 457.198125 \nL 234.138352 259.525398 \n\" style=\"fill: none; stroke: #000000; stroke-width: 0.8; stroke-linejoin: miter; stroke-linecap: square\"/>\n   </g>\n   <g id=\"patch_15\">\n    <path d=\"M 36.465625 457.198125 \nL 234.138352 457.198125 \n\" style=\"fill: none; stroke: #000000; stroke-width: 0.8; stroke-linejoin: miter; stroke-linecap: square\"/>\n   </g>\n   <g id=\"patch_16\">\n    <path d=\"M 36.465625 259.525398 \nL 234.138352 259.525398 \n\" style=\"fill: none; stroke: #000000; stroke-width: 0.8; stroke-linejoin: miter; stroke-linecap: square\"/>\n   </g>\n   <g id=\"text_38\">\n    <!-- Manual convolution -->\n    <g transform=\"translate(76.635114 253.525398)scale(0.12 -0.12)\">\n     <defs>\n      <path id=\"DejaVuSans-4d\" d=\"M 628 4666 \nL 1569 4666 \nL 2759 1491 \nL 3956 4666 \nL 4897 4666 \nL 4897 0 \nL 4281 0 \nL 4281 4097 \nL 3078 897 \nL 2444 897 \nL 1241 4097 \nL 1241 0 \nL 628 0 \nL 628 4666 \nz\n\" transform=\"scale(0.015625)\"/>\n      <path id=\"DejaVuSans-63\" d=\"M 3122 3366 \nL 3122 2828 \nQ 2878 2963 2633 3030 \nQ 2388 3097 2138 3097 \nQ 1578 3097 1268 2742 \nQ 959 2388 959 1747 \nQ 959 1106 1268 751 \nQ 1578 397 2138 397 \nQ 2388 397 2633 464 \nQ 2878 531 3122 666 \nL 3122 134 \nQ 2881 22 2623 -34 \nQ 2366 -91 2075 -91 \nQ 1284 -91 818 406 \nQ 353 903 353 1747 \nQ 353 2603 823 3093 \nQ 1294 3584 2113 3584 \nQ 2378 3584 2631 3529 \nQ 2884 3475 3122 3366 \nz\n\" transform=\"scale(0.015625)\"/>\n     </defs>\n     <use xlink:href=\"#DejaVuSans-4d\"/>\n     <use xlink:href=\"#DejaVuSans-61\" x=\"86.279297\"/>\n     <use xlink:href=\"#DejaVuSans-6e\" x=\"147.558594\"/>\n     <use xlink:href=\"#DejaVuSans-75\" x=\"210.9375\"/>\n     <use xlink:href=\"#DejaVuSans-61\" x=\"274.316406\"/>\n     <use xlink:href=\"#DejaVuSans-6c\" x=\"335.595703\"/>\n     <use xlink:href=\"#DejaVuSans-20\" x=\"363.378906\"/>\n     <use xlink:href=\"#DejaVuSans-63\" x=\"395.166016\"/>\n     <use xlink:href=\"#DejaVuSans-6f\" x=\"450.146484\"/>\n     <use xlink:href=\"#DejaVuSans-6e\" x=\"511.328125\"/>\n     <use xlink:href=\"#DejaVuSans-76\" x=\"574.707031\"/>\n     <use xlink:href=\"#DejaVuSans-6f\" x=\"633.886719\"/>\n     <use xlink:href=\"#DejaVuSans-6c\" x=\"695.068359\"/>\n     <use xlink:href=\"#DejaVuSans-75\" x=\"722.851562\"/>\n     <use xlink:href=\"#DejaVuSans-74\" x=\"786.230469\"/>\n     <use xlink:href=\"#DejaVuSans-69\" x=\"825.439453\"/>\n     <use xlink:href=\"#DejaVuSans-6f\" x=\"853.222656\"/>\n     <use xlink:href=\"#DejaVuSans-6e\" x=\"914.404297\"/>\n    </g>\n   </g>\n  </g>\n  <g id=\"axes_4\">\n   <g id=\"patch_17\">\n    <path d=\"M 279.956534 457.198125 \nL 477.629261 457.198125 \nL 477.629261 259.525398 \nL 279.956534 259.525398 \nz\n\" style=\"fill: #ffffff\"/>\n   </g>\n   <g clip-path=\"url(#pcfb1cc823b)\">\n    <image xlink:href=\"data:image/png;base64,\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\" id=\"image5c6df83be5\" transform=\"scale(1 -1)translate(0 -198)\" x=\"279.956534\" y=\"-259.198125\" width=\"198\" height=\"198\"/>\n   </g>\n   <g id=\"matplotlib.axis_7\">\n    <g id=\"xtick_13\">\n     <g id=\"line2d_36\">\n      <g>\n       <use xlink:href=\"#mb2e9342434\" x=\"287.016274\" y=\"457.198125\" style=\"stroke: #000000; stroke-width: 0.8\"/>\n      </g>\n     </g>\n     <g id=\"text_39\">\n      <!-- 0.0 -->\n      <g transform=\"translate(279.064712 471.796562)scale(0.1 -0.1)\">\n       <use xlink:href=\"#DejaVuSans-30\"/>\n       <use xlink:href=\"#DejaVuSans-2e\" x=\"63.623047\"/>\n       <use xlink:href=\"#DejaVuSans-30\" x=\"95.410156\"/>\n      </g>\n     </g>\n    </g>\n    <g id=\"xtick_14\">\n     <g id=\"line2d_37\">\n      <g>\n       <use xlink:href=\"#mb2e9342434\" x=\"322.314976\" y=\"457.198125\" style=\"stroke: #000000; stroke-width: 0.8\"/>\n      </g>\n     </g>\n     <g id=\"text_40\">\n      <!-- 2.5 -->\n      <g transform=\"translate(314.363413 471.796562)scale(0.1 -0.1)\">\n       <use xlink:href=\"#DejaVuSans-32\"/>\n       <use xlink:href=\"#DejaVuSans-2e\" x=\"63.623047\"/>\n       <use xlink:href=\"#DejaVuSans-35\" x=\"95.410156\"/>\n      </g>\n     </g>\n    </g>\n    <g id=\"xtick_15\">\n     <g id=\"line2d_38\">\n      <g>\n       <use xlink:href=\"#mb2e9342434\" x=\"357.613677\" y=\"457.198125\" style=\"stroke: #000000; stroke-width: 0.8\"/>\n      </g>\n     </g>\n     <g id=\"text_41\">\n      <!-- 5.0 -->\n      <g transform=\"translate(349.662114 471.796562)scale(0.1 -0.1)\">\n       <use xlink:href=\"#DejaVuSans-35\"/>\n       <use xlink:href=\"#DejaVuSans-2e\" x=\"63.623047\"/>\n       <use xlink:href=\"#DejaVuSans-30\" x=\"95.410156\"/>\n      </g>\n     </g>\n    </g>\n    <g id=\"xtick_16\">\n     <g id=\"line2d_39\">\n      <g>\n       <use xlink:href=\"#mb2e9342434\" x=\"392.912378\" y=\"457.198125\" style=\"stroke: #000000; stroke-width: 0.8\"/>\n      </g>\n     </g>\n     <g id=\"text_42\">\n      <!-- 7.5 -->\n      <g transform=\"translate(384.960816 471.796562)scale(0.1 -0.1)\">\n       <use xlink:href=\"#DejaVuSans-37\"/>\n       <use xlink:href=\"#DejaVuSans-2e\" x=\"63.623047\"/>\n       <use xlink:href=\"#DejaVuSans-35\" x=\"95.410156\"/>\n      </g>\n     </g>\n    </g>\n    <g id=\"xtick_17\">\n     <g id=\"line2d_40\">\n      <g>\n       <use xlink:href=\"#mb2e9342434\" x=\"428.21108\" y=\"457.198125\" style=\"stroke: #000000; stroke-width: 0.8\"/>\n      </g>\n     </g>\n     <g id=\"text_43\">\n      <!-- 10.0 -->\n      <g transform=\"translate(417.078267 471.796562)scale(0.1 -0.1)\">\n       <use xlink:href=\"#DejaVuSans-31\"/>\n       <use xlink:href=\"#DejaVuSans-30\" x=\"63.623047\"/>\n       <use xlink:href=\"#DejaVuSans-2e\" x=\"127.246094\"/>\n       <use xlink:href=\"#DejaVuSans-30\" x=\"159.033203\"/>\n      </g>\n     </g>\n    </g>\n    <g id=\"xtick_18\">\n     <g id=\"line2d_41\">\n      <g>\n       <use xlink:href=\"#mb2e9342434\" x=\"463.509781\" y=\"457.198125\" style=\"stroke: #000000; stroke-width: 0.8\"/>\n      </g>\n     </g>\n     <g id=\"text_44\">\n      <!-- 12.5 -->\n      <g transform=\"translate(452.376968 471.796562)scale(0.1 -0.1)\">\n       <use xlink:href=\"#DejaVuSans-31\"/>\n       <use xlink:href=\"#DejaVuSans-32\" x=\"63.623047\"/>\n       <use xlink:href=\"#DejaVuSans-2e\" x=\"127.246094\"/>\n       <use xlink:href=\"#DejaVuSans-35\" x=\"159.033203\"/>\n      </g>\n     </g>\n    </g>\n   </g>\n   <g id=\"matplotlib.axis_8\">\n    <g id=\"ytick_24\">\n     <g id=\"line2d_42\">\n      <g>\n       <use xlink:href=\"#me64b115ada\" x=\"279.956534\" y=\"266.585138\" style=\"stroke: #000000; stroke-width: 0.8\"/>\n      </g>\n     </g>\n     <g id=\"text_45\">\n      <!-- 0 -->\n      <g transform=\"translate(266.594034 270.384357)scale(0.1 -0.1)\">\n       <use xlink:href=\"#DejaVuSans-30\"/>\n      </g>\n     </g>\n    </g>\n    <g id=\"ytick_25\">\n     <g id=\"line2d_43\">\n      <g>\n       <use xlink:href=\"#me64b115ada\" x=\"279.956534\" y=\"294.824099\" style=\"stroke: #000000; stroke-width: 0.8\"/>\n      </g>\n     </g>\n     <g id=\"text_46\">\n      <!-- 2 -->\n      <g transform=\"translate(266.594034 298.623318)scale(0.1 -0.1)\">\n       <use xlink:href=\"#DejaVuSans-32\"/>\n      </g>\n     </g>\n    </g>\n    <g id=\"ytick_26\">\n     <g id=\"line2d_44\">\n      <g>\n       <use xlink:href=\"#me64b115ada\" x=\"279.956534\" y=\"323.06306\" style=\"stroke: #000000; stroke-width: 0.8\"/>\n      </g>\n     </g>\n     <g id=\"text_47\">\n      <!-- 4 -->\n      <g transform=\"translate(266.594034 326.862279)scale(0.1 -0.1)\">\n       <use xlink:href=\"#DejaVuSans-34\"/>\n      </g>\n     </g>\n    </g>\n    <g id=\"ytick_27\">\n     <g id=\"line2d_45\">\n      <g>\n       <use xlink:href=\"#me64b115ada\" x=\"279.956534\" y=\"351.302021\" style=\"stroke: #000000; stroke-width: 0.8\"/>\n      </g>\n     </g>\n     <g id=\"text_48\">\n      <!-- 6 -->\n      <g transform=\"translate(266.594034 355.10124)scale(0.1 -0.1)\">\n       <use xlink:href=\"#DejaVuSans-36\"/>\n      </g>\n     </g>\n    </g>\n    <g id=\"ytick_28\">\n     <g id=\"line2d_46\">\n      <g>\n       <use xlink:href=\"#me64b115ada\" x=\"279.956534\" y=\"379.540982\" style=\"stroke: #000000; stroke-width: 0.8\"/>\n      </g>\n     </g>\n     <g id=\"text_49\">\n      <!-- 8 -->\n      <g transform=\"translate(266.594034 383.340201)scale(0.1 -0.1)\">\n       <defs>\n        <path id=\"DejaVuSans-38\" d=\"M 2034 2216 \nQ 1584 2216 1326 1975 \nQ 1069 1734 1069 1313 \nQ 1069 891 1326 650 \nQ 1584 409 2034 409 \nQ 2484 409 2743 651 \nQ 3003 894 3003 1313 \nQ 3003 1734 2745 1975 \nQ 2488 2216 2034 2216 \nz\nM 1403 2484 \nQ 997 2584 770 2862 \nQ 544 3141 544 3541 \nQ 544 4100 942 4425 \nQ 1341 4750 2034 4750 \nQ 2731 4750 3128 4425 \nQ 3525 4100 3525 3541 \nQ 3525 3141 3298 2862 \nQ 3072 2584 2669 2484 \nQ 3125 2378 3379 2068 \nQ 3634 1759 3634 1313 \nQ 3634 634 3220 271 \nQ 2806 -91 2034 -91 \nQ 1263 -91 848 271 \nQ 434 634 434 1313 \nQ 434 1759 690 2068 \nQ 947 2378 1403 2484 \nz\nM 1172 3481 \nQ 1172 3119 1398 2916 \nQ 1625 2713 2034 2713 \nQ 2441 2713 2670 2916 \nQ 2900 3119 2900 3481 \nQ 2900 3844 2670 4047 \nQ 2441 4250 2034 4250 \nQ 1625 4250 1398 4047 \nQ 1172 3844 1172 3481 \nz\n\" transform=\"scale(0.015625)\"/>\n       </defs>\n       <use xlink:href=\"#DejaVuSans-38\"/>\n      </g>\n     </g>\n    </g>\n    <g id=\"ytick_29\">\n     <g id=\"line2d_47\">\n      <g>\n       <use xlink:href=\"#me64b115ada\" x=\"279.956534\" y=\"407.779943\" style=\"stroke: #000000; stroke-width: 0.8\"/>\n      </g>\n     </g>\n     <g id=\"text_50\">\n      <!-- 10 -->\n      <g transform=\"translate(260.231534 411.579162)scale(0.1 -0.1)\">\n       <use xlink:href=\"#DejaVuSans-31\"/>\n       <use xlink:href=\"#DejaVuSans-30\" x=\"63.623047\"/>\n      </g>\n     </g>\n    </g>\n    <g id=\"ytick_30\">\n     <g id=\"line2d_48\">\n      <g>\n       <use xlink:href=\"#me64b115ada\" x=\"279.956534\" y=\"436.018904\" style=\"stroke: #000000; stroke-width: 0.8\"/>\n      </g>\n     </g>\n     <g id=\"text_51\">\n      <!-- 12 -->\n      <g transform=\"translate(260.231534 439.818123)scale(0.1 -0.1)\">\n       <use xlink:href=\"#DejaVuSans-31\"/>\n       <use xlink:href=\"#DejaVuSans-32\" x=\"63.623047\"/>\n      </g>\n     </g>\n    </g>\n   </g>\n   <g id=\"patch_18\">\n    <path d=\"M 279.956534 457.198125 \nL 279.956534 259.525398 \n\" style=\"fill: none; stroke: #000000; stroke-width: 0.8; stroke-linejoin: miter; stroke-linecap: square\"/>\n   </g>\n   <g id=\"patch_19\">\n    <path d=\"M 477.629261 457.198125 \nL 477.629261 259.525398 \n\" style=\"fill: none; stroke: #000000; stroke-width: 0.8; stroke-linejoin: miter; stroke-linecap: square\"/>\n   </g>\n   <g id=\"patch_20\">\n    <path d=\"M 279.956534 457.198125 \nL 477.629261 457.198125 \n\" style=\"fill: none; stroke: #000000; stroke-width: 0.8; stroke-linejoin: miter; stroke-linecap: square\"/>\n   </g>\n   <g id=\"patch_21\">\n    <path d=\"M 279.956534 259.525398 \nL 477.629261 259.525398 \n\" style=\"fill: none; stroke: #000000; stroke-width: 0.8; stroke-linejoin: miter; stroke-linecap: square\"/>\n   </g>\n   <g id=\"text_52\">\n    <!-- Scipy's convolution -->\n    <g transform=\"translate(321.018523 253.525398)scale(0.12 -0.12)\">\n     <defs>\n      <path id=\"DejaVuSans-53\" d=\"M 3425 4513 \nL 3425 3897 \nQ 3066 4069 2747 4153 \nQ 2428 4238 2131 4238 \nQ 1616 4238 1336 4038 \nQ 1056 3838 1056 3469 \nQ 1056 3159 1242 3001 \nQ 1428 2844 1947 2747 \nL 2328 2669 \nQ 3034 2534 3370 2195 \nQ 3706 1856 3706 1288 \nQ 3706 609 3251 259 \nQ 2797 -91 1919 -91 \nQ 1588 -91 1214 -16 \nQ 841 59 441 206 \nL 441 856 \nQ 825 641 1194 531 \nQ 1563 422 1919 422 \nQ 2459 422 2753 634 \nQ 3047 847 3047 1241 \nQ 3047 1584 2836 1778 \nQ 2625 1972 2144 2069 \nL 1759 2144 \nQ 1053 2284 737 2584 \nQ 422 2884 422 3419 \nQ 422 4038 858 4394 \nQ 1294 4750 2059 4750 \nQ 2388 4750 2728 4690 \nQ 3069 4631 3425 4513 \nz\n\" transform=\"scale(0.015625)\"/>\n      <path id=\"DejaVuSans-70\" d=\"M 1159 525 \nL 1159 -1331 \nL 581 -1331 \nL 581 3500 \nL 1159 3500 \nL 1159 2969 \nQ 1341 3281 1617 3432 \nQ 1894 3584 2278 3584 \nQ 2916 3584 3314 3078 \nQ 3713 2572 3713 1747 \nQ 3713 922 3314 415 \nQ 2916 -91 2278 -91 \nQ 1894 -91 1617 61 \nQ 1341 213 1159 525 \nz\nM 3116 1747 \nQ 3116 2381 2855 2742 \nQ 2594 3103 2138 3103 \nQ 1681 3103 1420 2742 \nQ 1159 2381 1159 1747 \nQ 1159 1113 1420 752 \nQ 1681 391 2138 391 \nQ 2594 391 2855 752 \nQ 3116 1113 3116 1747 \nz\n\" transform=\"scale(0.015625)\"/>\n      <path id=\"DejaVuSans-79\" d=\"M 2059 -325 \nQ 1816 -950 1584 -1140 \nQ 1353 -1331 966 -1331 \nL 506 -1331 \nL 506 -850 \nL 844 -850 \nQ 1081 -850 1212 -737 \nQ 1344 -625 1503 -206 \nL 1606 56 \nL 191 3500 \nL 800 3500 \nL 1894 763 \nL 2988 3500 \nL 3597 3500 \nL 2059 -325 \nz\n\" transform=\"scale(0.015625)\"/>\n      <path id=\"DejaVuSans-27\" d=\"M 1147 4666 \nL 1147 2931 \nL 616 2931 \nL 616 4666 \nL 1147 4666 \nz\n\" transform=\"scale(0.015625)\"/>\n      <path id=\"DejaVuSans-73\" d=\"M 2834 3397 \nL 2834 2853 \nQ 2591 2978 2328 3040 \nQ 2066 3103 1784 3103 \nQ 1356 3103 1142 2972 \nQ 928 2841 928 2578 \nQ 928 2378 1081 2264 \nQ 1234 2150 1697 2047 \nL 1894 2003 \nQ 2506 1872 2764 1633 \nQ 3022 1394 3022 966 \nQ 3022 478 2636 193 \nQ 2250 -91 1575 -91 \nQ 1294 -91 989 -36 \nQ 684 19 347 128 \nL 347 722 \nQ 666 556 975 473 \nQ 1284 391 1588 391 \nQ 1994 391 2212 530 \nQ 2431 669 2431 922 \nQ 2431 1156 2273 1281 \nQ 2116 1406 1581 1522 \nL 1381 1569 \nQ 847 1681 609 1914 \nQ 372 2147 372 2553 \nQ 372 3047 722 3315 \nQ 1072 3584 1716 3584 \nQ 2034 3584 2315 3537 \nQ 2597 3491 2834 3397 \nz\n\" transform=\"scale(0.015625)\"/>\n     </defs>\n     <use xlink:href=\"#DejaVuSans-53\"/>\n     <use xlink:href=\"#DejaVuSans-63\" x=\"63.476562\"/>\n     <use xlink:href=\"#DejaVuSans-69\" x=\"118.457031\"/>\n     <use xlink:href=\"#DejaVuSans-70\" x=\"146.240234\"/>\n     <use xlink:href=\"#DejaVuSans-79\" x=\"209.716797\"/>\n     <use xlink:href=\"#DejaVuSans-27\" x=\"268.896484\"/>\n     <use xlink:href=\"#DejaVuSans-73\" x=\"296.386719\"/>\n     <use xlink:href=\"#DejaVuSans-20\" x=\"348.486328\"/>\n     <use xlink:href=\"#DejaVuSans-63\" x=\"380.273438\"/>\n     <use xlink:href=\"#DejaVuSans-6f\" x=\"435.253906\"/>\n     <use xlink:href=\"#DejaVuSans-6e\" x=\"496.435547\"/>\n     <use xlink:href=\"#DejaVuSans-76\" x=\"559.814453\"/>\n     <use xlink:href=\"#DejaVuSans-6f\" x=\"618.994141\"/>\n     <use xlink:href=\"#DejaVuSans-6c\" x=\"680.175781\"/>\n     <use xlink:href=\"#DejaVuSans-75\" x=\"707.958984\"/>\n     <use xlink:href=\"#DejaVuSans-74\" x=\"771.337891\"/>\n     <use xlink:href=\"#DejaVuSans-69\" x=\"810.546875\"/>\n     <use xlink:href=\"#DejaVuSans-6f\" x=\"838.330078\"/>\n     <use xlink:href=\"#DejaVuSans-6e\" x=\"899.511719\"/>\n    </g>\n   </g>\n  </g>\n </g>\n <defs>\n  <clipPath id=\"peb981262dd\">\n   <rect x=\"36.465625\" y=\"22.318125\" width=\"197.672727\" height=\"197.672727\"/>\n  </clipPath>\n  <clipPath id=\"pb925b764ac\">\n   <rect x=\"279.956534\" y=\"22.318125\" width=\"197.672727\" height=\"197.672727\"/>\n  </clipPath>\n  <clipPath id=\"p75b7c831af\">\n   <rect x=\"36.465625\" y=\"259.525398\" width=\"197.672727\" height=\"197.672727\"/>\n  </clipPath>\n  <clipPath id=\"pcfb1cc823b\">\n   <rect x=\"279.956534\" y=\"259.525398\" width=\"197.672727\" height=\"197.672727\"/>\n  </clipPath>\n </defs>\n</svg>\n",
      "text/plain": [
       "<Figure size 576x576 with 4 Axes>"
      ]
     },
     "metadata": {
      "needs_background": "light"
     },
     "output_type": "display_data"
    }
   ],
   "source": [
    "fig,ax = plt.subplots(2,2,figsize=(8,8))\n",
    "\n",
    "ax[0,0].imshow(image)\n",
    "ax[0,0].set_title('Image')\n",
    "\n",
    "ax[0,1].imshow(kernel)\n",
    "ax[0,1].set_title('Convolution kernel')\n",
    "\n",
    "ax[1,0].imshow(convoutput)\n",
    "ax[1,0].set_title('Manual convolution')\n",
    "\n",
    "ax[1,1].imshow(convoutput2)\n",
    "ax[1,1].set_title(\"Scipy's convolution\")\n",
    "\n",
    "plt.show()"
   ]
  },
  {
   "attachments": {},
   "cell_type": "markdown",
   "metadata": {},
   "source": [
    "### **1.1.3 Tree Dimension**"
   ]
  },
  {
   "attachments": {},
   "cell_type": "markdown",
   "metadata": {},
   "source": [
    "It is possible to represent a rank-3 tensor like $X_{ijq}$ in a single matrix of size $n\\times n \\times m$, by arranging the matrix representations of each of the $m$ matrices corresponding to different values of $1 \\leq l \\leq m$ as blocks in a larger matrix\n",
    "\n",
    "$$\n",
    "\\mathbf{X}=\n",
    "\\begin{bmatrix}\n",
    "\\begin{bmatrix}\n",
    "x_{1,1,1} & x_{1,2,1} & \\cdots & x_{1,n,1} \\\\\n",
    "x_{2,1,1} & x_{2,2,1} & \\cdots & x_{2,n,1} \\\\\n",
    "\\vdots & \\vdots & \\ddots & \\vdots \\\\\n",
    "x_{n,1,1} & x_{n,2,1} & \\cdots & x_{n,n,1}\n",
    "\\end{bmatrix}\\\\\n",
    "\\\\\n",
    "\\vdots\\\\\n",
    "\\vdots\\\\\n",
    "\\begin{bmatrix}\n",
    "x_{1,1,m} & x_{1,2,m} & \\cdots & x_{1,n,m} \\\\\n",
    "x_{2,1,m} & x_{2,2,m} & \\cdots & x_{2,n,m} \\\\\n",
    "\\vdots & \\vdots & \\ddots & \\vdots \\\\\n",
    "x_{n,1,m} & x_{n,2,m} & \\cdots & x_{n,n,m}\n",
    "\\end{bmatrix}\n",
    "\\end{bmatrix},~~\n",
    "\n",
    "\n",
    "\\mathbf{W}= \\begin{bmatrix}\n",
    "\\begin{bmatrix}\n",
    "w_{1,1,1} & w_{1,2,1} & \\cdots & w_{1,k,1} \\\\\n",
    "w_{2,1,1} & w_{2,2,1} & \\cdots & w_{2,k,1} \\\\\n",
    "\\vdots & \\vdots & \\ddots & \\vdots \\\\\n",
    "w_{k,1,1} & w_{k,2,1} & \\cdots & w_{k,k,1}\n",
    "\\end{bmatrix}\\\\\n",
    "\\\\\n",
    "\\vdots\\\\\n",
    "\\vdots\\\\\n",
    "\\begin{bmatrix}\n",
    "w_{1,1,r} & w_{1,2,r} & \\cdots & w_{1,k,r} \\\\\n",
    "w_{2,1,r} & w_{2,2,r} & \\cdots & w_{2,k,r} \\\\\n",
    "\\vdots & \\vdots & \\ddots & \\vdots \\\\\n",
    "w_{k,1,r} & w_{k,2,r} & \\cdots & w_{k,k,r}\n",
    "\\end{bmatrix}\n",
    "\\end{bmatrix}\n",
    "$$\n",
    "\n",
    "In the tensor $X_{ijq}$ the indices $i$ is for the row, $j$ for the columns and $q$ the depth, know as channels in the context of CNN. Similarly to the convolutions in others dimension, the window size must be $k \\leq n$  and the total number of channels (depth) on each tensor $r \\leq m$."
   ]
  },
  {
   "attachments": {},
   "cell_type": "markdown",
   "metadata": {},
   "source": [
    "Let $\\mathbf{X}_k(i,j,q)$ denote $k \\times k  \\times r$ subtensor  of $\\mathbf{X}$ starting at row $i$ column $j$ and depth $q$, defined as\n",
    "\n",
    "$$\n",
    "\\mathbf{X}_k(i,j,q)=\n",
    "\\begin{bmatrix}\n",
    "\\begin{bmatrix}\n",
    "x_{i,j,q} & x_{i,j+1,q} & \\cdots & x_{i,j+k-1,q} \\\\\n",
    "x_{i+1,j,q} & x_{i+1,j+1,q} & \\cdots & x_{i+1,j+k-1,q} \\\\\n",
    "\\vdots & \\vdots & \\ddots & \\vdots \\\\\n",
    "x_{i+k-1,j,q} & x_{i+k-1,j+1,q} & \\cdots & x_{i+k-1,j+k-1,q}\n",
    "\\end{bmatrix}\\\\\n",
    "\\\\\n",
    "\\begin{bmatrix}\n",
    "x_{i,j,q} & x_{i,j+1,q} & \\cdots & x_{i,j+k-1,q} \\\\\n",
    "x_{i+1,j,q} & x_{i+1,j+1,q} & \\cdots & x_{i+1,j+k-1,q} \\\\\n",
    "\\vdots & \\vdots & \\ddots & \\vdots \\\\\n",
    "x_{i+k-1,j,q} & x_{i+k-1,j+1,q} & \\cdots & x_{i+k-1,j+k-1,q}\n",
    "\\end{bmatrix}\\\\\n",
    "\\vdots\\\\\n",
    "\\begin{bmatrix}\n",
    "x_{i,j,q+r-1} & x_{i,j+1,q+r-1} & \\cdots & x_{i,j+k-1,q+r-1} \\\\\n",
    "x_{i+1,j,q+r-1} & x_{i+1,j+1,q+r-1} & \\cdots & x_{2,n,q+r-1} \\\\\n",
    "\\vdots & \\vdots & \\ddots & \\vdots \\\\\n",
    "x_{i+k-1,j,q+r-1} & x_{i+k-1,j+1,q+r-1} & \\cdots & x_{i+k-1,j+k-1,q+r-1}\n",
    "\\end{bmatrix}\n",
    "\\end{bmatrix}\n",
    "$$\n",
    "\n",
    "where $1 \\leq (i,j) \\leq n-k+1$ (same as 2D) and $1 \\leq q \\leq m-r+1$ .\n",
    "\n",
    "Given a vector $\\mathbf{A} \\in \\mathbb{R}^{k \\times k \\times r}$, define the summation operator as one that adds all elements of the vector. That is, \n",
    "\n",
    "$$\\text{Sum}(A) = \\sum_{a=1}^{k}\\sum_{b=1}^{k}\\sum_{q=1}^{r}a_{ijq}$$\n"
   ]
  },
  {
   "attachments": {},
   "cell_type": "markdown",
   "metadata": {},
   "source": [
    "The 3D convolution of $\\mathbf{X}$ and $\\mathbf{W}$ is\n",
    "\n",
    "$$\n",
    "\\mathbf{X} \\ast \\mathbf{W} = \n",
    "\\begin{bmatrix}\n",
    "\\begin{bmatrix}\n",
    "\\text{Sum}(X_k(1,1,1) \\odot \\mathbf{W})  & \\cdots & \\text{Sum}(X_k(1,n-k+1,1) \\odot \\mathbf{W}) \\\\\n",
    "\\vdots  & \\ddots & \\vdots \\\\\n",
    "\\text{Sum}(X_k(n-k+1,1,1) \\odot \\mathbf{W}) & \\cdots & \\text{Sum}(X_k(n-k+1,n-k+1,1) \\odot \\mathbf{W})\n",
    "\\end{bmatrix}\\\\\n",
    "\\\\\n",
    "\\begin{bmatrix}\n",
    "\\text{Sum}(X_k(1,1,2) \\odot \\mathbf{W})  & \\cdots & \\text{Sum}(X_k(1,n-k+1,2) \\odot \\mathbf{W}) \\\\\n",
    "\\vdots  & \\ddots & \\vdots \\\\\n",
    "\\text{Sum}(X_k(n-k+1,1,2) \\odot \\mathbf{W}) & \\cdots & \\text{Sum}(X_k(n-k+1,n-k+1,2) \\odot \\mathbf{W})\n",
    "\\end{bmatrix}\\\\\n",
    "\\\\\n",
    "\\vdots\\\\\n",
    "\\\\\n",
    "\\begin{bmatrix}\n",
    "\\text{Sum}(X_k(1,1,m-k+1) \\odot \\mathbf{W})  & \\cdots & \\text{Sum}(X_k(1,n-k+1,m-k+1) \\odot \\mathbf{W}) \\\\\n",
    "\\vdots  & \\ddots & \\vdots \\\\\n",
    "\\text{Sum}(X_k(n-k+1,1,m-k+1) \\odot \\mathbf{W}) & \\cdots & \\text{Sum}(X_k(n-k+1,n-k+1,m-k+1) \\odot \\mathbf{W})\n",
    "\\end{bmatrix}\n",
    "\\end{bmatrix}\n",
    "$$\n",
    "\n",
    "where \n",
    "\n",
    "$$\\text{Sum}(\\mathbf{X}_k(i,j,q) \\odot \\mathbf{W}) = \\sum_{a=1}^{k}\\sum_{b=1}^{k}\\sum_{c=1}^{r}x_{i+a-1,j+b-1,q+c-1}w_{a,b,c}$$\n",
    "\n",
    "for $(i,j) = 1,2, \\cdots, n-k+1$ and $q = 1,2, \\cdots, m-r+1$. The convolution of $\\mathbf{X} \\in \\mathbf{R}^{n \\times n \\times m}$ and $\\mathbf{W} \\in \\mathbf{R}^{k \\times k \\times r}$ results in a $(n-k+1) \\times (n-k+1) \\times (m-r+1)$ tensor."
   ]
  },
  {
   "attachments": {},
   "cell_type": "markdown",
   "metadata": {},
   "source": [
    "**Example** \n",
    " \n",
    "The input tensor $\\mathbf{X} \\in \\mathbb{R}^{n \\times n \\times m}$ has $n=3$ and depth $m=3$, and the filter $\\mathbb{W} \\in \\mathbb{R}^{k \\times k \\times r}$ have window size $k = 2$ and depth $r=2$. The results of the convolution is a matrix of shape $2\\times 2 \\times 2$."
   ]
  },
  {
   "cell_type": "code",
   "execution_count": 28,
   "metadata": {},
   "outputs": [
    {
     "name": "stdout",
     "output_type": "stream",
     "text": [
      "Input vector x:\n",
      " (3, 3, 3)\n",
      "filter W:\n",
      " (2, 2, 2)\n",
      "Convolved output:\n",
      " [[[6 6]\n",
      "  [6 6]]\n",
      "\n",
      " [[6 6]\n",
      "  [6 6]]]\n"
     ]
    }
   ],
   "source": [
    "# create a simple 3D matrix\n",
    "X = np.array([\n",
    "    [     [1, 2, 3],\n",
    "          [4, 5, 6],\n",
    "          [7, 8, 9]   ],\n",
    "    \n",
    "    [   [10, 11, 12],\n",
    "        [13, 14, 15],\n",
    "        [16, 17, 18]  ],\n",
    "    \n",
    "    [   [19, 20, 21],\n",
    "        [22, 23, 24],\n",
    "        [25, 26, 27]  ],\n",
    "                        ])\n",
    "\n",
    "# create a simple 3D kernel\n",
    "W = np.array([    \n",
    "    [   [1, 0],\n",
    "        [0, -1] ],\n",
    "\n",
    "    [   [0, 1],\n",
    "        [-1, 0] ]\n",
    "                    ])\n",
    "\n",
    "\n",
    "# perform 3D convolution using the convolve function\n",
    "output = convolve(X, W, mode='valid')\n",
    "\n",
    "# print the output\n",
    "print(\"Input vector x:\\n\", X.shape)\n",
    "print(\"filter W:\\n\", W.shape)\n",
    "print(\"Convolved output:\\n\", output)\n"
   ]
  },
  {
   "attachments": {},
   "cell_type": "markdown",
   "metadata": {},
   "source": [
    "## **1.2 3D Convolutions in CNNs**\n",
    "\n",
    "Typically in CNNs, we use a 3D filter $\\mathbf{W} \\in \\mathbb{R}^{k \\times k \\times m}$, with the number of channels $r=m$, the same as the number of channels of $\\mathbf{X} \\in \\mathbb{R}^{n \\times n \\times m}$.\n",
    "\n",
    "Each channel of the input signal $\\mathbf{X}$ represents a different aspect or feature of the input data, and **the filter is used to extract features from the input data $\\mathbf{X}$ by convolving it with the filter tensor $\\mathbf{W}$**. By using a filter $\\mathbf{W}$ with the same number of channels as the input signal $\\mathbf{X}$, we can ensure that the filter is applied to every channel of the input data. This allows the network to learn features from each channel of the input signal separately, which can improve the overall performance of the network."
   ]
  },
  {
   "attachments": {},
   "cell_type": "markdown",
   "metadata": {},
   "source": [
    "From the 3D convolution of $\\mathbf{X}$ and $\\mathbf{W}$ with different number of channels, $r \\leq m$, give us\n",
    "\n",
    "$$\n",
    "\\mathbf{X} \\ast \\mathbf{W} = \n",
    "\\begin{bmatrix}\n",
    "\\begin{bmatrix}\n",
    "\\text{Sum}(X_k(1,1,1) \\odot \\mathbf{W})  & \\cdots & \\text{Sum}(X_k(1,n-k+1,1) \\odot \\mathbf{W}) \\\\\n",
    "\\vdots  & \\ddots & \\vdots \\\\\n",
    "\\text{Sum}(X_k(n-k+1,1,1) \\odot \\mathbf{W}) & \\cdots & \\text{Sum}(X_k(n-k+1,n-k+1,1) \\odot \\mathbf{W})\n",
    "\\end{bmatrix}\\\\\n",
    "\\\\\n",
    "\\begin{bmatrix}\n",
    "\\text{Sum}(X_k(1,1,2) \\odot \\mathbf{W})  & \\cdots & \\text{Sum}(X_k(1,n-k+1,2) \\odot \\mathbf{W}) \\\\\n",
    "\\vdots  & \\ddots & \\vdots \\\\\n",
    "\\text{Sum}(X_k(n-k+1,1,2) \\odot \\mathbf{W}) & \\cdots & \\text{Sum}(X_k(n-k+1,n-k+1,2) \\odot \\mathbf{W})\n",
    "\\end{bmatrix}\\\\\n",
    "\\\\\n",
    "\\vdots\\\\\n",
    "\\\\\n",
    "\\begin{bmatrix}\n",
    "\\text{Sum}(X_k(1,1,m-r+1) \\odot \\mathbf{W})  & \\cdots & \\text{Sum}(X_k(1,n-k+1,m-r+1) \\odot \\mathbf{W}) \\\\\n",
    "\\vdots  & \\ddots & \\vdots \\\\\n",
    "\\text{Sum}(X_k(n-k+1,1,m-r+1) \\odot \\mathbf{W}) & \\cdots & \\text{Sum}(X_k(n-k+1,n-k+1,m-r+1) \\odot \\mathbf{W})\n",
    "\\end{bmatrix}\n",
    "\\end{bmatrix}\n",
    "$$\n",
    "\n",
    "When consider $r = m$ the result of the convolution is a matrix of two dimension, and not a tensor . The matrix from the convolution has dimension $(n-k+1) \\times (n-k+1)$:\n",
    "\n",
    "$$\n",
    "\\mathbf{X} \\ast \\mathbf{W} = \n",
    "\\begin{bmatrix}\n",
    "\\text{Sum}(X_k(1,1) \\odot \\mathbf{W})  & \\cdots & \\text{Sum}(X_k(1,n-k+1) \\odot \\mathbf{W}) \\\\\n",
    "\\vdots  & \\ddots & \\vdots \\\\\n",
    "\\text{Sum}(X_k(n-k+1,1) \\odot \\mathbf{W}) & \\cdots & \\text{Sum}(X_k(n-k+1,n-k+1) \\odot \\mathbf{W})\n",
    "\\end{bmatrix}\n",
    "$$\n",
    "\n",
    "We can see this as if each channel in $\\mathbf{W}$ matches with a channel in $\\mathbf{X}$, forming a matrix with only one channel with features from the original matrix $\\mathbf{X}$. \n",
    "\n"
   ]
  },
  {
   "attachments": {},
   "cell_type": "markdown",
   "metadata": {},
   "source": [
    "### **1.2.1 Filter Bias**\n",
    "\n",
    "The filter bias term can be seen as an intercept term, which can shift the activation function up or down. This means that it can adjust the output of the convolutional layer for a particular input, depending on the specific features of the input.\n",
    "\n",
    "For example, if a particular feature is more prevalent in the input, the filter bias can be set to a higher value to increase the activation of that feature, making it more likely to be detected by subsequent layers. Similarly, if a particular feature is less important, the bias can be set to a lower value to decrease the activation, reducing the impact of that feature on the output of the network."
   ]
  },
  {
   "attachments": {},
   "cell_type": "markdown",
   "metadata": {},
   "source": [
    "Let $\\mathbf{Z}^l \\in \\mathbb{R}^{n_l \\times n_l \\times m_l}$ tensor of neurons at layer $l$ so $Z_{i,j,q}^{l}$ denotes the value of the neuron at row $i$, column $j$ and channel $q$ for layer l, with  $1 \\leq (i,j)  \\leq n_l$ and $1 \\leq q \\leq m_l$. Consider a 3D filter $\\mathbf{W} \\in \\mathbb{R}^{k \\times k \\times m_l}$. When convolve  $\\mathbf{Z}^l$ and  $\\mathbf{W}$ gives a $(n_l-k+1) \\times (n_l-k+1) \\times 1$ matrix (or a tensor with depth 1) at $\\mathbf{Z}^{l+1}$, that defines the height and width of the layer.\n",
    "\n",
    "The depth of $\\mathbf{Z}^{l+1}$ is $1$ because the filter has a depth of $m_l$, equal the depth of $\\mathbf{Z}^{l}$,so each scalar output is obtained by convolving the filter $\\mathbf{W}$ with the corresponding channel of $\\mathbf{Z}^{l}$, and the resulting scalar outputs are summed over all channels to produce a single output for each position."
   ]
  },
  {
   "attachments": {},
   "cell_type": "markdown",
   "metadata": {},
   "source": [
    "Finally let define the bias filter as a scalar value for $\\mathbf{W}$, $b \\in \\mathbb{R}$., and let $\\mathbf{Z}_{k}^{l}(i,j)$ denote  the $k \\times k \\times m_l$ subtensor of $\\mathbf{Z}^{l}$ at position $(i,j)$. Then, we can define the net signal at neuron $z_{i,j}^{l+1}$ in layer $l+1$ as\n",
    "\n",
    "$$\\text{net}_{i,j}^{l+1} = \\text{Sum}(\\mathbf{Z}_{k}^{l}(i,j) \\odot \\mathbf{W})+ b$$\n",
    "\n",
    "and the value of the neuron $z_{i,j}^{l+1}$  is obtained by applying some activation function $f$ to the net signal\n",
    "\n",
    "$$z_{i,j}^{l+1} = f \\bigg(\\text{Sum}(\\mathbf{Z}_{k}^{l}(i,j) \\odot \\mathbf{W})+ b \\bigg)$$\n",
    "\n",
    "the activation function can be nay of the ones typically used in neural networks. In the notation of convolitions, the values of the neurons in layer $l+1$ is given as follows\n",
    "\n",
    "$$\\mathbf{Z}^{l+1} = f\\bigg((\\mathbf{Z}^l \\ast \\mathbf{W}) \\oplus b \\bigg)$$\n",
    "\n",
    "where $\\oplus$ indicatews that the bias term $b$ is added to each element of the $(n_l-k+1)\\times (n_l-k+1) \\times 1$ matrix $\\mathbf{Z}^l \\ast \\mathbf{W}$."
   ]
  },
  {
   "attachments": {},
   "cell_type": "markdown",
   "metadata": {},
   "source": [
    "### **1.2.2 Multiple 3D Filters**\n",
    "\n",
    "When multiple filters are applied to an input tensor in a CNN, the output tensor's depth increases. Each filter generates a single channel in the output tensor, and the number of filters applied determines the number of channels in the output tensor. This **increased depth allows the network to learn a larger set of features from the input tensor**. The combination of multiple filters at each layer helps the network to identify and learn different features in the input data, which in turn improves the network's performance on a given task."
   ]
  },
  {
   "attachments": {},
   "cell_type": "markdown",
   "metadata": {},
   "source": [
    "Consider one 3D filter $\\mathbf{W} \\in \\mathbb{R}^{k \\times k \\times m_l}$ with a corresponding bias term b and $\\mathbf{Z}^l \\in \\mathbb{R}^{n_l \\times n_l \\times m_l}$. The convolution results in a $(n_l-k+1) \\times (n_l -k+1) \\times 1$ matrix of neurons in layer $l+1$. But  in order to improves the network's performance we expect as result a tensor of neuron values of dimension $(n_l-k+1) \\times (n_l -k+1) \\times m_{l+1}$ at layer $l+1$. Therefore, we need $m_{l+1}$ different $\\mathbf{W}_q \\in \\mathbb{R}^{k \\times k \\times m_l}$ with corresponding bias term $b_q$, as follow\n",
    "\n",
    "$$z_{i,j,q}^{l+1} = f \\bigg(\\text{Sum}(\\mathbf{Z}_{k}^{l}(i,j) \\odot \\mathbf{W}_q)+ b_q \\bigg)$$\n",
    "\n",
    "wich can be written as\n",
    "\n",
    "$$\\mathbf{Z}^{l+1} = \\begin{bmatrix}\n",
    "f \\bigg(\\text{Sum}(\\mathbf{Z}_k^l(i,j) \\odot\\mathbf{W}_1) \\oplus b_1\\bigg)\\\\\n",
    "\\vdots\\\\\n",
    "f \\bigg(\\text{Sum}(\\mathbf{Z}_k^l(i,j) \\odot \\mathbf{W}_q) \\oplus b_q \\bigg)\\\\\n",
    "\\vdots\\\\\n",
    "f \\bigg(\\text{Sum}(\\mathbf{Z}_k^l(i,j) \\odot \\mathbf{W}_{m_{l+1}}) \\oplus b_{m_{l+1}}\\bigg)\n",
    "\\end{bmatrix} =\n",
    "\\begin{bmatrix}\n",
    "f \\bigg(\\mathbf{Z}^l \\ast \\mathbf{W}_1 \\oplus b_1\\bigg)\\\\\n",
    "\\vdots\\\\\n",
    "f \\bigg(\\mathbf{Z}^l \\ast \\mathbf{W}_q \\oplus b_q \\bigg)\\\\\n",
    "\\vdots\\\\\n",
    "f \\bigg(\\mathbf{Z}^l \\ast \\mathbf{W}_{m_{l+1}} \\oplus b_{m_{l+1}}\\bigg)\n",
    "\\end{bmatrix}\n",
    "$$\n",
    "\n",
    "where each element is a matrix of dimension $(n_l-k+1) \\times (n_l -k+1)$, for example take the $q^{th}$ element:\n",
    "\n",
    "$$f \\bigg(\\text{Sum}(\\mathbf{Z}_k^l(i,j) \\odot \\mathbf{W}_q) \\oplus b_q \\bigg) = \n",
    "\\begin{bmatrix}\n",
    "f\\bigg(\\text{Sum}(Z_k^l(1,1) \\odot \\mathbf{W}_q) \\oplus b_q\\bigg) & \\cdots & f\\bigg(\\text{Sum}(Z_k^l(1,n_l-k+1) \\odot \\mathbf{W}_q) \\oplus b_q\\bigg)\\\\ \n",
    "\\vdots  & \\ddots & \\vdots \\\\\n",
    "f\\bigg(\\text{Sum}(Z_k^l(_ln-k+1,1) \\odot \\mathbf{W}_q)\\oplus b_q \\bigg)& \\cdots & f\\bigg(\\text{Sum}(Z_k^l(n_l-k+1,n_l-k+1) \\odot \\mathbf{W}_q)\\oplus b_q\\bigg)\n",
    "\\end{bmatrix}$$\n",
    "\n",
    "In summary, The depth of the output tensor is determined by the number of filters used, and each depth slice represents the output of a particular filter. Therefore, the number of neurons in the output tensor is equal to the product of the spatial dimensions of the output tensor and the number of filters used in the convolution operation. So layer $\\mathbf{Z}^{l+1}$ has $(n_l-k+1) \\times (n_l -k+1) \\times m_l$ neurons, with $m_l$ filters apply to each matrix $(n_l-k+1) \\times (n_l -k+1)$."
   ]
  },
  {
   "attachments": {},
   "cell_type": "markdown",
   "metadata": {},
   "source": [
    "### **1.2.3 Padding and Striding**\n",
    "\n",
    "One of the issues with the convolution operation is that the size of the tensor will decrease in each successive CNN layer. If $l$ has size $n_l \\times n_l \\times m_l$, and  we use filters of size $k \\times k \\times m_l$, then each channel in a layer $l+1$ will have size $(n_l-(k-1)) \\times (n_l-(k-1))$. That is, the number of rows and columns for each successive tensor will shrink by $k-1$.\n",
    "\n"
   ]
  },
  {
   "attachments": {},
   "cell_type": "markdown",
   "metadata": {},
   "source": [
    "**Padding**\n",
    "\n",
    "Padding involves adding zeros or other values around the edges of the input data before applying a convolutional filter. The purpose of padding is to preserve the spatial dimensions of the input data in the output feature map. Without padding, the spatial dimensions of the output feature map would be reduced after each convolutional layer, leading to the loss of important spatial information. By adding padding, the spatial dimensions of the output feature map can be preserved or even increased.\n",
    "\n",
    "Assume that we add $p$ rows and columns. With padding $p$, the implicit size of layer $l$ tensor is then $(n_l + 2p) \\times (n_l +2p) \\times m_l$. Assume that each filter is of size $k \\times k \\times m_l$, and assume there are $m_{l+1}$ filters, then the size of the layer $l+1$ tensor will be $(n_l + 2p -(k-1)) \\times (n_l + 2p-(k-1)) \\times m_l$. Since we want to preserve the size of the resulting tensor, we need to have\n",
    "\n",
    "$$n_l +2p - (k-1)  \\geq n_l$$\n",
    "\n",
    "wich implies $p = \\frac{k-1}{2}$"
   ]
  },
  {
   "attachments": {},
   "cell_type": "markdown",
   "metadata": {},
   "source": [
    "**Striding**\n",
    "\n",
    "Striding, on the other hand, involves moving the convolutional filter across the input data by a certain number of pixels, rather than by one pixel at a time. The purpose of striding is to control the spatial dimensions of the output feature map by reducing the number of times the convolutional filter is applied. A larger stride value leads to a smaller output feature map, while a smaller stride value leads to a larger output feature map.\n",
    "\n",
    "Consider an integer value $s \\geq 1$ called the stride. A 3D convolution of $\\mathbf{Z}^l$ with size $n_l \\times n_l \\times m_l$ with filter $\\mathbf{W}$ of size $k \\times k \\times m_l$, using stride $s$, is given as:\n",
    "\n",
    "$$\\mathbf{Z}^l\\ast \\mathbf{W} = \\begin{bmatrix}\n",
    "\\text{Sum}(\\mathbf{Z}^l_k(1,1) \\odot \\mathbf{W}) &\\text{Sum}(\\mathbf{Z}^l_k(1,1+s) \\odot \\mathbf{W}) & \\cdots & \\text{Sum}(\\mathbf{Z}^l_k(1,1+t.s) \\odot \\mathbf{W}) \\\\\n",
    "\\text{Sum}(\\mathbf{Z}^l_k(1+s,1) \\odot \\mathbf{W}) & \\text{Sum}(\\mathbf{Z}^l_k(1+s,1+s) \\odot \\mathbf{W}) & \\cdots &\\text{Sum}(\\mathbf{Z}^l_k(1+s,1+t.s) \\odot \\mathbf{W})\\\\\n",
    "\\vdots & \\vdots & \\ddots & \\vdots \\\\\n",
    "\\text{Sum}(\\mathbf{Z}^l_k(n1+t.s,1) \\odot \\mathbf{W}) & \\text{Sum}(\\mathbf{Z}^l_k(1+t.s,1+s) \\odot \\mathbf{W}) & \\cdots & \\text{Sum}(\\mathbf{Z}^l_k(1+t.s,1+t.s) \\odot \\mathbf{W})\n",
    "\\end{bmatrix}$$\n",
    "\n",
    "where $t = \\frac{n_l-k}{s}$. The convolution results in a $(t +1) \\times (t+1)$ matrix."
   ]
  }
 ],
 "metadata": {
  "kernelspec": {
   "display_name": "Python 3",
   "language": "python",
   "name": "python3"
  },
  "language_info": {
   "codemirror_mode": {
    "name": "ipython",
    "version": 3
   },
   "file_extension": ".py",
   "mimetype": "text/x-python",
   "name": "python",
   "nbconvert_exporter": "python",
   "pygments_lexer": "ipython3",
   "version": "3.10.2 (tags/v3.10.2:a58ebcc, Jan 17 2022, 14:12:15) [MSC v.1929 64 bit (AMD64)]"
  },
  "orig_nbformat": 4,
  "vscode": {
   "interpreter": {
    "hash": "0743c798041383927c03f3bae5eca888e94e4777f716cdd511cdff96fbdedc02"
   }
  }
 },
 "nbformat": 4,
 "nbformat_minor": 2
}
