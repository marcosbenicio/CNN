{
 "cells": [
  {
   "cell_type": "code",
   "execution_count": 1,
   "metadata": {},
   "outputs": [],
   "source": [
    "import numpy as np\n",
    "from scipy.signal import convolve\n",
    "from scipy.signal import convolve2d\n",
    "\n",
    "from imageio import imread\n",
    "import matplotlib.pyplot as plt\n",
    "from IPython import display\n",
    "#display.set_matplotlib_formats('svg')"
   ]
  },
  {
   "attachments": {},
   "cell_type": "markdown",
   "metadata": {},
   "source": [
    "# 1. Convolutional Neural Network (CNN) - Theory"
   ]
  },
  {
   "attachments": {},
   "cell_type": "markdown",
   "metadata": {},
   "source": [
    "A Convolution Neural Network (CNN) is essentially a localized and sparse feedfoward Multi-Layer Perceptron (MLP) that is designed to exploit spatial and/or temporal structure in the input data. Both MLP and CNN have some similarities that is described bellow:\n",
    "\n",
    "1. Both use layers of neurons that are connected to each other with learnable weights. These weights are adjusted during training to optimize the network's performance on a specific task.\n",
    "\n",
    "2. Both can be used for classification tasks, such as image classification, text classification, or speech recognition.\n",
    "\n",
    "3. Both can use activation functions, such as ReLU, to introduce non-linearities into the network and improve its ability to learn complex patterns in the data.\n",
    "\n",
    "4. Both MLPs and CNNs can be trained using backpropagation, which is an optimization algorithm that computes the gradient of the network's error with respect to its weights and uses this gradient to update the weights.\n",
    "\n",
    "However, there are also some important differences between MLPs and CNNs:\n",
    "\n",
    "1. MLPs are typically used for tasks that involve processing vector data, such as images that have been flattened into a 1D vector. CNNs, on the other hand, are specifically designed for tasks that involve processing multidimensional data, such as images or video.\n",
    "\n",
    "2. CNNs use specialized layers, such as convolutional layers, pooling layers, and upsampling layers, that are optimized for processing spatial and temporal data. These layers allow the network to learn features that are invariant to translation, rotation, and scale, which is important for tasks such as image recognition.\n",
    "\n",
    "3. CNNs can learn hierarchical representations of the input data by using multiple convolutional layers, each of which learns increasingly abstract and complex features. MLPs, on the other hand, typically use a single layer or a few layers of fully connected neurons to learn features of the input data.\n",
    "\n",
    "In summary, while MLPs and CNNs share some similarities in terms of their architecture and training methods, CNNs are specifically designed for processing multidimensional data and have specialized layers that allow them to learn hierarchical representations of the input data."
   ]
  },
  {
   "attachments": {},
   "cell_type": "markdown",
   "metadata": {},
   "source": [
    "## **1.1 Convolutions**\n",
    "\n",
    "Convolution is a mathematical operation that involves sliding a small matrix called a kernel or filter over the input data, such as an image, and computing the dot product between the kernel and each small region of the input data. The output of this operation is a new matrix, **called a feature map**, which contains information about the presence or absence of specific features in the input data.\n",
    "\n"
   ]
  },
  {
   "attachments": {},
   "cell_type": "markdown",
   "metadata": {},
   "source": [
    "### **1.1.1 One Dimension**\n",
    "\n",
    "Operation that combine two sequences of numbers into a single sequence. It involves sliding one of the sequences (usually the smaller one) over the other one and multiplying the values at each corresponding position, and then adding up the results to get a new sequence.\n"
   ]
  },
  {
   "attachments": {},
   "cell_type": "markdown",
   "metadata": {},
   "source": [
    "Let $\\vec{X}$ be an input signal vector with $n$ points and $\\vec{W}$ be a vector of weights called 1D filter, with $k \\leq n$. Here $k$ is also known as **window size**.\n",
    "$$\n",
    "\\vec{X} =\n",
    "\\left( \\begin{array}{c}\n",
    "x_{1}\\\\\n",
    "x_{2}\\\\\n",
    "\\vdots\\\\\n",
    "x_{n}\n",
    "\\end{array} \\right), ~~~~\n",
    "\\vec{W} =\n",
    "\\left( \\begin{array}{c}\n",
    "w_{1}\\\\\n",
    "w_{2}\\\\\n",
    "\\vdots\\\\\n",
    "w_{k}\n",
    "\\end{array} \\right)\n",
    "$$\n",
    "\n",
    "The window size refers to the size of the kernel or filter that is applied to the input. The window size determines the extent of the local neighborhood that is used for the computation of each output value. Following this idea is necessary define a subvector of $\\vec{X}$ with same size as the filter. Let $\\vec{X}_k(i)$ denote the window of $\\vec{X}$ of length $k$ at starting position  $i$ \n",
    "\n",
    "$$\\vec{X}_k(i) = \\left( \\begin{array}{c}\n",
    "x_i \\\\\n",
    "x_{i+1} \\\\\n",
    "\\vdots\\\\\n",
    "x_{i+k-1} \n",
    "\\end{array} \\right)$$\n",
    "\n",
    "as for $k \\leq n$, here $i+k-1 \\leq n$, that implies $1 \\leq i \\leq n-k+1$. As a sanity test, if the initial position start at $i =  n-k+1$, then the final position is $i+k-1 = n$. Calculating the total number of points, given by the difference between the last point position and the initial point position, the window size is $n - i = n - (n-k+1) = k$ as expected.\n",
    "\n",
    "\n",
    "Given a vector $\\vec{A} \\in \\mathbb{R}^k$, define the summation operator as one that adds all elements of the vector. That is, \n",
    "\n",
    "$$\\text{Sum}(\\vec{A}) = \\sum_{i=1}^{k} a_{i}$$ \n",
    "\n",
    "A 1D Convolution between $\\vec{X}$ and $\\vec{W}$, denoted by the asterisk symbol $\\ast$, is defined as \n",
    "\n",
    "$$\\vec{X} \\ast \\vec{W} = \\left( \\begin{array}{c}\n",
    "\\text{Sum}(\\vec{X}_k(1) \\odot \\vec{W})\\\\\n",
    "\\vdots\\\\\n",
    "\\text{Sum}(\\vec{X}_k(i) \\odot \\vec{W})\\\\\n",
    "\\vdots\\\\\n",
    "\\text{Sum}(\\vec{X}_k(n-k+1) \\odot \\vec{W})\n",
    "\\end{array} \\right)$$\n",
    "\n",
    "where $\\odot$ is the element- wise product, so that \n",
    "\n",
    "$$\\text{Sum}(\\vec{X_k}(i) \\odot \\vec{W}) = \\sum_{j=1}^{k} x_{i+j-1}w_j$$\n",
    "\n",
    "The sum is over all elements of $\\vec{X}_k(i)$, so the last element of this sum must coincide with the product of the last two elements of $\\vec{X}_k(i)$ and $\\vec{W}$ $j = k$ as $x_{i+k-1}w_k$."
   ]
  },
  {
   "attachments": {},
   "cell_type": "markdown",
   "metadata": {},
   "source": [
    " **example** \n",
    " \n",
    "The input vector $\\vec{X}$ has $n=5$ points, and the weights $W$ have windows size $k = 3$. We can perform 1D convolution by sliding the weights over the input vector and multiplying each element of the input vector by the corresponding weight. The results of these multiplications are then summed up to produce a single output value."
   ]
  },
  {
   "cell_type": "code",
   "execution_count": 2,
   "metadata": {},
   "outputs": [
    {
     "name": "stdout",
     "output_type": "stream",
     "text": [
      "Input vector X: (4,)\n",
      "filter W: (3,)\n",
      "Convolved output X*W: (2,)\n"
     ]
    }
   ],
   "source": [
    "# define the input vector x and the weights W\n",
    "X = np.array([1, 2, 3, 4])\n",
    "W = np.array([1, 2, 3])\n",
    "\n",
    "# perform 1D convolution\n",
    "# mode='valid' argument ensures that the output array has the same shape as the input array\n",
    "output = np.convolve(X, W, mode='valid')\n",
    "\n",
    "print(\"Input vector X:\", X.shape)\n",
    "print(\"filter W:\", W.shape)\n",
    "print(\"Convolved output X*W:\", output.shape)"
   ]
  },
  {
   "attachments": {},
   "cell_type": "markdown",
   "metadata": {},
   "source": [
    "### **1.1.2 Two Dimension**\n",
    "\n",
    "Given a 2D input matrix and a 2D kernel or filter, the convolution operation involves sliding the kernel over the input matrix, computing the dot product between the overlapping portions of the kernel and the input matrix at each position, and storing the result in an output matrix."
   ]
  },
  {
   "attachments": {},
   "cell_type": "markdown",
   "metadata": {},
   "source": [
    "Let $\\mathbf{X}$ be an input signal matrix with $n \\times n$ points and $\\mathbf{W}$ be a vector of weights called 2D filter, with $k\\times k$ points and $k \\leq n$.\n",
    "\n",
    "$$\n",
    "\\mathbf{X} = \\begin{bmatrix}\n",
    "x_{1,1} & x_{1,2} & \\cdots & x_{1,n} \\\\\n",
    "x_{2,1} & x_{2,2} & \\cdots & x_{2,n} \\\\\n",
    "\\vdots & \\vdots & \\ddots & \\vdots \\\\\n",
    "x_{n,1} & x_{n,2} & \\cdots & x_{n,n}\n",
    "\\end{bmatrix},~~\n",
    "\\mathbf{W}=\\begin{bmatrix}\n",
    "w_{1,1} & w_{1,2} & \\cdots & w_{1,k} \\\\\n",
    "w_{2,1} & w_{2,2} & \\cdots & w_{2,k} \\\\\n",
    "\\vdots & \\vdots & \\ddots & \\vdots \\\\\n",
    "w_{k,1} & w_{k,2} & \\cdots & w_{k,k}\n",
    "\\end{bmatrix}\n",
    "$$\n",
    "\n",
    "Let $\\mathbf{X}_k(i,j)$ denote the $k \\times k$ submatrix of $\\mathbf{X}$ starting at row $i$ and column $j$, defined as\n",
    "\n",
    "$$\\mathbf{X}_k(i,j) = \\begin{bmatrix}\n",
    "x_{i,j} & x_{i,j+1} & \\cdots & x_{i,j+k-1} \\\\\n",
    "x_{i+1,j} & x_{i+2,j} & \\cdots & x_{i+1,j+k-1} \\\\\n",
    "\\vdots & \\vdots & \\ddots & \\vdots \\\\\n",
    "x_{i+k-1,j} & x_{i+-1,j+1} & \\cdots & x_{i+k-1,j+k-1}\n",
    "\\end{bmatrix}$$\n",
    "\n",
    "where $1 \\leq (i,j) \\leq n-k+1$ (result extended from 1D case for both indices).\n",
    "\n",
    "Given a vector $\\mathbf{A} \\in \\mathbb{R}^{k \\times k}$, define the summation operator as one that adds all elements of the vector. That is, \n",
    "\n",
    "$$\\text{Sum}(\\mathbf{A}) = \\sum_{i=1}^{k}\\sum_{j=1}^{k} a_{i,j}$$ \n",
    "\n",
    "A 2D Convolution between $\\mathbf{X}$ and $\\mathbf{W}$, is defined as \n",
    "\n",
    "$$\\mathbf{X} \\ast \\mathbf{W} = \\begin{bmatrix}\n",
    "\\text{Sum}(x_k(1,1) \\odot \\mathbf{W}) &\\text{Sum}(x_k(1,2) \\odot \\mathbf{W}) & \\cdots & \\text{Sum}(x_k(1,n-k+1) \\odot \\mathbf{W}) \\\\\n",
    "\\text{Sum}(x_k(2,1) \\odot \\mathbf{W}) & \\text{Sum}(x_k(2,2) \\odot \\mathbf{W}) & \\cdots &\\text{Sum}(x_k(2,n-k+1) \\odot \\mathbf{W})\\\\\n",
    "\\vdots & \\vdots & \\ddots & \\vdots \\\\\n",
    "\\text{Sum}(x_k(n-k+1,1) \\odot \\mathbf{W}) & \\text{Sum}(x_k(n-k+1,2) \\odot \\mathbf{W}) & \\cdots & \\text{Sum}(x_k(n-k+1,n-k+1) \\odot \\mathbf{W})\n",
    "\\end{bmatrix}$$\n",
    "\n",
    "where\n",
    "\n",
    "$$\\text{Sum}(\\mathbf{X}_k(i,j) \\odot \\mathbf{W})=\\sum_{a=1}^{k}\\sum_{b=1}^{k} x_{i+a -1,j+b-1} \\times w_{a,b}$$\n",
    "\n",
    "The convolution of $\\mathbf{X} \\in \\mathbf{R}^{n \\times n}$ and $\\mathbf{W} \\in \\mathbf{R}^{k \\times k}$ results in a $(n-k+1) \\times (n-k+1)$ matrix.\n"
   ]
  },
  {
   "attachments": {},
   "cell_type": "markdown",
   "metadata": {},
   "source": [
    "**Example**"
   ]
  },
  {
   "cell_type": "code",
   "execution_count": 3,
   "metadata": {},
   "outputs": [
    {
     "data": {
      "image/png": "[encoded data removed]",
      "text/plain": [
       "<Figure size 576x432 with 2 Axes>"
      ]
     },
     "metadata": {
      "needs_background": "light"
     },
     "output_type": "display_data"
    }
   ],
   "source": [
    "# image\n",
    "imgN = 20\n",
    "image = np.random.randn(imgN,imgN)\n",
    "\n",
    "# convolution kernel\n",
    "kernelN = 7\n",
    "Y,X = np.meshgrid(np.linspace(-3,3,kernelN),np.linspace(-3,3,kernelN))\n",
    "# 2D Gaussian Filter\n",
    "kernel = np.exp( -(X**2+Y**2)/7 )\n",
    "\n",
    "\n",
    "# let's see what they look like\n",
    "fig,ax = plt.subplots(1,2,figsize=(8,6))\n",
    "ax[0].imshow(image)\n",
    "ax[0].set_title('Random Pixel Image')\n",
    "\n",
    "ax[1].imshow(kernel)\n",
    "ax[1].set_title('Filter')\n",
    "\n",
    "plt.show()"
   ]
  },
  {
   "cell_type": "code",
   "execution_count": 5,
   "metadata": {},
   "outputs": [],
   "source": [
    "### Manual convolution ###\n",
    "convoutput = np.zeros((imgN,imgN))\n",
    "halfKr = kernelN//2\n",
    "\n",
    "for rowi in range(halfKr,imgN-halfKr):\n",
    "  for coli in range(halfKr,imgN-halfKr):\n",
    "\n",
    "    # cut out a piece of the image\n",
    "    pieceOfImg = image[rowi-halfKr:rowi+halfKr+1,:]      # get the rows\n",
    "    pieceOfImg = pieceOfImg[:,coli-halfKr:coli+halfKr+1] # extract the columns\n",
    "\n",
    "    # dot product: element-wise multiply and sum (and flip the kernel for \"real convolution\")\n",
    "    dotprod = np.sum( pieceOfImg*kernel[::-1,::-1] )\n",
    "\n",
    "    # store the result for this pixel\n",
    "    convoutput[rowi,coli] = dotprod\n",
    "\n",
    "### Using scipy Convolution ###\n",
    "convoutput2 = convolve2d(image,kernel,mode='valid')"
   ]
  },
  {
   "cell_type": "code",
   "execution_count": 6,
   "metadata": {},
   "outputs": [
    {
     "data": {
      "image/png": "[encoded data removed]",
      "text/plain": [
       "<Figure size 576x576 with 4 Axes>"
      ]
     },
     "metadata": {
      "needs_background": "light"
     },
     "output_type": "display_data"
    }
   ],
   "source": [
    "fig,ax = plt.subplots(2,2,figsize=(8,8))\n",
    "\n",
    "ax[0,0].imshow(image)\n",
    "ax[0,0].set_title('Image')\n",
    "\n",
    "ax[0,1].imshow(kernel)\n",
    "ax[0,1].set_title('Convolution kernel')\n",
    "\n",
    "ax[1,0].imshow(convoutput)\n",
    "ax[1,0].set_title('Manual convolution')\n",
    "\n",
    "ax[1,1].imshow(convoutput2)\n",
    "ax[1,1].set_title(\"Scipy's convolution\")\n",
    "\n",
    "plt.show()"
   ]
  },
  {
   "attachments": {},
   "cell_type": "markdown",
   "metadata": {},
   "source": [
    "### **1.1.3 Tree Dimension**"
   ]
  },
  {
   "attachments": {},
   "cell_type": "markdown",
   "metadata": {},
   "source": [
    "It is possible to represent a rank-3 tensor like $X_{ijq}$ in a single matrix of size $n\\times n \\times m$, by arranging the matrix representations of each of the $m$ matrices corresponding to different values of $1 \\leq l \\leq m$ as blocks in a larger matrix\n",
    "\n",
    "$$\n",
    "\\mathbf{X}=\n",
    "\\begin{bmatrix}\n",
    "\\begin{bmatrix}\n",
    "x_{1,1,1} & x_{1,2,1} & \\cdots & x_{1,n,1} \\\\\n",
    "x_{2,1,1} & x_{2,2,1} & \\cdots & x_{2,n,1} \\\\\n",
    "\\vdots & \\vdots & \\ddots & \\vdots \\\\\n",
    "x_{n,1,1} & x_{n,2,1} & \\cdots & x_{n,n,1}\n",
    "\\end{bmatrix}\\\\\n",
    "\\\\\n",
    "\\vdots\\\\\n",
    "\\vdots\\\\\n",
    "\\begin{bmatrix}\n",
    "x_{1,1,m} & x_{1,2,m} & \\cdots & x_{1,n,m} \\\\\n",
    "x_{2,1,m} & x_{2,2,m} & \\cdots & x_{2,n,m} \\\\\n",
    "\\vdots & \\vdots & \\ddots & \\vdots \\\\\n",
    "x_{n,1,m} & x_{n,2,m} & \\cdots & x_{n,n,m}\n",
    "\\end{bmatrix}\n",
    "\\end{bmatrix},~~\n",
    "\n",
    "\n",
    "\\mathbf{W}= \\begin{bmatrix}\n",
    "\\begin{bmatrix}\n",
    "w_{1,1,1} & w_{1,2,1} & \\cdots & w_{1,k,1} \\\\\n",
    "w_{2,1,1} & w_{2,2,1} & \\cdots & w_{2,k,1} \\\\\n",
    "\\vdots & \\vdots & \\ddots & \\vdots \\\\\n",
    "w_{k,1,1} & w_{k,2,1} & \\cdots & w_{k,k,1}\n",
    "\\end{bmatrix}\\\\\n",
    "\\\\\n",
    "\\vdots\\\\\n",
    "\\vdots\\\\\n",
    "\\begin{bmatrix}\n",
    "w_{1,1,r} & w_{1,2,r} & \\cdots & w_{1,k,r} \\\\\n",
    "w_{2,1,r} & w_{2,2,r} & \\cdots & w_{2,k,r} \\\\\n",
    "\\vdots & \\vdots & \\ddots & \\vdots \\\\\n",
    "w_{k,1,r} & w_{k,2,r} & \\cdots & w_{k,k,r}\n",
    "\\end{bmatrix}\n",
    "\\end{bmatrix}\n",
    "$$\n",
    "\n",
    "In the tensor $X_{ijq}$ the indices $i$ is for the row, $j$ for the columns and $q$ the depth, know as channels in the context of CNN. Similarly to the convolutions in others dimension, the window size must be $k \\leq n$  and the total number of channels (depth) on each tensor $r \\leq m$."
   ]
  },
  {
   "attachments": {},
   "cell_type": "markdown",
   "metadata": {},
   "source": [
    "Let $\\mathbf{X}_k(i,j,q)$ denote $k \\times k  \\times r$ subtensor  of $\\mathbf{X}$ starting at row $i$ column $j$ and depth $q$, defined as\n",
    "\n",
    "$$\n",
    "\\mathbf{X}_k(i,j,q)=\n",
    "\\begin{bmatrix}\n",
    "\\begin{bmatrix}\n",
    "x_{i,j,q} & x_{i,j+1,q} & \\cdots & x_{i,j+k-1,q} \\\\\n",
    "x_{i+1,j,q} & x_{i+1,j+1,q} & \\cdots & x_{i+1,j+k-1,q} \\\\\n",
    "\\vdots & \\vdots & \\ddots & \\vdots \\\\\n",
    "x_{i+k-1,j,q} & x_{i+k-1,j+1,q} & \\cdots & x_{i+k-1,j+k-1,q}\n",
    "\\end{bmatrix}\\\\\n",
    "\\\\\n",
    "\\begin{bmatrix}\n",
    "x_{i,j,q} & x_{i,j+1,q} & \\cdots & x_{i,j+k-1,q} \\\\\n",
    "x_{i+1,j,q} & x_{i+1,j+1,q} & \\cdots & x_{i+1,j+k-1,q} \\\\\n",
    "\\vdots & \\vdots & \\ddots & \\vdots \\\\\n",
    "x_{i+k-1,j,q} & x_{i+k-1,j+1,q} & \\cdots & x_{i+k-1,j+k-1,q}\n",
    "\\end{bmatrix}\\\\\n",
    "\\vdots\\\\\n",
    "\\begin{bmatrix}\n",
    "x_{i,j,q+r-1} & x_{i,j+1,q+r-1} & \\cdots & x_{i,j+k-1,q+r-1} \\\\\n",
    "x_{i+1,j,q+r-1} & x_{i+1,j+1,q+r-1} & \\cdots & x_{2,n,q+r-1} \\\\\n",
    "\\vdots & \\vdots & \\ddots & \\vdots \\\\\n",
    "x_{i+k-1,j,q+r-1} & x_{i+k-1,j+1,q+r-1} & \\cdots & x_{i+k-1,j+k-1,q+r-1}\n",
    "\\end{bmatrix}\n",
    "\\end{bmatrix}\n",
    "$$\n",
    "\n",
    "where $1 \\leq (i,j) \\leq n-k+1$ (same as 2D) and $1 \\leq q \\leq m-r+1$ .\n",
    "\n",
    "Given a vector $\\mathbf{A} \\in \\mathbb{R}^{k \\times k \\times r}$, define the summation operator as one that adds all elements of the vector. That is, \n",
    "\n",
    "$$\\text{Sum}(A) = \\sum_{a=1}^{k}\\sum_{b=1}^{k}\\sum_{q=1}^{r}a_{ijq}$$\n"
   ]
  },
  {
   "attachments": {},
   "cell_type": "markdown",
   "metadata": {},
   "source": [
    "The 3D convolution of $\\mathbf{X}$ and $\\mathbf{W}$ is\n",
    "\n",
    "$$\n",
    "\\mathbf{X} \\ast \\mathbf{W} = \n",
    "\\begin{bmatrix}\n",
    "\\begin{bmatrix}\n",
    "\\text{Sum}(X_k(1,1,1) \\odot \\mathbf{W})  & \\cdots & \\text{Sum}(X_k(1,n-k+1,1) \\odot \\mathbf{W}) \\\\\n",
    "\\vdots  & \\ddots & \\vdots \\\\\n",
    "\\text{Sum}(X_k(n-k+1,1,1) \\odot \\mathbf{W}) & \\cdots & \\text{Sum}(X_k(n-k+1,n-k+1,1) \\odot \\mathbf{W})\n",
    "\\end{bmatrix}\\\\\n",
    "\\\\\n",
    "\\begin{bmatrix}\n",
    "\\text{Sum}(X_k(1,1,2) \\odot \\mathbf{W})  & \\cdots & \\text{Sum}(X_k(1,n-k+1,2) \\odot \\mathbf{W}) \\\\\n",
    "\\vdots  & \\ddots & \\vdots \\\\\n",
    "\\text{Sum}(X_k(n-k+1,1,2) \\odot \\mathbf{W}) & \\cdots & \\text{Sum}(X_k(n-k+1,n-k+1,2) \\odot \\mathbf{W})\n",
    "\\end{bmatrix}\\\\\n",
    "\\\\\n",
    "\\vdots\\\\\n",
    "\\\\\n",
    "\\begin{bmatrix}\n",
    "\\text{Sum}(X_k(1,1,m-k+1) \\odot \\mathbf{W})  & \\cdots & \\text{Sum}(X_k(1,n-k+1,m-k+1) \\odot \\mathbf{W}) \\\\\n",
    "\\vdots  & \\ddots & \\vdots \\\\\n",
    "\\text{Sum}(X_k(n-k+1,1,m-k+1) \\odot \\mathbf{W}) & \\cdots & \\text{Sum}(X_k(n-k+1,n-k+1,m-k+1) \\odot \\mathbf{W})\n",
    "\\end{bmatrix}\n",
    "\\end{bmatrix}\n",
    "$$\n",
    "\n",
    "where \n",
    "\n",
    "$$\\text{Sum}(\\mathbf{X}_k(i,j,q) \\odot \\mathbf{W}) = \\sum_{a=1}^{k}\\sum_{b=1}^{k}\\sum_{c=1}^{r}x_{i+a-1,j+b-1,q+c-1}w_{a,b,c}$$\n",
    "\n",
    "for $(i,j) = 1,2, \\cdots, n-k+1$ and $q = 1,2, \\cdots, m-r+1$. The convolution of $\\mathbf{X} \\in \\mathbf{R}^{n \\times n \\times m}$ and $\\mathbf{W} \\in \\mathbf{R}^{k \\times k \\times r}$ results in a $(n-k+1) \\times (n-k+1) \\times (m-r+1)$ tensor."
   ]
  },
  {
   "attachments": {},
   "cell_type": "markdown",
   "metadata": {},
   "source": [
    "**Example** \n",
    " \n",
    "The input tensor $\\mathbf{X} \\in \\mathbb{R}^{n \\times n \\times m}$ has $n=3$ and depth $m=3$, and the filter $\\mathbb{W} \\in \\mathbb{R}^{k \\times k \\times r}$ have window size $k = 2$ and depth $r=2$. The results of the convolution is a matrix of shape $2\\times 2 \\times 2$."
   ]
  },
  {
   "cell_type": "code",
   "execution_count": 28,
   "metadata": {},
   "outputs": [
    {
     "name": "stdout",
     "output_type": "stream",
     "text": [
      "Input vector x:\n",
      " (3, 3, 3)\n",
      "filter W:\n",
      " (2, 2, 2)\n",
      "Convolved output:\n",
      " [[[6 6]\n",
      "  [6 6]]\n",
      "\n",
      " [[6 6]\n",
      "  [6 6]]]\n"
     ]
    }
   ],
   "source": [
    "# create a simple 3D matrix\n",
    "X = np.array([\n",
    "    [     [1, 2, 3],\n",
    "          [4, 5, 6],\n",
    "          [7, 8, 9]   ],\n",
    "    \n",
    "    [   [10, 11, 12],\n",
    "        [13, 14, 15],\n",
    "        [16, 17, 18]  ],\n",
    "    \n",
    "    [   [19, 20, 21],\n",
    "        [22, 23, 24],\n",
    "        [25, 26, 27]  ],\n",
    "                        ])\n",
    "\n",
    "# create a simple 3D kernel\n",
    "W = np.array([    \n",
    "    [   [1, 0],\n",
    "        [0, -1] ],\n",
    "\n",
    "    [   [0, 1],\n",
    "        [-1, 0] ]\n",
    "                    ])\n",
    "\n",
    "\n",
    "# perform 3D convolution using the convolve function\n",
    "output = convolve(X, W, mode='valid')\n",
    "\n",
    "# print the output\n",
    "print(\"Input vector x:\\n\", X.shape)\n",
    "print(\"filter W:\\n\", W.shape)\n",
    "print(\"Convolved output:\\n\", output)\n"
   ]
  },
  {
   "attachments": {},
   "cell_type": "markdown",
   "metadata": {},
   "source": [
    "## **1.2 3D Convolutions in CNNs**\n",
    "\n",
    "Typically in CNNs, we use a 3D filter $\\mathbf{W} \\in \\mathbb{R}^{k \\times k \\times m}$, with the number of channels $r=m$, the same as the number of channels of $\\mathbf{X} \\in \\mathbb{R}^{n \\times n \\times m}$.\n",
    "\n",
    "Each channel of the input signal $\\mathbf{X}$ represents a different aspect or feature of the input data, and **the filter is used to extract features from the input data $\\mathbf{X}$ by convolving it with the filter tensor $\\mathbf{W}$**. By using a filter $\\mathbf{W}$ with the same number of channels as the input signal $\\mathbf{X}$, we can ensure that the filter is applied to every channel of the input data. This allows the network to learn features from each channel of the input signal separately, which can improve the overall performance of the network."
   ]
  },
  {
   "attachments": {},
   "cell_type": "markdown",
   "metadata": {},
   "source": [
    "From the 3D convolution of $\\mathbf{X}$ and $\\mathbf{W}$ with different number of channels, $r \\leq m$, give us\n",
    "\n",
    "$$\n",
    "\\mathbf{X} \\ast \\mathbf{W} = \n",
    "\\begin{bmatrix}\n",
    "\\begin{bmatrix}\n",
    "\\text{Sum}(X_k(1,1,1) \\odot \\mathbf{W})  & \\cdots & \\text{Sum}(X_k(1,n-k+1,1) \\odot \\mathbf{W}) \\\\\n",
    "\\vdots  & \\ddots & \\vdots \\\\\n",
    "\\text{Sum}(X_k(n-k+1,1,1) \\odot \\mathbf{W}) & \\cdots & \\text{Sum}(X_k(n-k+1,n-k+1,1) \\odot \\mathbf{W})\n",
    "\\end{bmatrix}\\\\\n",
    "\\\\\n",
    "\\begin{bmatrix}\n",
    "\\text{Sum}(X_k(1,1,2) \\odot \\mathbf{W})  & \\cdots & \\text{Sum}(X_k(1,n-k+1,2) \\odot \\mathbf{W}) \\\\\n",
    "\\vdots  & \\ddots & \\vdots \\\\\n",
    "\\text{Sum}(X_k(n-k+1,1,2) \\odot \\mathbf{W}) & \\cdots & \\text{Sum}(X_k(n-k+1,n-k+1,2) \\odot \\mathbf{W})\n",
    "\\end{bmatrix}\\\\\n",
    "\\\\\n",
    "\\vdots\\\\\n",
    "\\\\\n",
    "\\begin{bmatrix}\n",
    "\\text{Sum}(X_k(1,1,m-r+1) \\odot \\mathbf{W})  & \\cdots & \\text{Sum}(X_k(1,n-k+1,m-r+1) \\odot \\mathbf{W}) \\\\\n",
    "\\vdots  & \\ddots & \\vdots \\\\\n",
    "\\text{Sum}(X_k(n-k+1,1,m-r+1) \\odot \\mathbf{W}) & \\cdots & \\text{Sum}(X_k(n-k+1,n-k+1,m-r+1) \\odot \\mathbf{W})\n",
    "\\end{bmatrix}\n",
    "\\end{bmatrix}\n",
    "$$\n",
    "\n",
    "When consider $r = m$ the result of the convolution is a matrix of two dimension, and not a tensor . The matrix from the convolution has dimension $(n-k+1) \\times (n-k+1)$:\n",
    "\n",
    "$$\n",
    "\\mathbf{X} \\ast \\mathbf{W} = \n",
    "\\begin{bmatrix}\n",
    "\\text{Sum}(X_k(1,1) \\odot \\mathbf{W})  & \\cdots & \\text{Sum}(X_k(1,n-k+1) \\odot \\mathbf{W}) \\\\\n",
    "\\vdots  & \\ddots & \\vdots \\\\\n",
    "\\text{Sum}(X_k(n-k+1,1) \\odot \\mathbf{W}) & \\cdots & \\text{Sum}(X_k(n-k+1,n-k+1) \\odot \\mathbf{W})\n",
    "\\end{bmatrix}\n",
    "$$\n",
    "\n",
    "We can see this as if each channel in $\\mathbf{W}$ matches with a channel in $\\mathbf{X}$, forming a matrix with only one channel with features from the original matrix $\\mathbf{X}$. \n",
    "\n"
   ]
  },
  {
   "attachments": {},
   "cell_type": "markdown",
   "metadata": {},
   "source": [
    "### **1.2.1 Filter Bias**\n",
    "\n",
    "The filter bias term can be seen as an intercept term, which can shift the activation function up or down. This means that it can adjust the output of the convolutional layer for a particular input, depending on the specific features of the input.\n",
    "\n",
    "For example, if a particular feature is more prevalent in the input, the filter bias can be set to a higher value to increase the activation of that feature, making it more likely to be detected by subsequent layers. Similarly, if a particular feature is less important, the bias can be set to a lower value to decrease the activation, reducing the impact of that feature on the output of the network."
   ]
  },
  {
   "attachments": {},
   "cell_type": "markdown",
   "metadata": {},
   "source": [
    "Let $\\mathbf{Z}^l \\in \\mathbb{R}^{n_l \\times n_l \\times m_l}$ tensor of neurons at layer $l$ so $Z_{i,j,q}^{l}$ denotes the value of the neuron at row $i$, column $j$ and channel $q$ for layer l, with  $1 \\leq (i,j)  \\leq n_l$ and $1 \\leq q \\leq m_l$. Consider a 3D filter $\\mathbf{W} \\in \\mathbb{R}^{k \\times k \\times m_l}$. When convolve  $\\mathbf{Z}^l$ and  $\\mathbf{W}$ gives a $(n_l-k+1) \\times (n_l-k+1) \\times 1$ matrix (or a tensor with depth 1) at $\\mathbf{Z}^{l+1}$, that defines the height and width of the layer.\n",
    "\n",
    "The depth of $\\mathbf{Z}^{l+1}$ is $1$ because the filter has a depth of $m_l$, equal the depth of $\\mathbf{Z}^{l}$,so each scalar output is obtained by convolving the filter $\\mathbf{W}$ with the corresponding channel of $\\mathbf{Z}^{l}$, and the resulting scalar outputs are summed over all channels to produce a single output for each position."
   ]
  },
  {
   "attachments": {},
   "cell_type": "markdown",
   "metadata": {},
   "source": [
    "Finally let define the bias filter as a scalar value for $\\mathbf{W}$, $b \\in \\mathbb{R}$., and let $\\mathbf{Z}_{k}^{l}(i,j)$ denote  the $k \\times k \\times m_l$ subtensor of $\\mathbf{Z}^{l}$ at position $(i,j)$. Then, we can define the net signal at neuron $z_{i,j}^{l+1}$ in layer $l+1$ as\n",
    "\n",
    "$$\\text{net}_{i,j}^{l+1} = \\text{Sum}(\\mathbf{Z}_{k}^{l}(i,j) \\odot \\mathbf{W})+ b$$\n",
    "\n",
    "and the value of the neuron $z_{i,j}^{l+1}$  is obtained by applying some activation function $f$ to the net signal\n",
    "\n",
    "$$z_{i,j}^{l+1} = f \\bigg(\\text{Sum}(\\mathbf{Z}_{k}^{l}(i,j) \\odot \\mathbf{W})+ b \\bigg)$$\n",
    "\n",
    "the activation function can be nay of the ones typically used in neural networks. In the notation of convolitions, the values of the neurons in layer $l+1$ is given as follows\n",
    "\n",
    "$$\\mathbf{Z}^{l+1} = f\\bigg((\\mathbf{Z}^l \\ast \\mathbf{W}) \\oplus b \\bigg)$$\n",
    "\n",
    "where $\\oplus$ indicatews that the bias term $b$ is added to each element of the $(n_l-k+1)\\times (n_l-k+1) \\times 1$ matrix $\\mathbf{Z}^l \\ast \\mathbf{W}$."
   ]
  },
  {
   "attachments": {},
   "cell_type": "markdown",
   "metadata": {},
   "source": [
    "### **1.2.2 Multiple 3D Filters**\n",
    "\n",
    "When multiple filters are applied to an input tensor in a CNN, the output tensor's depth increases. Each filter generates a single channel in the output tensor, and the number of filters applied determines the number of channels in the output tensor. This **increased depth allows the network to learn a larger set of features from the input tensor**. The combination of multiple filters at each layer helps the network to identify and learn different features in the input data, which in turn improves the network's performance on a given task."
   ]
  },
  {
   "attachments": {},
   "cell_type": "markdown",
   "metadata": {},
   "source": [
    "Consider one 3D filter $\\mathbf{W} \\in \\mathbb{R}^{k \\times k \\times m_l}$ with a corresponding bias term b and $\\mathbf{Z}^l \\in \\mathbb{R}^{n_l \\times n_l \\times m_l}$. The convolution results in a $(n_l-k+1) \\times (n_l -k+1) \\times 1$ matrix of neurons in layer $l+1$. But  in order to improves the network's performance we expect as result a tensor of neuron values of dimension $(n_l-k+1) \\times (n_l -k+1) \\times m_{l+1}$ at layer $l+1$. Therefore, we need $m_{l+1}$ different $\\mathbf{W}_q \\in \\mathbb{R}^{k \\times k \\times m_l}$ with corresponding bias term $b_q$, as follow\n",
    "\n",
    "$$z_{i,j,q}^{l+1} = f \\bigg(\\text{Sum}(\\mathbf{Z}_{k}^{l}(i,j) \\odot \\mathbf{W}_q)+ b_q \\bigg)$$\n",
    "\n",
    "wich can be written as\n",
    "\n",
    "$$\\mathbf{Z}^{l+1} = \\begin{bmatrix}\n",
    "f \\bigg(\\text{Sum}(\\mathbf{Z}_k^l(i,j) \\odot\\mathbf{W}_1) \\oplus b_1\\bigg)\\\\\n",
    "\\vdots\\\\\n",
    "f \\bigg(\\text{Sum}(\\mathbf{Z}_k^l(i,j) \\odot \\mathbf{W}_q) \\oplus b_q \\bigg)\\\\\n",
    "\\vdots\\\\\n",
    "f \\bigg(\\text{Sum}(\\mathbf{Z}_k^l(i,j) \\odot \\mathbf{W}_{m_{l+1}}) \\oplus b_{m_{l+1}}\\bigg)\n",
    "\\end{bmatrix} =\n",
    "\\begin{bmatrix}\n",
    "f \\bigg(\\mathbf{Z}^l \\ast \\mathbf{W}_1 \\oplus b_1\\bigg)\\\\\n",
    "\\vdots\\\\\n",
    "f \\bigg(\\mathbf{Z}^l \\ast \\mathbf{W}_q \\oplus b_q \\bigg)\\\\\n",
    "\\vdots\\\\\n",
    "f \\bigg(\\mathbf{Z}^l \\ast \\mathbf{W}_{m_{l+1}} \\oplus b_{m_{l+1}}\\bigg)\n",
    "\\end{bmatrix}\n",
    "$$\n",
    "\n",
    "where each element is a matrix of dimension $(n_l-k+1) \\times (n_l -k+1)$, for example take the $q^{th}$ element:\n",
    "\n",
    "$$f \\bigg(\\text{Sum}(\\mathbf{Z}_k^l(i,j) \\odot \\mathbf{W}_q) \\oplus b_q \\bigg) = \n",
    "\\begin{bmatrix}\n",
    "f\\bigg(\\text{Sum}(Z_k^l(1,1) \\odot \\mathbf{W}_q) \\oplus b_q\\bigg) & \\cdots & f\\bigg(\\text{Sum}(Z_k^l(1,n_l-k+1) \\odot \\mathbf{W}_q) \\oplus b_q\\bigg)\\\\ \n",
    "\\vdots  & \\ddots & \\vdots \\\\\n",
    "f\\bigg(\\text{Sum}(Z_k^l(_ln-k+1,1) \\odot \\mathbf{W}_q)\\oplus b_q \\bigg)& \\cdots & f\\bigg(\\text{Sum}(Z_k^l(n_l-k+1,n_l-k+1) \\odot \\mathbf{W}_q)\\oplus b_q\\bigg)\n",
    "\\end{bmatrix}$$\n",
    "\n",
    "In summary, The depth of the output tensor is determined by the number of filters used, and each depth slice represents the output of a particular filter. Therefore, the number of neurons in the output tensor is equal to the product of the spatial dimensions of the output tensor and the number of filters used in the convolution operation. So layer $\\mathbf{Z}^{l+1}$ has $(n_l-k+1) \\times (n_l -k+1) \\times m_l$ neurons, with $m_l$ filters apply to each matrix $(n_l-k+1) \\times (n_l -k+1)$."
   ]
  },
  {
   "attachments": {},
   "cell_type": "markdown",
   "metadata": {},
   "source": [
    "### **1.2.3 Padding and Striding**\n",
    "\n",
    "One of the issues with the convolution operation is that the size of the tensor will decrease in each successive CNN layer. If $l$ has size $n_l \\times n_l \\times m_l$, and  we use filters of size $k \\times k \\times m_l$, then each channel in a layer $l+1$ will have size $(n_l-(k-1)) \\times (n_l-(k-1))$. That is, the number of rows and columns for each successive tensor will shrink by $k-1$.\n",
    "\n"
   ]
  },
  {
   "attachments": {},
   "cell_type": "markdown",
   "metadata": {},
   "source": [
    "**Padding**\n",
    "\n",
    "Padding involves adding zeros or other values around the edges of the input data before applying a convolutional filter. The purpose of padding is to preserve the spatial dimensions of the input data in the output feature map. Without padding, the spatial dimensions of the output feature map would be reduced after each convolutional layer, leading to the loss of important spatial information. By adding padding, the spatial dimensions of the output feature map can be preserved or even increased.\n",
    "\n",
    "Assume that we add $p$ rows and columns. With padding $p$, the implicit size of layer $l$ tensor is then $(n_l + 2p) \\times (n_l +2p) \\times m_l$. Assume that each filter is of size $k \\times k \\times m_l$, and assume there are $m_{l+1}$ filters, then the size of the layer $l+1$ tensor will be $(n_l + 2p -(k-1)) \\times (n_l + 2p-(k-1)) \\times m_l$. Since we want to preserve the size of the resulting tensor, we need to have\n",
    "\n",
    "$$n_l +2p - (k-1)  \\geq n_l$$\n",
    "\n",
    "wich implies $p = \\frac{k-1}{2}$"
   ]
  },
  {
   "attachments": {},
   "cell_type": "markdown",
   "metadata": {},
   "source": [
    "**Striding**\n",
    "\n",
    "Striding, on the other hand, involves moving the convolutional filter across the input data by a certain number of pixels, rather than by one pixel at a time. The purpose of striding is to control the spatial dimensions of the output feature map by reducing the number of times the convolutional filter is applied. A larger stride value leads to a smaller output feature map, while a smaller stride value leads to a larger output feature map.\n",
    "\n",
    "Consider an integer value $s \\geq 1$ called the stride. A 3D convolution of $\\mathbf{Z}^l$ with size $n_l \\times n_l \\times m_l$ with filter $\\mathbf{W}$ of size $k \\times k \\times m_l$, using stride $s$, is given as:\n",
    "\n",
    "$$\\mathbf{Z}^l\\ast \\mathbf{W} = \\begin{bmatrix}\n",
    "\\text{Sum}(\\mathbf{Z}^l_k(1,1) \\odot \\mathbf{W}) &\\text{Sum}(\\mathbf{Z}^l_k(1,1+s) \\odot \\mathbf{W}) & \\cdots & \\text{Sum}(\\mathbf{Z}^l_k(1,1+t.s) \\odot \\mathbf{W}) \\\\\n",
    "\\text{Sum}(\\mathbf{Z}^l_k(1+s,1) \\odot \\mathbf{W}) & \\text{Sum}(\\mathbf{Z}^l_k(1+s,1+s) \\odot \\mathbf{W}) & \\cdots &\\text{Sum}(\\mathbf{Z}^l_k(1+s,1+t.s) \\odot \\mathbf{W})\\\\\n",
    "\\vdots & \\vdots & \\ddots & \\vdots \\\\\n",
    "\\text{Sum}(\\mathbf{Z}^l_k(n1+t.s,1) \\odot \\mathbf{W}) & \\text{Sum}(\\mathbf{Z}^l_k(1+t.s,1+s) \\odot \\mathbf{W}) & \\cdots & \\text{Sum}(\\mathbf{Z}^l_k(1+t.s,1+t.s) \\odot \\mathbf{W})\n",
    "\\end{bmatrix}$$\n",
    "\n",
    "where $t = \\frac{n_l-k}{s}$. The convolution results in a $(t +1) \\times (t+1)$ matrix."
   ]
  }
 ],
 "metadata": {
  "kernelspec": {
   "display_name": "Python 3",
   "language": "python",
   "name": "python3"
  },
  "language_info": {
   "codemirror_mode": {
    "name": "ipython",
    "version": 3
   },
   "file_extension": ".py",
   "mimetype": "text/x-python",
   "name": "python",
   "nbconvert_exporter": "python",
   "pygments_lexer": "ipython3",
   "version": "3.10.2"
  },
  "orig_nbformat": 4,
  "vscode": {
   "interpreter": {
    "hash": "0743c798041383927c03f3bae5eca888e94e4777f716cdd511cdff96fbdedc02"
   }
  }
 },
 "nbformat": 4,
 "nbformat_minor": 2
}
